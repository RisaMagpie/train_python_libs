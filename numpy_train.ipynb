{
 "cells": [
  {
   "cell_type": "code",
   "execution_count": 1,
   "metadata": {},
   "outputs": [],
   "source": [
    "import numpy as np"
   ]
  },
  {
   "cell_type": "markdown",
   "metadata": {},
   "source": [
    "# task: 1"
   ]
  },
  {
   "cell_type": "markdown",
   "metadata": {},
   "source": [
    "1. Создайте массив длины 10, заполненный нулями\n",
    "2. Сделайте полученный массив неизменяемым"
   ]
  },
  {
   "cell_type": "code",
   "execution_count": 2,
   "metadata": {},
   "outputs": [],
   "source": [
    "arr = np.zeros(10)"
   ]
  },
  {
   "cell_type": "code",
   "execution_count": 3,
   "metadata": {},
   "outputs": [],
   "source": [
    "arr.setflags(write=False)"
   ]
  },
  {
   "cell_type": "code",
   "execution_count": 4,
   "metadata": {},
   "outputs": [
    {
     "data": {
      "text/plain": [
       "  C_CONTIGUOUS : True\n",
       "  F_CONTIGUOUS : True\n",
       "  OWNDATA : True\n",
       "  WRITEABLE : False\n",
       "  ALIGNED : True\n",
       "  WRITEBACKIFCOPY : False\n",
       "  UPDATEIFCOPY : False"
      ]
     },
     "execution_count": 4,
     "metadata": {},
     "output_type": "execute_result"
    }
   ],
   "source": [
    "arr.flags"
   ]
  },
  {
   "cell_type": "markdown",
   "metadata": {},
   "source": [
    "# task: 2"
   ]
  },
  {
   "cell_type": "markdown",
   "metadata": {},
   "source": [
    "1. Создайте массив, содержащий 5 равноотстоящих точек, покрывающих диапазон от 0 до 2*pi\n",
    "2. Создайте массив, содержащий 5 равноотстоящих в логарифмическом масштабе точек, покрывающих диапазон от 10 до 100\n",
    "3. Составьте из полученных массивов координатную сеть (meshgrid)"
   ]
  },
  {
   "cell_type": "code",
   "execution_count": 5,
   "metadata": {},
   "outputs": [],
   "source": [
    "arr_x = np.linspace(0, 2*np.pi, 5)"
   ]
  },
  {
   "cell_type": "code",
   "execution_count": 6,
   "metadata": {},
   "outputs": [],
   "source": [
    "arr_y = np.logspace(10, 100, 5)"
   ]
  },
  {
   "cell_type": "code",
   "execution_count": 7,
   "metadata": {},
   "outputs": [
    {
     "data": {
      "text/plain": [
       "[array([[0.        , 1.57079633, 3.14159265, 4.71238898, 6.28318531],\n",
       "        [0.        , 1.57079633, 3.14159265, 4.71238898, 6.28318531],\n",
       "        [0.        , 1.57079633, 3.14159265, 4.71238898, 6.28318531],\n",
       "        [0.        , 1.57079633, 3.14159265, 4.71238898, 6.28318531],\n",
       "        [0.        , 1.57079633, 3.14159265, 4.71238898, 6.28318531]]),\n",
       " array([[1.00000000e+010, 1.00000000e+010, 1.00000000e+010,\n",
       "         1.00000000e+010, 1.00000000e+010],\n",
       "        [3.16227766e+032, 3.16227766e+032, 3.16227766e+032,\n",
       "         3.16227766e+032, 3.16227766e+032],\n",
       "        [1.00000000e+055, 1.00000000e+055, 1.00000000e+055,\n",
       "         1.00000000e+055, 1.00000000e+055],\n",
       "        [3.16227766e+077, 3.16227766e+077, 3.16227766e+077,\n",
       "         3.16227766e+077, 3.16227766e+077],\n",
       "        [1.00000000e+100, 1.00000000e+100, 1.00000000e+100,\n",
       "         1.00000000e+100, 1.00000000e+100]])]"
      ]
     },
     "execution_count": 7,
     "metadata": {},
     "output_type": "execute_result"
    }
   ],
   "source": [
    "np.meshgrid(arr_x, arr_y)"
   ]
  },
  {
   "cell_type": "markdown",
   "metadata": {},
   "source": [
    "# task: 3"
   ]
  },
  {
   "cell_type": "markdown",
   "metadata": {},
   "source": [
    "Создайте двумерный массив 5х5 с элементами 1, 2, 3 и 4 под главной диагональю, остальные элементы заполните нулями"
   ]
  },
  {
   "cell_type": "code",
   "execution_count": 8,
   "metadata": {},
   "outputs": [],
   "source": [
    "size = 100"
   ]
  },
  {
   "cell_type": "code",
   "execution_count": 9,
   "metadata": {},
   "outputs": [
    {
     "name": "stdout",
     "output_type": "stream",
     "text": [
      "17.9 µs ± 219 ns per loop (mean ± std. dev. of 7 runs, 10000 loops each)\n"
     ]
    }
   ],
   "source": [
    "%%timeit\n",
    "arr1 = np.diag(range(1, size), -1)"
   ]
  },
  {
   "cell_type": "code",
   "execution_count": 10,
   "metadata": {},
   "outputs": [
    {
     "name": "stdout",
     "output_type": "stream",
     "text": [
      "40.2 µs ± 102 ns per loop (mean ± std. dev. of 7 runs, 10000 loops each)\n"
     ]
    }
   ],
   "source": [
    "%%timeit\n",
    "arr2 = np.zeros((size, size))\n",
    "arr2[range(1,size), range(0,size-1)] = range(1,size)"
   ]
  },
  {
   "cell_type": "markdown",
   "metadata": {},
   "source": [
    "### Ответ:"
   ]
  },
  {
   "cell_type": "code",
   "execution_count": 11,
   "metadata": {},
   "outputs": [
    {
     "data": {
      "text/plain": [
       "array([[0, 0, 0, 0, 0],\n",
       "       [1, 0, 0, 0, 0],\n",
       "       [0, 2, 0, 0, 0],\n",
       "       [0, 0, 3, 0, 0],\n",
       "       [0, 0, 0, 4, 0]])"
      ]
     },
     "execution_count": 11,
     "metadata": {},
     "output_type": "execute_result"
    }
   ],
   "source": [
    "np.diag(range(1, 5), -1)"
   ]
  },
  {
   "cell_type": "markdown",
   "metadata": {},
   "source": [
    "# task: 4 "
   ]
  },
  {
   "cell_type": "markdown",
   "metadata": {},
   "source": [
    "1. Создайте функцию-генератор, последовательно возвращающую целые числа от 0 до 9\n",
    "2. Создайте массив из построенного генератора"
   ]
  },
  {
   "cell_type": "code",
   "execution_count": 12,
   "metadata": {},
   "outputs": [],
   "source": [
    "def gen_num(min_num, max_num):\n",
    "    num = min_num\n",
    "    while num <= max_num:\n",
    "        yield num\n",
    "        num += 1   "
   ]
  },
  {
   "cell_type": "code",
   "execution_count": 13,
   "metadata": {},
   "outputs": [],
   "source": [
    "stop_num = 10000"
   ]
  },
  {
   "cell_type": "code",
   "execution_count": 14,
   "metadata": {},
   "outputs": [
    {
     "name": "stdout",
     "output_type": "stream",
     "text": [
      "851 µs ± 25.4 µs per loop (mean ± std. dev. of 7 runs, 1000 loops each)\n"
     ]
    }
   ],
   "source": [
    "%%timeit\n",
    "gen = gen_num(0, stop_num)\n",
    "np.fromiter(gen, int)"
   ]
  },
  {
   "cell_type": "code",
   "execution_count": 15,
   "metadata": {},
   "outputs": [],
   "source": [
    "def gen_num_range(min_num, max_num):\n",
    "    for num in range(min_num, max_num+1):\n",
    "        yield num"
   ]
  },
  {
   "cell_type": "code",
   "execution_count": 16,
   "metadata": {},
   "outputs": [
    {
     "name": "stdout",
     "output_type": "stream",
     "text": [
      "589 µs ± 18.7 µs per loop (mean ± std. dev. of 7 runs, 1000 loops each)\n"
     ]
    }
   ],
   "source": [
    "%%timeit\n",
    "gen = gen_num_range(0, stop_num)\n",
    "np.fromiter(gen, int)"
   ]
  },
  {
   "cell_type": "markdown",
   "metadata": {},
   "source": [
    "### Ответ"
   ]
  },
  {
   "cell_type": "code",
   "execution_count": 17,
   "metadata": {},
   "outputs": [
    {
     "data": {
      "text/plain": [
       "array([0, 1, 2, 3, 4, 5, 6, 7, 8, 9])"
      ]
     },
     "execution_count": 17,
     "metadata": {},
     "output_type": "execute_result"
    }
   ],
   "source": [
    "def gen_num_range(min_num, max_num):\n",
    "    for num in range(min_num, max_num+1):\n",
    "        yield num\n",
    "        \n",
    "gen = gen_num_range(0, 9)\n",
    "np.fromiter(gen, int)"
   ]
  },
  {
   "cell_type": "markdown",
   "metadata": {},
   "source": [
    "# task: 9\n",
    "\n",
    "1. Создайте масив из четырех элементов: 0, 10, 20, 30\n",
    "2. Создайте двухмерный массив 4x5, в котором первый столбец - массив с шага 1, а каждый элемент каждой строки, начиная со второго,  больше предыдущего элемента этой же строки на 1."
   ]
  },
  {
   "cell_type": "code",
   "execution_count": 18,
   "metadata": {},
   "outputs": [],
   "source": [
    "last_elem = 4*1000\n",
    "\n",
    "a = np.arange(0, last_elem, 10)\n",
    "b = np.arange(0,5)"
   ]
  },
  {
   "cell_type": "code",
   "execution_count": 19,
   "metadata": {},
   "outputs": [
    {
     "name": "stdout",
     "output_type": "stream",
     "text": [
      "5.22 µs ± 187 ns per loop (mean ± std. dev. of 7 runs, 100000 loops each)\n"
     ]
    }
   ],
   "source": [
    "%%timeit\n",
    "b+a[:, np.newaxis]"
   ]
  },
  {
   "cell_type": "code",
   "execution_count": 20,
   "metadata": {},
   "outputs": [
    {
     "name": "stdout",
     "output_type": "stream",
     "text": [
      "5.02 µs ± 9.78 ns per loop (mean ± std. dev. of 7 runs, 100000 loops each)\n"
     ]
    }
   ],
   "source": [
    "%%timeit\n",
    "b+a.reshape(-1,1)"
   ]
  },
  {
   "cell_type": "markdown",
   "metadata": {},
   "source": [
    "### Ответ:"
   ]
  },
  {
   "cell_type": "code",
   "execution_count": 21,
   "metadata": {},
   "outputs": [
    {
     "name": "stdout",
     "output_type": "stream",
     "text": [
      "[[ 0  1  2  3  4]\n",
      " [10 11 12 13 14]\n",
      " [20 21 22 23 24]\n",
      " [30 31 32 33 34]]\n"
     ]
    }
   ],
   "source": [
    "last_elem = 4*10\n",
    "a = np.arange(0, last_elem, 10)\n",
    "b = np.arange(0,5)\n",
    "print(b+a.reshape(-1,1))"
   ]
  },
  {
   "cell_type": "markdown",
   "metadata": {},
   "source": [
    "# task: 11\n",
    "\n",
    "Создайте двумерный массив 8х8, заполненный 0 и 1 в шахматном порядке"
   ]
  },
  {
   "cell_type": "code",
   "execution_count": 22,
   "metadata": {},
   "outputs": [],
   "source": [
    "a = np.zeros((8, 8))"
   ]
  },
  {
   "cell_type": "code",
   "execution_count": 23,
   "metadata": {},
   "outputs": [],
   "source": [
    "a[0:9:2, 0:9:2] = 1"
   ]
  },
  {
   "cell_type": "code",
   "execution_count": 24,
   "metadata": {},
   "outputs": [],
   "source": [
    "a[1:9:2, 1:9:2] = 1"
   ]
  },
  {
   "cell_type": "code",
   "execution_count": 25,
   "metadata": {},
   "outputs": [
    {
     "data": {
      "text/plain": [
       "array([[1., 0., 1., 0., 1., 0., 1., 0.],\n",
       "       [0., 1., 0., 1., 0., 1., 0., 1.],\n",
       "       [1., 0., 1., 0., 1., 0., 1., 0.],\n",
       "       [0., 1., 0., 1., 0., 1., 0., 1.],\n",
       "       [1., 0., 1., 0., 1., 0., 1., 0.],\n",
       "       [0., 1., 0., 1., 0., 1., 0., 1.],\n",
       "       [1., 0., 1., 0., 1., 0., 1., 0.],\n",
       "       [0., 1., 0., 1., 0., 1., 0., 1.]])"
      ]
     },
     "execution_count": 25,
     "metadata": {},
     "output_type": "execute_result"
    }
   ],
   "source": [
    "a"
   ]
  },
  {
   "cell_type": "markdown",
   "metadata": {},
   "source": [
    "# task: 12\n",
    "\n",
    "1. Создайте одномерный массив целых чисел от 1 до 5\n",
    "2. Вставьте 0 между каждой парой соседних элементов"
   ]
  },
  {
   "cell_type": "code",
   "execution_count": 26,
   "metadata": {},
   "outputs": [],
   "source": [
    "length = 5\n",
    "\n",
    "a = np.arange(1, length+1)"
   ]
  },
  {
   "cell_type": "code",
   "execution_count": 27,
   "metadata": {},
   "outputs": [
    {
     "name": "stdout",
     "output_type": "stream",
     "text": [
      "12.7 µs ± 40.5 ns per loop (mean ± std. dev. of 7 runs, 100000 loops each)\n"
     ]
    }
   ],
   "source": [
    "%%timeit\n",
    "np.insert(a, np.arange(1, length), 0)"
   ]
  },
  {
   "cell_type": "code",
   "execution_count": 28,
   "metadata": {},
   "outputs": [
    {
     "name": "stdout",
     "output_type": "stream",
     "text": [
      "12.5 µs ± 53.1 ns per loop (mean ± std. dev. of 7 runs, 100000 loops each)\n"
     ]
    }
   ],
   "source": [
    "%%timeit\n",
    "np.insert(a, slice(1, length), 0)"
   ]
  },
  {
   "cell_type": "code",
   "execution_count": 29,
   "metadata": {},
   "outputs": [
    {
     "name": "stdout",
     "output_type": "stream",
     "text": [
      "986 ns ± 11 ns per loop (mean ± std. dev. of 7 runs, 1000000 loops each)\n"
     ]
    }
   ],
   "source": [
    "%%timeit\n",
    "b = np.zeros(length*2-1)\n",
    "b[0::2] = a"
   ]
  },
  {
   "cell_type": "markdown",
   "metadata": {},
   "source": [
    "### Ответ:"
   ]
  },
  {
   "cell_type": "code",
   "execution_count": 30,
   "metadata": {},
   "outputs": [
    {
     "name": "stdout",
     "output_type": "stream",
     "text": [
      "[1. 0. 2. 0. 3. 0. 4. 0. 5.]\n"
     ]
    }
   ],
   "source": [
    "length = 5\n",
    "a = np.arange(1, length+1)\n",
    "b = np.zeros(length*2-1)\n",
    "b[0::2] = a\n",
    "print(b)"
   ]
  },
  {
   "cell_type": "markdown",
   "metadata": {},
   "source": [
    "# task: 13"
   ]
  },
  {
   "cell_type": "markdown",
   "metadata": {},
   "source": [
    "\"Что будет выведено на экран?\n",
    "```\n",
    "x = np.arange(36).reshape(2,3,2,3)\n",
    "print(x[...,0,...])\"\n",
    "ellipsis\n",
    "```\n",
    "\n",
    "14\n",
    "\"\"\"\n",
    "\"Что будет выведено на экран?\n",
    "x = np.arange(16).reshape(4,4)\n",
    "y = x[:,[2,3]]\n",
    "y[:] = 0\n",
    "print(x)\n",
    "y = x[:,:2]\n",
    "y[:] = 0\n",
    "print(x)\"\n",
    "\"\"\""
   ]
  },
  {
   "cell_type": "markdown",
   "metadata": {},
   "source": [
    "# task: 15\n",
    "\n",
    "Замените отрицательные элементы массива нулем."
   ]
  },
  {
   "cell_type": "code",
   "execution_count": 31,
   "metadata": {},
   "outputs": [],
   "source": [
    "a = np.random.rand(3, 4) - 0.5"
   ]
  },
  {
   "cell_type": "code",
   "execution_count": 32,
   "metadata": {},
   "outputs": [
    {
     "data": {
      "text/plain": [
       "array([[-0.18615335, -0.24248197, -0.18481663, -0.12594967],\n",
       "       [ 0.29080734,  0.37605767, -0.16107647, -0.05902807],\n",
       "       [-0.37095364, -0.2517239 , -0.27511658, -0.44873419]])"
      ]
     },
     "execution_count": 32,
     "metadata": {},
     "output_type": "execute_result"
    }
   ],
   "source": [
    "a"
   ]
  },
  {
   "cell_type": "code",
   "execution_count": 33,
   "metadata": {},
   "outputs": [],
   "source": [
    "a[a < 0] = 0"
   ]
  },
  {
   "cell_type": "code",
   "execution_count": 34,
   "metadata": {},
   "outputs": [
    {
     "data": {
      "text/plain": [
       "array([[0.        , 0.        , 0.        , 0.        ],\n",
       "       [0.29080734, 0.37605767, 0.        , 0.        ],\n",
       "       [0.        , 0.        , 0.        , 0.        ]])"
      ]
     },
     "execution_count": 34,
     "metadata": {},
     "output_type": "execute_result"
    }
   ],
   "source": [
    "a"
   ]
  },
  {
   "cell_type": "markdown",
   "metadata": {},
   "source": [
    "# task: 16\n",
    "\n",
    "На примере целочисленного массива ```x = np.array([[1,2,3], [1,1,1], [2,2,1], [2,2,2]], dtype=int)``` составьте новый массив, не содержащий строки, полностью заполненные одним уникальным значением."
   ]
  },
  {
   "cell_type": "code",
   "execution_count": 35,
   "metadata": {},
   "outputs": [],
   "source": [
    "x = np.array([[1, 2, 3], [1, 1, 1], [2, 2, 1], [2, 2, 2]], dtype=int)"
   ]
  },
  {
   "cell_type": "code",
   "execution_count": 36,
   "metadata": {},
   "outputs": [
    {
     "data": {
      "text/plain": [
       "array([[1, 2, 3],\n",
       "       [2, 2, 1]])"
      ]
     },
     "execution_count": 36,
     "metadata": {},
     "output_type": "execute_result"
    }
   ],
   "source": [
    "x[np.max(x, axis = 1) > np.min(x, axis = 1)]"
   ]
  },
  {
   "cell_type": "markdown",
   "metadata": {},
   "source": [
    "# task: 17\n",
    "\n",
    "Для заданного одномерного массива x выведите все элементы, не превышающие своих соседей (первый и последний элемент сравниваются только со вторым и предпоследним соответственно)."
   ]
  },
  {
   "cell_type": "code",
   "execution_count": 37,
   "metadata": {},
   "outputs": [],
   "source": [
    "x = np.random.randint(0, 10, 10)"
   ]
  },
  {
   "cell_type": "code",
   "execution_count": 38,
   "metadata": {},
   "outputs": [
    {
     "data": {
      "text/plain": [
       "array([1, 1, 9, 6, 4, 1, 2, 3, 2, 9])"
      ]
     },
     "execution_count": 38,
     "metadata": {},
     "output_type": "execute_result"
    }
   ],
   "source": [
    "x"
   ]
  },
  {
   "cell_type": "code",
   "execution_count": 39,
   "metadata": {},
   "outputs": [
    {
     "data": {
      "text/plain": [
       "array([1, 1, 1, 2])"
      ]
     },
     "execution_count": 39,
     "metadata": {},
     "output_type": "execute_result"
    }
   ],
   "source": [
    "x[np.r_[x[:-1]<=x[1:], True] & np.r_[True, x[1:]<=x[:-1]]]"
   ]
  },
  {
   "cell_type": "markdown",
   "metadata": {},
   "source": [
    "# task: 18\n",
    "\n",
    "1. Создайте двумерный массив 3x3, заполненный случайными числами от 0 до 9\n",
    "2. Отсортируйте строки массива по возрастанию значения во втором столбце"
   ]
  },
  {
   "cell_type": "code",
   "execution_count": 40,
   "metadata": {},
   "outputs": [],
   "source": [
    "a = np.random.randint(0, 10, (3, 3))"
   ]
  },
  {
   "cell_type": "code",
   "execution_count": 41,
   "metadata": {},
   "outputs": [
    {
     "data": {
      "text/plain": [
       "array([[5, 5, 9],\n",
       "       [1, 0, 5],\n",
       "       [1, 4, 4]])"
      ]
     },
     "execution_count": 41,
     "metadata": {},
     "output_type": "execute_result"
    }
   ],
   "source": [
    "a"
   ]
  },
  {
   "cell_type": "code",
   "execution_count": 42,
   "metadata": {},
   "outputs": [
    {
     "data": {
      "text/plain": [
       "array([[1, 0, 5],\n",
       "       [1, 4, 4],\n",
       "       [5, 5, 9]])"
      ]
     },
     "execution_count": 42,
     "metadata": {},
     "output_type": "execute_result"
    }
   ],
   "source": [
    "a[np.argsort(a[:, 1])]"
   ]
  },
  {
   "cell_type": "markdown",
   "metadata": {},
   "source": [
    "# task 19\n",
    "Поменяйте местами первую и вторую строки двумерного массива"
   ]
  },
  {
   "cell_type": "code",
   "execution_count": 43,
   "metadata": {},
   "outputs": [],
   "source": [
    "shape = (100, 100)\n",
    "\n",
    "a = np.random.randint(0, 20, shape)"
   ]
  },
  {
   "cell_type": "code",
   "execution_count": 44,
   "metadata": {},
   "outputs": [],
   "source": [
    "b = a.copy()"
   ]
  },
  {
   "cell_type": "code",
   "execution_count": 45,
   "metadata": {},
   "outputs": [
    {
     "name": "stdout",
     "output_type": "stream",
     "text": [
      "7.88 µs ± 200 ns per loop (mean ± std. dev. of 7 runs, 100000 loops each)\n"
     ]
    }
   ],
   "source": [
    "%%timeit\n",
    "np.vstack((a[1], a[0], a[2:]))"
   ]
  },
  {
   "cell_type": "code",
   "execution_count": 46,
   "metadata": {},
   "outputs": [
    {
     "name": "stdout",
     "output_type": "stream",
     "text": [
      "4.24 µs ± 17.6 ns per loop (mean ± std. dev. of 7 runs, 100000 loops each)\n"
     ]
    }
   ],
   "source": [
    "%%timeit\n",
    "a[[1, 0]] = a[[0, 1]]"
   ]
  },
  {
   "cell_type": "code",
   "execution_count": 47,
   "metadata": {},
   "outputs": [
    {
     "name": "stdout",
     "output_type": "stream",
     "text": [
      "959 ns ± 30.2 ns per loop (mean ± std. dev. of 7 runs, 1000000 loops each)\n"
     ]
    }
   ],
   "source": [
    "%%timeit\n",
    "b[1::-1] = b[0:2]"
   ]
  },
  {
   "cell_type": "markdown",
   "metadata": {},
   "source": [
    "### Ответ:"
   ]
  },
  {
   "cell_type": "code",
   "execution_count": 48,
   "metadata": {},
   "outputs": [
    {
     "name": "stdout",
     "output_type": "stream",
     "text": [
      "In:\n",
      " [[19 19  4  0]\n",
      " [12 16 15 13]\n",
      " [19  9  5  9]]\n",
      "Out:\n",
      " [[12 16 15 13]\n",
      " [19 19  4  0]\n",
      " [19  9  5  9]]\n"
     ]
    }
   ],
   "source": [
    "shape = (3, 4)\n",
    "\n",
    "a = np.random.randint(0, 20, shape)\n",
    "print(\"In:\\n\", a)\n",
    "a[1::-1] = a[0:2]\n",
    "print(\"Out:\\n\", a)"
   ]
  },
  {
   "cell_type": "markdown",
   "metadata": {},
   "source": [
    "# task 20\n",
    "\n",
    "1. Создайте массив 3x5, заполненный числами от 0 до 14\n",
    "2. Выберите 1, 3 строки и 2, 4 столбцы, не удаляя элементы из массива"
   ]
  },
  {
   "cell_type": "code",
   "execution_count": 49,
   "metadata": {},
   "outputs": [],
   "source": [
    "shape = (30, 150)\n",
    "a = np.random.randint(0, 15, shape)"
   ]
  },
  {
   "cell_type": "code",
   "execution_count": 50,
   "metadata": {},
   "outputs": [
    {
     "name": "stdout",
     "output_type": "stream",
     "text": [
      "9.75 µs ± 402 ns per loop (mean ± std. dev. of 7 runs, 100000 loops each)\n"
     ]
    }
   ],
   "source": [
    "%%timeit\n",
    "a[np.ix_([0, 2], [1, 3])]"
   ]
  },
  {
   "cell_type": "code",
   "execution_count": 51,
   "metadata": {},
   "outputs": [
    {
     "name": "stdout",
     "output_type": "stream",
     "text": [
      "4.53 µs ± 16.5 ns per loop (mean ± std. dev. of 7 runs, 100000 loops each)\n"
     ]
    }
   ],
   "source": [
    "%%timeit\n",
    "a[[0, 2]][:, [1, 3]]"
   ]
  },
  {
   "cell_type": "markdown",
   "metadata": {},
   "source": [
    "### Ответ:"
   ]
  },
  {
   "cell_type": "code",
   "execution_count": 52,
   "metadata": {},
   "outputs": [
    {
     "name": "stdout",
     "output_type": "stream",
     "text": [
      "In:\n",
      " [[14  8 13  9  4]\n",
      " [ 8  5  0  7 12]\n",
      " [12  0  4  2 11]]\n",
      "Out:\n",
      " [[8 9]\n",
      " [0 2]]\n"
     ]
    }
   ],
   "source": [
    "shape = (3, 5)\n",
    "a = np.random.randint(0, 15, shape)\n",
    "print(\"In:\\n\", a)\n",
    "print(\"Out:\\n\", a[[0, 2]][:, [1, 3]])"
   ]
  },
  {
   "cell_type": "markdown",
   "metadata": {},
   "source": [
    "# task 21\n",
    "Что будет выведено на экран?\n",
    "\n",
    "```Python\n",
    "x = np.arange(5)\n",
    "x[[0,0,1]] = range(3)\n",
    "print(x)\n",
    "x[[1,2,1]] += 1\n",
    "print(x)\n",
    "```"
   ]
  },
  {
   "cell_type": "markdown",
   "metadata": {},
   "source": [
    "**My ans:**\n",
    "```\n",
    "[1, 2, 2, 3, 4]\n",
    "[1, 3, 3, 3, 4]\n",
    "```"
   ]
  },
  {
   "cell_type": "code",
   "execution_count": 53,
   "metadata": {},
   "outputs": [
    {
     "name": "stdout",
     "output_type": "stream",
     "text": [
      "[1 2 2 3 4]\n",
      "[1 3 3 3 4]\n"
     ]
    }
   ],
   "source": [
    "x = np.arange(5)\n",
    "x[[0, 0, 1]] = range(3)\n",
    "print(x)\n",
    "x[[1, 2, 1]] += 1\n",
    "print(x)"
   ]
  },
  {
   "cell_type": "markdown",
   "metadata": {},
   "source": [
    "# task: 22\n",
    "Перечислите все известные вам способы преобразования заданного n-мерного массива в одномерный. Какой из способов работает быстрее и почему?"
   ]
  },
  {
   "cell_type": "code",
   "execution_count": 54,
   "metadata": {},
   "outputs": [],
   "source": [
    "shape_param = 100\n",
    "\n",
    "x = np.random.randint(0, 10, [shape_param]*4)"
   ]
  },
  {
   "cell_type": "code",
   "execution_count": 55,
   "metadata": {},
   "outputs": [
    {
     "name": "stdout",
     "output_type": "stream",
     "text": [
      "CPU times: user 43 µs, sys: 3 µs, total: 46 µs\n",
      "Wall time: 49.4 µs\n"
     ]
    },
    {
     "data": {
      "text/plain": [
       "(100000000,)"
      ]
     },
     "execution_count": 55,
     "metadata": {},
     "output_type": "execute_result"
    }
   ],
   "source": [
    "%%time\n",
    "np.ravel(x).shape"
   ]
  },
  {
   "cell_type": "code",
   "execution_count": 56,
   "metadata": {},
   "outputs": [
    {
     "name": "stdout",
     "output_type": "stream",
     "text": [
      "CPU times: user 40 µs, sys: 0 ns, total: 40 µs\n",
      "Wall time: 43.9 µs\n"
     ]
    },
    {
     "data": {
      "text/plain": [
       "(100000000,)"
      ]
     },
     "execution_count": 56,
     "metadata": {},
     "output_type": "execute_result"
    }
   ],
   "source": [
    "%%time\n",
    "np.reshape(x, (-1,)).shape"
   ]
  },
  {
   "cell_type": "code",
   "execution_count": 57,
   "metadata": {},
   "outputs": [
    {
     "name": "stdout",
     "output_type": "stream",
     "text": [
      "CPU times: user 138 ms, sys: 140 ms, total: 278 ms\n",
      "Wall time: 277 ms\n"
     ]
    },
    {
     "data": {
      "text/plain": [
       "(100000000,)"
      ]
     },
     "execution_count": 57,
     "metadata": {},
     "output_type": "execute_result"
    }
   ],
   "source": [
    "%%time\n",
    "x.flatten().shape"
   ]
  },
  {
   "cell_type": "markdown",
   "metadata": {},
   "source": [
    "### Ответ:\n",
    "\n",
    "reshape и ravel работают с view, в то время как flatten создает копию. ravel - частный случай reshape."
   ]
  },
  {
   "cell_type": "markdown",
   "metadata": {},
   "source": [
    "# task: 23\n",
    "1. Создайте массив, заполненный случайными значениями\n",
    "2. Замените максимальные значения массива средним"
   ]
  },
  {
   "cell_type": "code",
   "execution_count": 58,
   "metadata": {},
   "outputs": [],
   "source": [
    "a = np.random.randint(0, 9, 1000)"
   ]
  },
  {
   "cell_type": "code",
   "execution_count": 59,
   "metadata": {},
   "outputs": [],
   "source": [
    "b = a.copy()\n",
    "c = a.copy()\n",
    "d = a.copy()"
   ]
  },
  {
   "cell_type": "code",
   "execution_count": 60,
   "metadata": {},
   "outputs": [
    {
     "name": "stdout",
     "output_type": "stream",
     "text": [
      "17.7 µs ± 568 ns per loop (mean ± std. dev. of 7 runs, 100000 loops each)\n"
     ]
    }
   ],
   "source": [
    "%%timeit\n",
    "np.place(a, a==np.max(a), np.mean(a))"
   ]
  },
  {
   "cell_type": "code",
   "execution_count": 61,
   "metadata": {},
   "outputs": [
    {
     "name": "stdout",
     "output_type": "stream",
     "text": [
      "15.3 µs ± 42.7 ns per loop (mean ± std. dev. of 7 runs, 100000 loops each)\n"
     ]
    }
   ],
   "source": [
    "%%timeit\n",
    "b[b == np.max(b)] = np.mean(b)"
   ]
  },
  {
   "cell_type": "code",
   "execution_count": 62,
   "metadata": {},
   "outputs": [
    {
     "name": "stdout",
     "output_type": "stream",
     "text": [
      "14.5 µs ± 447 ns per loop (mean ± std. dev. of 7 runs, 100000 loops each)\n"
     ]
    }
   ],
   "source": [
    "%%timeit\n",
    "np.put(c, np.max(c), np.mean(c))"
   ]
  },
  {
   "cell_type": "code",
   "execution_count": 63,
   "metadata": {},
   "outputs": [
    {
     "name": "stdout",
     "output_type": "stream",
     "text": [
      "10.6 µs ± 154 ns per loop (mean ± std. dev. of 7 runs, 100000 loops each)\n"
     ]
    }
   ],
   "source": [
    "%%timeit\n",
    "d[np.argmax(d)] = np.mean(d)\n",
    "# возвращает только одно значение индекса, а не все"
   ]
  },
  {
   "cell_type": "markdown",
   "metadata": {},
   "source": [
    "### Ответ:"
   ]
  },
  {
   "cell_type": "code",
   "execution_count": 64,
   "metadata": {},
   "outputs": [
    {
     "name": "stdout",
     "output_type": "stream",
     "text": [
      "In:\n",
      " [0. 0. 7. 6. 3. 0. 2. 4. 7. 1.]\n",
      "Mean: 3.0, Max: 7.0\n",
      "Out:\n",
      " [0. 0. 3. 6. 3. 0. 2. 4. 3. 1.]\n"
     ]
    }
   ],
   "source": [
    "a = np.random.randint(0, 9, 10).astype(float)\n",
    "print(\"In:\\n\", a)\n",
    "print(f\"Mean: {np.mean(a)}, Max: {np.max(a)}\")\n",
    "a[a == np.max(a)] = np.mean(a)\n",
    "print(\"Out:\\n\", a)"
   ]
  },
  {
   "cell_type": "markdown",
   "metadata": {},
   "source": [
    "# task: 24\n",
    "1. Создайте двумерный массив 6x6, заполненный случайными значениями\n",
    "2. Сумму по каждой строке поделите на минимальный элемент из столбца с тем же индексом"
   ]
  },
  {
   "cell_type": "code",
   "execution_count": 65,
   "metadata": {},
   "outputs": [],
   "source": [
    "a = np.random.randint(0, 10, (6, 6))"
   ]
  },
  {
   "cell_type": "code",
   "execution_count": 66,
   "metadata": {},
   "outputs": [
    {
     "data": {
      "text/plain": [
       "array([[7, 1, 6, 7, 1, 0],\n",
       "       [7, 4, 4, 5, 7, 4],\n",
       "       [8, 3, 2, 1, 1, 1],\n",
       "       [4, 9, 2, 0, 2, 2],\n",
       "       [1, 2, 5, 4, 2, 4],\n",
       "       [1, 6, 8, 2, 0, 6]])"
      ]
     },
     "execution_count": 66,
     "metadata": {},
     "output_type": "execute_result"
    }
   ],
   "source": [
    "a"
   ]
  },
  {
   "cell_type": "code",
   "execution_count": 67,
   "metadata": {},
   "outputs": [
    {
     "data": {
      "text/plain": [
       "array([1, 1, 2, 0, 0, 0])"
      ]
     },
     "execution_count": 67,
     "metadata": {},
     "output_type": "execute_result"
    }
   ],
   "source": [
    "np.min(a, axis=0)"
   ]
  },
  {
   "cell_type": "code",
   "execution_count": 68,
   "metadata": {},
   "outputs": [
    {
     "name": "stderr",
     "output_type": "stream",
     "text": [
      "/opt/conda/lib/python3.6/site-packages/ipykernel_launcher.py:1: RuntimeWarning: divide by zero encountered in true_divide\n",
      "  \"\"\"Entry point for launching an IPython kernel.\n"
     ]
    },
    {
     "data": {
      "text/plain": [
       "array([22., 31.,  8., inf, inf, inf])"
      ]
     },
     "execution_count": 68,
     "metadata": {},
     "output_type": "execute_result"
    }
   ],
   "source": [
    "np.sum(a, axis=1)/np.min(a, axis=0)"
   ]
  },
  {
   "cell_type": "markdown",
   "metadata": {},
   "source": [
    "# task: 25\n",
    "\n",
    "1. Создайте одномерный массив длины 10, заполненный случайными значениями\n",
    "2. Линейно отобразите элементы массива в отрезок [0, 1], при этом минимальный элемент должен отобразиться в 0, а максимальный - в 1"
   ]
  },
  {
   "cell_type": "code",
   "execution_count": 69,
   "metadata": {},
   "outputs": [],
   "source": [
    "x = np.random.randint(0, 9, (10,))"
   ]
  },
  {
   "cell_type": "code",
   "execution_count": 70,
   "metadata": {},
   "outputs": [
    {
     "data": {
      "text/plain": [
       "array([7, 4, 0, 7, 4, 6, 3, 8, 4, 6])"
      ]
     },
     "execution_count": 70,
     "metadata": {},
     "output_type": "execute_result"
    }
   ],
   "source": [
    "x"
   ]
  },
  {
   "cell_type": "code",
   "execution_count": 71,
   "metadata": {},
   "outputs": [
    {
     "data": {
      "text/plain": [
       "array([0.875, 0.5  , 0.   , 0.875, 0.5  , 0.75 , 0.375, 1.   , 0.5  ,\n",
       "       0.75 ])"
      ]
     },
     "execution_count": 71,
     "metadata": {},
     "output_type": "execute_result"
    }
   ],
   "source": [
    "(x-np.min(x))/np.ptp(x)"
   ]
  },
  {
   "cell_type": "markdown",
   "metadata": {},
   "source": [
    "# task: 26\n",
    "Замените все вхождения nan в двумерный массив средним значением по соответствующему столбцу"
   ]
  },
  {
   "cell_type": "code",
   "execution_count": 72,
   "metadata": {},
   "outputs": [],
   "source": [
    "x = np.random.random((3, 5))"
   ]
  },
  {
   "cell_type": "code",
   "execution_count": 73,
   "metadata": {},
   "outputs": [],
   "source": [
    "x[0, :] = np.nan"
   ]
  },
  {
   "cell_type": "code",
   "execution_count": 74,
   "metadata": {},
   "outputs": [
    {
     "data": {
      "text/plain": [
       "array([[       nan,        nan,        nan,        nan,        nan],\n",
       "       [0.85352756, 0.46844032, 0.06056932, 0.01689157, 0.2156872 ],\n",
       "       [0.90637799, 0.54232406, 0.09232188, 0.66632111, 0.29797262]])"
      ]
     },
     "execution_count": 74,
     "metadata": {},
     "output_type": "execute_result"
    }
   ],
   "source": [
    "x"
   ]
  },
  {
   "cell_type": "code",
   "execution_count": 75,
   "metadata": {},
   "outputs": [],
   "source": [
    "x[np.isnan(x)] = np.nanmean(x, axis=0)"
   ]
  },
  {
   "cell_type": "code",
   "execution_count": 76,
   "metadata": {},
   "outputs": [
    {
     "data": {
      "text/plain": [
       "array([[0.87995277, 0.50538219, 0.0764456 , 0.34160634, 0.25682991],\n",
       "       [0.85352756, 0.46844032, 0.06056932, 0.01689157, 0.2156872 ],\n",
       "       [0.90637799, 0.54232406, 0.09232188, 0.66632111, 0.29797262]])"
      ]
     },
     "execution_count": 76,
     "metadata": {},
     "output_type": "execute_result"
    }
   ],
   "source": [
    "x"
   ]
  },
  {
   "cell_type": "code",
   "execution_count": 77,
   "metadata": {},
   "outputs": [],
   "source": [
    "x[:, 0] = np.nan"
   ]
  },
  {
   "cell_type": "code",
   "execution_count": 78,
   "metadata": {},
   "outputs": [
    {
     "data": {
      "text/plain": [
       "array([[       nan, 0.50538219, 0.0764456 , 0.34160634, 0.25682991],\n",
       "       [       nan, 0.46844032, 0.06056932, 0.01689157, 0.2156872 ],\n",
       "       [       nan, 0.54232406, 0.09232188, 0.66632111, 0.29797262]])"
      ]
     },
     "execution_count": 78,
     "metadata": {},
     "output_type": "execute_result"
    }
   ],
   "source": [
    "x"
   ]
  },
  {
   "cell_type": "code",
   "execution_count": 79,
   "metadata": {
    "scrolled": true
   },
   "outputs": [],
   "source": [
    "#x[np.isnan(x)] = np.nanmean(x, axis=0)"
   ]
  },
  {
   "cell_type": "code",
   "execution_count": 80,
   "metadata": {},
   "outputs": [
    {
     "name": "stderr",
     "output_type": "stream",
     "text": [
      "/opt/conda/lib/python3.6/site-packages/ipykernel_launcher.py:1: RuntimeWarning: Mean of empty slice\n",
      "  \"\"\"Entry point for launching an IPython kernel.\n"
     ]
    },
    {
     "data": {
      "text/plain": [
       "array([[       nan, 0.50538219, 0.0764456 , 0.34160634, 0.25682991],\n",
       "       [       nan, 0.46844032, 0.06056932, 0.01689157, 0.2156872 ],\n",
       "       [       nan, 0.54232406, 0.09232188, 0.66632111, 0.29797262]])"
      ]
     },
     "execution_count": 80,
     "metadata": {},
     "output_type": "execute_result"
    }
   ],
   "source": [
    "np.nan_to_num(x, nan = np.nanmean(x, axis=0))"
   ]
  },
  {
   "cell_type": "code",
   "execution_count": 81,
   "metadata": {},
   "outputs": [
    {
     "data": {
      "text/plain": [
       "array([[       nan, 0.50538219, 0.0764456 , 0.34160634, 0.25682991],\n",
       "       [       nan, 0.46844032, 0.06056932, 0.01689157, 0.2156872 ],\n",
       "       [       nan, 0.54232406, 0.09232188, 0.66632111, 0.29797262]])"
      ]
     },
     "execution_count": 81,
     "metadata": {},
     "output_type": "execute_result"
    }
   ],
   "source": [
    "x"
   ]
  },
  {
   "cell_type": "markdown",
   "metadata": {},
   "source": [
    "# task 27: \n",
    "Проверьте, есть ли в двумерном массиве столбец, полностью заполненый нулями."
   ]
  },
  {
   "cell_type": "code",
   "execution_count": 82,
   "metadata": {},
   "outputs": [],
   "source": [
    "x = np.random.randint(-100, 100, (1000, 1000))"
   ]
  },
  {
   "cell_type": "code",
   "execution_count": 83,
   "metadata": {},
   "outputs": [
    {
     "data": {
      "text/plain": [
       "array([[-43,  13, -84, ...,  63, -88, -70],\n",
       "       [ 10,  72, -33, ...,  30,  -1, -84],\n",
       "       [ 52,  74,  85, ...,  47,  25,  96],\n",
       "       ...,\n",
       "       [ -5, -71, -35, ..., -38,  -7, -66],\n",
       "       [ 78,  45,  21, ..., -31, -27,  49],\n",
       "       [ 10, -63, -96, ...,  24,   3, -79]])"
      ]
     },
     "execution_count": 83,
     "metadata": {},
     "output_type": "execute_result"
    }
   ],
   "source": [
    "x"
   ]
  },
  {
   "cell_type": "code",
   "execution_count": 84,
   "metadata": {},
   "outputs": [
    {
     "name": "stdout",
     "output_type": "stream",
     "text": [
      "1.28 ms ± 45 µs per loop (mean ± std. dev. of 7 runs, 1000 loops each)\n"
     ]
    }
   ],
   "source": [
    "%%timeit\n",
    "np.any(np.count_nonzero(x, axis = 1) == 0)"
   ]
  },
  {
   "cell_type": "code",
   "execution_count": 85,
   "metadata": {},
   "outputs": [
    {
     "name": "stdout",
     "output_type": "stream",
     "text": [
      "404 µs ± 578 ns per loop (mean ± std. dev. of 7 runs, 1000 loops each)\n"
     ]
    }
   ],
   "source": [
    "%%timeit\n",
    "np.any(np.all(x == 0, axis = 0))"
   ]
  },
  {
   "cell_type": "code",
   "execution_count": 86,
   "metadata": {},
   "outputs": [
    {
     "name": "stdout",
     "output_type": "stream",
     "text": [
      "1.02 ms ± 12.8 µs per loop (mean ± std. dev. of 7 runs, 1000 loops each)\n"
     ]
    }
   ],
   "source": [
    "%%timeit\n",
    "np.any(np.prod(x + 1, axis = 0) == 1)"
   ]
  },
  {
   "cell_type": "markdown",
   "metadata": {},
   "source": [
    "### Ответ:"
   ]
  },
  {
   "cell_type": "code",
   "execution_count": 87,
   "metadata": {},
   "outputs": [
    {
     "name": "stdout",
     "output_type": "stream",
     "text": [
      "[[ 0  0 -1  0 -1 -1  0 -1  0 -1]\n",
      " [-1  0  0 -1  0 -1 -1 -1  0  0]\n",
      " [ 0 -1  0 -1 -1 -1  0  0  0  0]]\n",
      "True\n"
     ]
    }
   ],
   "source": [
    "x = np.random.randint(-1, 1, (3, 10))\n",
    "print(x)\n",
    "print(np.any(np.all(x == 0, axis = 0)))"
   ]
  },
  {
   "cell_type": "markdown",
   "metadata": {},
   "source": [
    "# task 28:\n",
    "1. Создайте массив случайных чисел от 0 до 9 размером 3x4x3x4\n",
    "2. Вычислите суммы элементов по двум последним осям"
   ]
  },
  {
   "cell_type": "code",
   "execution_count": 88,
   "metadata": {},
   "outputs": [],
   "source": [
    "a = np.random.randint(0, 10, (3, 4, 3, 4))"
   ]
  },
  {
   "cell_type": "code",
   "execution_count": 89,
   "metadata": {},
   "outputs": [
    {
     "data": {
      "text/plain": [
       "array([[58, 62, 41, 38],\n",
       "       [55, 73, 58, 42],\n",
       "       [46, 58, 74, 52]])"
      ]
     },
     "execution_count": 89,
     "metadata": {},
     "output_type": "execute_result"
    }
   ],
   "source": [
    "np.sum(a, axis=(2, 3))"
   ]
  },
  {
   "cell_type": "markdown",
   "metadata": {},
   "source": [
    "# task 29:\n",
    "\n",
    "1. Любым способом создайте два массива одинаковой длины\n",
    "2. Создайте массив, в котором на четных позициях будут стоять элементы с соответствующих позиций первого массива, а на нечетных - с соответствующих позиций второго"
   ]
  },
  {
   "cell_type": "code",
   "execution_count": 90,
   "metadata": {},
   "outputs": [
    {
     "name": "stdout",
     "output_type": "stream",
     "text": [
      "[1. 1. 1. 1. 1. 1. 1. 1. 1. 1.] \n",
      " [2. 2. 2. 2. 2. 2. 2. 2. 2. 2.]\n"
     ]
    }
   ],
   "source": [
    "length = 10\n",
    "a = np.ones(length)\n",
    "b = np.ones(length) + 1\n",
    "print(a, \"\\n\", b)"
   ]
  },
  {
   "cell_type": "code",
   "execution_count": 91,
   "metadata": {},
   "outputs": [
    {
     "name": "stdout",
     "output_type": "stream",
     "text": [
      "[1. 2. 1. 2. 1. 2. 1. 2. 1. 2. 1. 2. 1. 2. 1. 2. 1. 2. 1. 2.]\n"
     ]
    }
   ],
   "source": [
    "c = np.zeros(length * 2)\n",
    "c[0::2] = a\n",
    "c[1::2] = b\n",
    "print(c)"
   ]
  },
  {
   "cell_type": "markdown",
   "metadata": {},
   "source": [
    "# task 30:\n",
    "\n",
    "На примере массива ```x = np.array([[1., 2.], [np.nan, 3.], [5., 5.], [np.nan, np.nan]])``` вычислите долю пропущенных значений"
   ]
  },
  {
   "cell_type": "code",
   "execution_count": 92,
   "metadata": {},
   "outputs": [],
   "source": [
    "x = np.array([[1., 2.], [np.nan, 3.], [5., 5.], [np.nan, np.nan]])"
   ]
  },
  {
   "cell_type": "code",
   "execution_count": 93,
   "metadata": {},
   "outputs": [
    {
     "data": {
      "text/plain": [
       "0.375"
      ]
     },
     "execution_count": 93,
     "metadata": {},
     "output_type": "execute_result"
    }
   ],
   "source": [
    "np.sum(np.isnan(x))/x.size"
   ]
  },
  {
   "cell_type": "markdown",
   "metadata": {},
   "source": [
    "# task 31:\n",
    "На примере массива ```x = np.array([[1., 2.], [np.nan, 3.], [5., 5.], [np.nan, np.nan]])``` составьте массив из уникальных значений массива без учета nan"
   ]
  },
  {
   "cell_type": "code",
   "execution_count": 94,
   "metadata": {},
   "outputs": [],
   "source": [
    "scale = 100\n",
    "\n",
    "x = np.array([[1., 2.], [np.nan, 3.], [5., 5.], [np.nan, np.nan]]*scale)"
   ]
  },
  {
   "cell_type": "code",
   "execution_count": 95,
   "metadata": {},
   "outputs": [
    {
     "name": "stdout",
     "output_type": "stream",
     "text": [
      "13.6 µs ± 167 ns per loop (mean ± std. dev. of 7 runs, 100000 loops each)\n"
     ]
    }
   ],
   "source": [
    "%%timeit\n",
    "uni = np.unique(x)\n",
    "uni[~ np.isnan(uni)]"
   ]
  },
  {
   "cell_type": "code",
   "execution_count": 96,
   "metadata": {},
   "outputs": [
    {
     "name": "stdout",
     "output_type": "stream",
     "text": [
      "12.4 µs ± 43.9 ns per loop (mean ± std. dev. of 7 runs, 100000 loops each)\n"
     ]
    }
   ],
   "source": [
    "%%timeit\n",
    "nonan = x[~ np.isnan(x)]\n",
    "nonan = np.unique(nonan)"
   ]
  },
  {
   "cell_type": "markdown",
   "metadata": {},
   "source": [
    "### Ответ:"
   ]
  },
  {
   "cell_type": "code",
   "execution_count": 97,
   "metadata": {},
   "outputs": [
    {
     "name": "stdout",
     "output_type": "stream",
     "text": [
      "In:\n",
      " [[ 1.  2.]\n",
      " [nan  3.]\n",
      " [ 5.  5.]\n",
      " [nan nan]]\n",
      "Out:\n",
      " [1. 2. 3. 5.]\n"
     ]
    }
   ],
   "source": [
    "x = np.array([[1., 2.], [np.nan, 3.], [5., 5.], [np.nan, np.nan]])\n",
    "print(\"In:\\n\", x)\n",
    "uni = np.unique(x)\n",
    "uni = uni[~np.isnan(uni)]\n",
    "print(\"Out:\\n\", uni)"
   ]
  },
  {
   "cell_type": "markdown",
   "metadata": {},
   "source": [
    "# task 32:\n",
    "\n",
    "На примере массива ```x = np.array([6, 2, 0, 3, 0, 0, 5, 7, 0])``` найдите максимальный элемент в массиве среди элементов, перед которыми стоит нулевой"
   ]
  },
  {
   "cell_type": "code",
   "execution_count": 98,
   "metadata": {},
   "outputs": [],
   "source": [
    "x = np.array([6, 2, 0, 3, 0, 0, 5, 7, 0])"
   ]
  },
  {
   "cell_type": "code",
   "execution_count": 99,
   "metadata": {},
   "outputs": [
    {
     "data": {
      "text/plain": [
       "5"
      ]
     },
     "execution_count": 99,
     "metadata": {},
     "output_type": "execute_result"
    }
   ],
   "source": [
    "np.max(x[np.r_[False, x == 0][:-1]])"
   ]
  },
  {
   "cell_type": "markdown",
   "metadata": {},
   "source": [
    "# task 33:\n",
    "Пусть заданы два массива одинакового размера. Поэлементно разделите один массив на другой. В случае, если делитель равен нулю, соответствующему элементу результирующего массива присвойте нуль."
   ]
  },
  {
   "cell_type": "code",
   "execution_count": 100,
   "metadata": {},
   "outputs": [],
   "source": [
    "length = 1000\n",
    "a = np.random.randint(1, 10, length)\n",
    "b = np.random.randint(0, 3, length)"
   ]
  },
  {
   "cell_type": "code",
   "execution_count": 101,
   "metadata": {},
   "outputs": [
    {
     "name": "stdout",
     "output_type": "stream",
     "text": [
      "9.78 µs ± 28.4 ns per loop (mean ± std. dev. of 7 runs, 100000 loops each)\n"
     ]
    }
   ],
   "source": [
    "%%timeit\n",
    "c = np.divide(a, b, where=(b!=0))\n",
    "c[b == 0] = 0"
   ]
  },
  {
   "cell_type": "code",
   "execution_count": 102,
   "metadata": {},
   "outputs": [
    {
     "name": "stderr",
     "output_type": "stream",
     "text": [
      "/opt/conda/lib/python3.6/site-packages/ipykernel_launcher.py:1: RuntimeWarning: divide by zero encountered in true_divide\n",
      "  \"\"\"Entry point for launching an IPython kernel.\n"
     ]
    },
    {
     "name": "stdout",
     "output_type": "stream",
     "text": [
      "6.74 µs ± 8.04 ns per loop (mean ± std. dev. of 7 runs, 100000 loops each)\n"
     ]
    }
   ],
   "source": [
    "%%timeit\n",
    "c = np.divide(a, b)\n",
    "c[b == 0] = 0"
   ]
  },
  {
   "cell_type": "code",
   "execution_count": 103,
   "metadata": {},
   "outputs": [
    {
     "name": "stderr",
     "output_type": "stream",
     "text": [
      "/opt/conda/lib/python3.6/site-packages/ipykernel_launcher.py:1: RuntimeWarning: divide by zero encountered in true_divide\n",
      "  \"\"\"Entry point for launching an IPython kernel.\n"
     ]
    },
    {
     "name": "stdout",
     "output_type": "stream",
     "text": [
      "7.18 µs ± 16.9 ns per loop (mean ± std. dev. of 7 runs, 100000 loops each)\n"
     ]
    }
   ],
   "source": [
    "%%timeit\n",
    "c = np.where(b == 0, 0, a / b)"
   ]
  },
  {
   "cell_type": "markdown",
   "metadata": {},
   "source": [
    "### Ответ:"
   ]
  },
  {
   "cell_type": "code",
   "execution_count": 104,
   "metadata": {},
   "outputs": [
    {
     "name": "stdout",
     "output_type": "stream",
     "text": [
      "In:\n",
      " [6 3 6 9 9 2 2 5 8 3] \n",
      " [2 1 0 2 2 2 0 1 2 1]\n",
      "Out: [3.  3.  0.  4.5 4.5 1.  0.  5.  4.  3. ]\n"
     ]
    },
    {
     "name": "stderr",
     "output_type": "stream",
     "text": [
      "/opt/conda/lib/python3.6/site-packages/ipykernel_launcher.py:4: RuntimeWarning: divide by zero encountered in true_divide\n",
      "  after removing the cwd from sys.path.\n"
     ]
    }
   ],
   "source": [
    "length = 10\n",
    "a = np.random.randint(1, 10, length)\n",
    "b = np.random.randint(0, 3, length)\n",
    "c = np.divide(a, b)\n",
    "c[b == 0] = 0\n",
    "print(\"In:\\n\", a, \"\\n\", b)\n",
    "print(\"Out:\", c)"
   ]
  },
  {
   "cell_type": "markdown",
   "metadata": {},
   "source": [
    "# task 34:\n",
    "\n",
    "Пусть заданы два массива ```x = np.ones(10)``` и ```i = np.array([0, 1, 2, 3, 5, 5, 5, 8])```. Прибавьте единицу к тем элементам массива x, индексы которых указаны в массиве i. В случае, если некоторый индекс встретился в массиве i несколько раз, прибавьте к соответствующему элементу массива x число вхождений данного индекса в массив i."
   ]
  },
  {
   "cell_type": "code",
   "execution_count": 105,
   "metadata": {},
   "outputs": [],
   "source": [
    "x = np.ones(10)\n",
    "i = np.array([0, 1, 2, 3, 5, 5, 5, 8])"
   ]
  },
  {
   "cell_type": "code",
   "execution_count": 106,
   "metadata": {},
   "outputs": [],
   "source": [
    "pos, counts = np.unique(i, return_counts=True)"
   ]
  },
  {
   "cell_type": "code",
   "execution_count": 107,
   "metadata": {},
   "outputs": [],
   "source": [
    "x[pos] += counts"
   ]
  },
  {
   "cell_type": "code",
   "execution_count": 108,
   "metadata": {},
   "outputs": [
    {
     "data": {
      "text/plain": [
       "array([2., 2., 2., 2., 1., 4., 1., 1., 2., 1.])"
      ]
     },
     "execution_count": 108,
     "metadata": {},
     "output_type": "execute_result"
    }
   ],
   "source": [
    "x"
   ]
  },
  {
   "cell_type": "markdown",
   "metadata": {},
   "source": [
    "# task 35:\n",
    "\n",
    "По заданному массиву ```y = np.bincount([0, 0, 3, 8, 10, 10, 11])``` постройте массив x такой, чтобы ```np.bincount(x) = y```"
   ]
  },
  {
   "cell_type": "code",
   "execution_count": 109,
   "metadata": {},
   "outputs": [],
   "source": [
    "y = np.bincount([0, 0, 3, 8, 10, 10, 11])"
   ]
  },
  {
   "cell_type": "code",
   "execution_count": 110,
   "metadata": {},
   "outputs": [],
   "source": [
    "x = np.repeat(np.arange(0, y.shape[0]), y)"
   ]
  },
  {
   "cell_type": "code",
   "execution_count": 111,
   "metadata": {},
   "outputs": [
    {
     "data": {
      "text/plain": [
       "True"
      ]
     },
     "execution_count": 111,
     "metadata": {},
     "output_type": "execute_result"
    }
   ],
   "source": [
    "np.all(np.bincount(x) == y)"
   ]
  },
  {
   "cell_type": "markdown",
   "metadata": {},
   "source": [
    "# task 36:\n",
    "\n",
    "Определите самые часто встречающиеся элементы в массиве целых неотрицательных чисел.\n",
    "Решите задачу на примере массива ```x = np.array([0,1,2,0,6,6,7,4,5,4])```."
   ]
  },
  {
   "cell_type": "code",
   "execution_count": 112,
   "metadata": {},
   "outputs": [],
   "source": [
    "x = np.array([0,1,2,0,6,6,7,4,5,4])"
   ]
  },
  {
   "cell_type": "code",
   "execution_count": 113,
   "metadata": {},
   "outputs": [],
   "source": [
    "val, freq = np.unique(x, return_counts=True)"
   ]
  },
  {
   "cell_type": "code",
   "execution_count": 114,
   "metadata": {},
   "outputs": [
    {
     "data": {
      "text/plain": [
       "array([0, 4, 6])"
      ]
     },
     "execution_count": 114,
     "metadata": {},
     "output_type": "execute_result"
    }
   ],
   "source": [
    "val[freq==np.max(freq)]"
   ]
  },
  {
   "cell_type": "markdown",
   "metadata": {},
   "source": [
    "# task 37:\n",
    "\n",
    "Разбейте двумерный массив на список двумерных массивов по уникальным значениям в первом столбце.\n",
    "Решите задачу на примере массива ```x = np.array([[1, 2], [1, 3], [2, 2], [3, 4], [3, 5]])```, в результате должен получиться список ```[array([[1, 2], [1, 3]]), array([[2, 2]]), array([[3, 4], [3, 5]])]```."
   ]
  },
  {
   "cell_type": "code",
   "execution_count": 115,
   "metadata": {},
   "outputs": [],
   "source": [
    "x = np.array([[1, 2], [1, 3], [2, 2], [3, 4], [3, 5]])"
   ]
  },
  {
   "cell_type": "code",
   "execution_count": 116,
   "metadata": {},
   "outputs": [
    {
     "data": {
      "text/plain": [
       "array([[1, 2],\n",
       "       [1, 3],\n",
       "       [2, 2],\n",
       "       [3, 4],\n",
       "       [3, 5]])"
      ]
     },
     "execution_count": 116,
     "metadata": {},
     "output_type": "execute_result"
    }
   ],
   "source": [
    "x"
   ]
  },
  {
   "cell_type": "code",
   "execution_count": 117,
   "metadata": {},
   "outputs": [
    {
     "data": {
      "text/plain": [
       "[array([[1, 2],\n",
       "        [1, 3]]),\n",
       " array([[2, 2]]),\n",
       " array([[3, 4],\n",
       "        [3, 5]])]"
      ]
     },
     "execution_count": 117,
     "metadata": {},
     "output_type": "execute_result"
    }
   ],
   "source": [
    "[np.array([[1, 2], [1, 3]]), np.array([[2, 2]]), np.array([[3, 4], [3, 5]])]"
   ]
  },
  {
   "cell_type": "code",
   "execution_count": 118,
   "metadata": {},
   "outputs": [],
   "source": [
    "_, freq = np.unique(x[:, :1], return_counts=True)"
   ]
  },
  {
   "cell_type": "code",
   "execution_count": 119,
   "metadata": {},
   "outputs": [
    {
     "data": {
      "text/plain": [
       "[array([[1, 2],\n",
       "        [1, 3]]),\n",
       " array([[2, 2]]),\n",
       " array([[3, 4],\n",
       "        [3, 5]])]"
      ]
     },
     "execution_count": 119,
     "metadata": {},
     "output_type": "execute_result"
    }
   ],
   "source": [
    "np.array_split(x, np.cumsum(freq)[:-1], axis=0)"
   ]
  },
  {
   "cell_type": "markdown",
   "metadata": {},
   "source": [
    "# task 38:\n",
    "\n",
    "По заданному одномерному массиву неотрицательных чисел постройте список подмассивов, сожержащих элементы из полуинтервалов ```[i * 10, (i+1) * 10), i = 0, 1, 2, …```\n",
    "Решите задачу на примере массива ```x = np.array([8, 2, 34, 0, 11, 18, 13, 2, 24, 10, 20])```, в результате должен получиться список ```[array([0, 2, 2, 8]), array([10, 11, 13, 18]), array([20, 24]), array([34])]```."
   ]
  },
  {
   "cell_type": "code",
   "execution_count": 120,
   "metadata": {},
   "outputs": [],
   "source": [
    "x = np.array([8, 2, 34, 0, 11, 18, 13, 2, 24, 10, 20])"
   ]
  },
  {
   "cell_type": "code",
   "execution_count": 121,
   "metadata": {},
   "outputs": [
    {
     "data": {
      "text/plain": [
       "[array([0, 2, 2, 8]), array([10, 11, 13, 18]), array([20, 24]), array([34])]"
      ]
     },
     "execution_count": 121,
     "metadata": {},
     "output_type": "execute_result"
    }
   ],
   "source": [
    "[np.array([0, 2, 2, 8]), np.array([10, 11, 13, 18]), np.array([20, 24]), np.array([34])]"
   ]
  },
  {
   "cell_type": "code",
   "execution_count": 122,
   "metadata": {},
   "outputs": [
    {
     "data": {
      "text/plain": [
       "[array([0, 2, 2, 8]), array([10, 11, 13, 18]), array([20, 24]), array([34])]"
      ]
     },
     "execution_count": 122,
     "metadata": {},
     "output_type": "execute_result"
    }
   ],
   "source": [
    "np.array_split(np.sort(x), np.cumsum(np.histogram(x, bins = np.arange(0, np.max(x), 10))[0]))"
   ]
  },
  {
   "cell_type": "markdown",
   "metadata": {},
   "source": [
    "# task 39:\n",
    "\n",
    "Перечислите все известные вам способы соединения заданных двумерных массивов по вертикали. Какой из способов работает быстрее?"
   ]
  },
  {
   "cell_type": "markdown",
   "metadata": {},
   "source": [
    "## Тест на данных большого размера"
   ]
  },
  {
   "cell_type": "code",
   "execution_count": 123,
   "metadata": {},
   "outputs": [],
   "source": [
    "shape = (10000, 10000)\n",
    "a = np.random.randint(1, 5, shape)\n",
    "b = np.random.randint(5, 10, shape)"
   ]
  },
  {
   "cell_type": "markdown",
   "metadata": {},
   "source": [
    "### Способ 1:"
   ]
  },
  {
   "cell_type": "code",
   "execution_count": 124,
   "metadata": {},
   "outputs": [
    {
     "name": "stdout",
     "output_type": "stream",
     "text": [
      "CPU times: user 480 ms, sys: 480 ms, total: 960 ms\n",
      "Wall time: 959 ms\n"
     ]
    }
   ],
   "source": [
    "%%time\n",
    "x = np.vstack((a,b))"
   ]
  },
  {
   "cell_type": "code",
   "execution_count": 125,
   "metadata": {},
   "outputs": [
    {
     "name": "stdout",
     "output_type": "stream",
     "text": [
      "(20000, 10000)\n"
     ]
    }
   ],
   "source": [
    "print(x.shape)"
   ]
  },
  {
   "cell_type": "markdown",
   "metadata": {},
   "source": [
    "### Способ 2:"
   ]
  },
  {
   "cell_type": "code",
   "execution_count": 126,
   "metadata": {},
   "outputs": [
    {
     "name": "stdout",
     "output_type": "stream",
     "text": [
      "CPU times: user 490 ms, sys: 504 ms, total: 994 ms\n",
      "Wall time: 994 ms\n"
     ]
    }
   ],
   "source": [
    "%%time\n",
    "x = np.concatenate((a,b))"
   ]
  },
  {
   "cell_type": "code",
   "execution_count": 127,
   "metadata": {},
   "outputs": [
    {
     "name": "stdout",
     "output_type": "stream",
     "text": [
      "(20000, 10000)\n"
     ]
    }
   ],
   "source": [
    "print(x.shape)"
   ]
  },
  {
   "cell_type": "markdown",
   "metadata": {},
   "source": [
    "### Способ 3:"
   ]
  },
  {
   "cell_type": "code",
   "execution_count": 128,
   "metadata": {},
   "outputs": [
    {
     "name": "stdout",
     "output_type": "stream",
     "text": [
      "CPU times: user 498 ms, sys: 496 ms, total: 994 ms\n",
      "Wall time: 994 ms\n"
     ]
    }
   ],
   "source": [
    "%%time\n",
    "x = np.r_[a, b]"
   ]
  },
  {
   "cell_type": "code",
   "execution_count": 129,
   "metadata": {},
   "outputs": [
    {
     "name": "stdout",
     "output_type": "stream",
     "text": [
      "(20000, 10000)\n"
     ]
    }
   ],
   "source": [
    "print(x.shape)"
   ]
  },
  {
   "cell_type": "markdown",
   "metadata": {},
   "source": [
    "### Способ 4:"
   ]
  },
  {
   "cell_type": "code",
   "execution_count": 130,
   "metadata": {},
   "outputs": [
    {
     "name": "stdout",
     "output_type": "stream",
     "text": [
      "CPU times: user 523 ms, sys: 480 ms, total: 1 s\n",
      "Wall time: 1 s\n"
     ]
    }
   ],
   "source": [
    "%%time\n",
    "x = np.row_stack((a, b))"
   ]
  },
  {
   "cell_type": "code",
   "execution_count": 131,
   "metadata": {},
   "outputs": [
    {
     "name": "stdout",
     "output_type": "stream",
     "text": [
      "(20000, 10000)\n"
     ]
    }
   ],
   "source": [
    "print(x.shape)"
   ]
  },
  {
   "cell_type": "markdown",
   "metadata": {},
   "source": [
    "## Тест на данных малого размера"
   ]
  },
  {
   "cell_type": "code",
   "execution_count": 132,
   "metadata": {},
   "outputs": [],
   "source": [
    "shape = (3, 10)\n",
    "a = np.random.randint(1, 5, shape)\n",
    "b = np.random.randint(5, 10, shape)"
   ]
  },
  {
   "cell_type": "markdown",
   "metadata": {},
   "source": [
    "### Способ 1:"
   ]
  },
  {
   "cell_type": "code",
   "execution_count": 133,
   "metadata": {},
   "outputs": [
    {
     "name": "stdout",
     "output_type": "stream",
     "text": [
      "4.1 µs ± 115 ns per loop (mean ± std. dev. of 7 runs, 100000 loops each)\n"
     ]
    }
   ],
   "source": [
    "%%timeit\n",
    "x = np.vstack((a,b))"
   ]
  },
  {
   "cell_type": "code",
   "execution_count": 134,
   "metadata": {},
   "outputs": [
    {
     "name": "stdout",
     "output_type": "stream",
     "text": [
      "(20000, 10000)\n"
     ]
    }
   ],
   "source": [
    "print(x.shape)"
   ]
  },
  {
   "cell_type": "markdown",
   "metadata": {},
   "source": [
    "### Способ 2:"
   ]
  },
  {
   "cell_type": "code",
   "execution_count": 135,
   "metadata": {},
   "outputs": [
    {
     "name": "stdout",
     "output_type": "stream",
     "text": [
      "1.19 µs ± 19.9 ns per loop (mean ± std. dev. of 7 runs, 1000000 loops each)\n"
     ]
    }
   ],
   "source": [
    "%%timeit\n",
    "x = np.concatenate((a,b))"
   ]
  },
  {
   "cell_type": "code",
   "execution_count": 136,
   "metadata": {},
   "outputs": [
    {
     "name": "stdout",
     "output_type": "stream",
     "text": [
      "(20000, 10000)\n"
     ]
    }
   ],
   "source": [
    "print(x.shape)"
   ]
  },
  {
   "cell_type": "markdown",
   "metadata": {},
   "source": [
    "### Способ 3:"
   ]
  },
  {
   "cell_type": "code",
   "execution_count": 137,
   "metadata": {},
   "outputs": [
    {
     "name": "stdout",
     "output_type": "stream",
     "text": [
      "11.9 µs ± 277 ns per loop (mean ± std. dev. of 7 runs, 100000 loops each)\n"
     ]
    }
   ],
   "source": [
    "%%timeit\n",
    "x = np.r_[a, b]"
   ]
  },
  {
   "cell_type": "code",
   "execution_count": 138,
   "metadata": {},
   "outputs": [
    {
     "name": "stdout",
     "output_type": "stream",
     "text": [
      "(20000, 10000)\n"
     ]
    }
   ],
   "source": [
    "print(x.shape)"
   ]
  },
  {
   "cell_type": "markdown",
   "metadata": {},
   "source": [
    "### Способ 4:"
   ]
  },
  {
   "cell_type": "code",
   "execution_count": 139,
   "metadata": {},
   "outputs": [
    {
     "name": "stdout",
     "output_type": "stream",
     "text": [
      "3.97 µs ± 10.9 ns per loop (mean ± std. dev. of 7 runs, 100000 loops each)\n"
     ]
    }
   ],
   "source": [
    "%%timeit\n",
    "x = np.row_stack((a, b))"
   ]
  },
  {
   "cell_type": "code",
   "execution_count": 140,
   "metadata": {},
   "outputs": [
    {
     "name": "stdout",
     "output_type": "stream",
     "text": [
      "(20000, 10000)\n"
     ]
    }
   ],
   "source": [
    "print(x.shape)"
   ]
  },
  {
   "cell_type": "markdown",
   "metadata": {},
   "source": [
    "### Отличия способов\n",
    " * concatenate имеет более широкий функционал, чем vstack.\n",
    " * vstack эквивалентен concatenation по первой оси после того, как 1-D массивы формы (N,) были приведены к форме (1,N).\n",
    " * np.r_ конкатенация по первой оси\n",
    " * row_stack = vstack"
   ]
  },
  {
   "cell_type": "markdown",
   "metadata": {},
   "source": [
    "### Ответ:"
   ]
  },
  {
   "cell_type": "code",
   "execution_count": 141,
   "metadata": {},
   "outputs": [
    {
     "name": "stdout",
     "output_type": "stream",
     "text": [
      "In:\n",
      " [[1 2 3 2 4 4 1 1 1 1]\n",
      " [2 2 1 4 3 1 4 2 1 1]] \n",
      "and:\n",
      " [[9 9 6 6 8 6 9 9 6 6]\n",
      " [5 7 8 8 7 8 8 7 6 5]]\n",
      "Out:\n",
      " [[1 2 3 2 4 4 1 1 1 1]\n",
      " [2 2 1 4 3 1 4 2 1 1]\n",
      " [9 9 6 6 8 6 9 9 6 6]\n",
      " [5 7 8 8 7 8 8 7 6 5]]\n"
     ]
    }
   ],
   "source": [
    "shape = (2, 10)\n",
    "a = np.random.randint(1, 5, shape)\n",
    "b = np.random.randint(5, 10, shape)\n",
    "x = np.concatenate((a,b))\n",
    "print(\"In:\\n\", a, \"\\nand:\\n\", b)\n",
    "print(\"Out:\\n\", x)"
   ]
  },
  {
   "cell_type": "markdown",
   "metadata": {},
   "source": [
    "# task 40:\n",
    "\n",
    "Для двух одномерных массивов ```x = np.arange(3)``` и ```y = np.arange(5)``` постройте двумерный массив строки которого - всевозможные пары элементов из x и y."
   ]
  },
  {
   "cell_type": "code",
   "execution_count": 142,
   "metadata": {},
   "outputs": [],
   "source": [
    "x = np.arange(3)\n",
    "y = np.arange(5)"
   ]
  },
  {
   "cell_type": "code",
   "execution_count": 143,
   "metadata": {},
   "outputs": [],
   "source": [
    "a, b = np.meshgrid(x, y)"
   ]
  },
  {
   "cell_type": "code",
   "execution_count": 144,
   "metadata": {},
   "outputs": [
    {
     "data": {
      "text/plain": [
       "array([[0, 0],\n",
       "       [1, 0],\n",
       "       [2, 0],\n",
       "       [0, 1],\n",
       "       [1, 1],\n",
       "       [2, 1],\n",
       "       [0, 2],\n",
       "       [1, 2],\n",
       "       [2, 2],\n",
       "       [0, 3],\n",
       "       [1, 3],\n",
       "       [2, 3],\n",
       "       [0, 4],\n",
       "       [1, 4],\n",
       "       [2, 4]])"
      ]
     },
     "execution_count": 144,
     "metadata": {},
     "output_type": "execute_result"
    }
   ],
   "source": [
    "np.reshape(np.stack((a, b), axis=-1), (-1, 2))"
   ]
  },
  {
   "cell_type": "markdown",
   "metadata": {},
   "source": [
    "**Отличия np.reshape(x, ...) и x.reshape(...): только синтаксис, внутри одно и то же.**"
   ]
  },
  {
   "cell_type": "markdown",
   "metadata": {},
   "source": [
    "# task 41:\n",
    "\n",
    "По двум входным одномерным массивам одинаковой длины составьте массив пар элементов с одинаковыми индесами.\n",
    "Решите задачу на примере массивов ```x = np.array([1,2,3,4])``` и ```y = np.array([5,6,7,8])```."
   ]
  },
  {
   "cell_type": "code",
   "execution_count": 145,
   "metadata": {},
   "outputs": [],
   "source": [
    "x = np.array([1,2,3,4])\n",
    "y = np.array([5,6,7,8])"
   ]
  },
  {
   "cell_type": "code",
   "execution_count": 146,
   "metadata": {},
   "outputs": [
    {
     "data": {
      "text/plain": [
       "array([[1, 5],\n",
       "       [2, 6],\n",
       "       [3, 7],\n",
       "       [4, 8]])"
      ]
     },
     "execution_count": 146,
     "metadata": {},
     "output_type": "execute_result"
    }
   ],
   "source": [
    "np.stack((x, y), axis=1)"
   ]
  },
  {
   "cell_type": "markdown",
   "metadata": {},
   "source": [
    "# task 42:\n",
    "По заданному непустому списку двумерных массивов одинаковых размеров составьте трехмерный массив в котором вдоль нулевой оси расположены массивы из списка, между каждой парой которых вставлен массив полностью заполненный нулями.\n",
    "Решите задачу для списка ```l = [np.array([[1, 2], [3, 4]]), np.array([[5, 6], [7, 8]]), np.array([[9, 10], [11, 12]])]```."
   ]
  },
  {
   "cell_type": "code",
   "execution_count": 147,
   "metadata": {},
   "outputs": [],
   "source": [
    "l = [np.array([[1, 2], [3, 4]]), np.array([[5, 6], [7, 8]]), np.array([[9, 10], [11, 12]])]"
   ]
  },
  {
   "cell_type": "code",
   "execution_count": 148,
   "metadata": {},
   "outputs": [
    {
     "data": {
      "text/plain": [
       "[array([[1, 2],\n",
       "        [3, 4]]),\n",
       " array([[5, 6],\n",
       "        [7, 8]]),\n",
       " array([[ 9, 10],\n",
       "        [11, 12]])]"
      ]
     },
     "execution_count": 148,
     "metadata": {},
     "output_type": "execute_result"
    }
   ],
   "source": [
    "l"
   ]
  },
  {
   "cell_type": "code",
   "execution_count": 149,
   "metadata": {},
   "outputs": [
    {
     "data": {
      "text/plain": [
       "array([[[ 1,  2],\n",
       "        [ 3,  4]],\n",
       "\n",
       "       [[ 0,  0],\n",
       "        [ 0,  0]],\n",
       "\n",
       "       [[ 5,  6],\n",
       "        [ 7,  8]],\n",
       "\n",
       "       [[ 0,  0],\n",
       "        [ 0,  0]],\n",
       "\n",
       "       [[ 9, 10],\n",
       "        [11, 12]]])"
      ]
     },
     "execution_count": 149,
     "metadata": {},
     "output_type": "execute_result"
    }
   ],
   "source": [
    "np.insert(np.stack(l), range(1, len(l), 1), np.zeros(l[0].shape), axis=0)"
   ]
  },
  {
   "cell_type": "markdown",
   "metadata": {},
   "source": [
    "# task 43:\n",
    "Преобразуйте одномерный массив ```x = np.array([3,7,2,5,0,9,8,2,4,5])``` в двумерный массив, первая строка которого - элементы массива x с индексами от 0 до 4, вторая строка - с 1 до 5 и т.д."
   ]
  },
  {
   "cell_type": "code",
   "execution_count": 150,
   "metadata": {},
   "outputs": [],
   "source": [
    "x = np.array([3,7,2,5,0,9,8,2,4,5])"
   ]
  },
  {
   "cell_type": "markdown",
   "metadata": {},
   "source": [
    "## Способ 1:"
   ]
  },
  {
   "cell_type": "code",
   "execution_count": 151,
   "metadata": {},
   "outputs": [
    {
     "data": {
      "text/plain": [
       "array([[3, 7, 2, 5, 0],\n",
       "       [9, 8, 2, 4, 5]])"
      ]
     },
     "execution_count": 151,
     "metadata": {},
     "output_type": "execute_result"
    }
   ],
   "source": [
    "x.reshape(-1, 5)"
   ]
  },
  {
   "cell_type": "markdown",
   "metadata": {},
   "source": [
    "## Способ 2:"
   ]
  },
  {
   "cell_type": "code",
   "execution_count": 152,
   "metadata": {},
   "outputs": [
    {
     "data": {
      "text/plain": [
       "array([[3, 7, 2, 5, 0],\n",
       "       [9, 8, 2, 4, 5]])"
      ]
     },
     "execution_count": 152,
     "metadata": {},
     "output_type": "execute_result"
    }
   ],
   "source": [
    "np.lib.stride_tricks.as_strided(x, strides=(5*x.itemsize,  1*x.itemsize), shape=(2,5))"
   ]
  },
  {
   "cell_type": "markdown",
   "metadata": {},
   "source": [
    "# task 44:\n",
    "Для заданного двумерного массива постройте трехмерный массив, содержащий всевозможные неперекрывающиеся блоки размера 3x3, начиная с левого верхнего угла. Если высота/ширина исходного массива не кратна трем, исключите из рассмотрения последние строки/столбцы.\n",
    "Решите задачу на примере массива ```x = np.arange(49).reshape(7,7)```."
   ]
  },
  {
   "cell_type": "code",
   "execution_count": 153,
   "metadata": {},
   "outputs": [],
   "source": [
    "x = np.arange(49).reshape(7, 7)"
   ]
  },
  {
   "cell_type": "code",
   "execution_count": 154,
   "metadata": {},
   "outputs": [
    {
     "data": {
      "text/plain": [
       "array([[ 0,  1,  2,  3,  4,  5,  6],\n",
       "       [ 7,  8,  9, 10, 11, 12, 13],\n",
       "       [14, 15, 16, 17, 18, 19, 20],\n",
       "       [21, 22, 23, 24, 25, 26, 27],\n",
       "       [28, 29, 30, 31, 32, 33, 34],\n",
       "       [35, 36, 37, 38, 39, 40, 41],\n",
       "       [42, 43, 44, 45, 46, 47, 48]])"
      ]
     },
     "execution_count": 154,
     "metadata": {},
     "output_type": "execute_result"
    }
   ],
   "source": [
    "x"
   ]
  },
  {
   "cell_type": "code",
   "execution_count": 155,
   "metadata": {},
   "outputs": [
    {
     "data": {
      "text/plain": [
       "array([[[ 0,  1,  2],\n",
       "        [ 7,  8,  9],\n",
       "        [14, 15, 16]],\n",
       "\n",
       "       [[ 3,  4,  5],\n",
       "        [10, 11, 12],\n",
       "        [17, 18, 19]],\n",
       "\n",
       "       [[21, 22, 23],\n",
       "        [28, 29, 30],\n",
       "        [35, 36, 37]],\n",
       "\n",
       "       [[24, 25, 26],\n",
       "        [31, 32, 33],\n",
       "        [38, 39, 40]]])"
      ]
     },
     "execution_count": 155,
     "metadata": {},
     "output_type": "execute_result"
    }
   ],
   "source": [
    "arrays_in_row, arrays_in_col = x.shape[0] // 3, x.shape[1] // 3\n",
    "\n",
    "np.lib.stride_tricks.as_strided(x, \n",
    "                                strides=(3*x.shape[0]*x.itemsize, 3*x.itemsize, x.shape[0]*x.itemsize, 1*x.itemsize), \n",
    "                                shape=(arrays_in_row, arrays_in_col, 3, 3)\n",
    "                               ).reshape((arrays_in_col*arrays_in_row, 3, 3))"
   ]
  },
  {
   "cell_type": "markdown",
   "metadata": {},
   "source": [
    "# task 45:\n",
    "Примените маску к элементам одномерного массива, отличающимся от среднего на величину, большую чем 3 стандартных отклонения.\n",
    "Решите задачу на примере массива из 20 элеметнов, первый из которых равен 100, а остальные равны 0."
   ]
  },
  {
   "cell_type": "code",
   "execution_count": 156,
   "metadata": {},
   "outputs": [],
   "source": [
    "length = 1000\n",
    "a = np.zeros(length)\n",
    "a[0] = 5*length"
   ]
  },
  {
   "cell_type": "code",
   "execution_count": 157,
   "metadata": {},
   "outputs": [
    {
     "name": "stdout",
     "output_type": "stream",
     "text": [
      "5.0 158.03480629279107\n"
     ]
    }
   ],
   "source": [
    "mean, std = np.mean(a), np.std(a)\n",
    "print(mean, std)"
   ]
  },
  {
   "cell_type": "code",
   "execution_count": 158,
   "metadata": {},
   "outputs": [
    {
     "name": "stdout",
     "output_type": "stream",
     "text": [
      "CPU times: user 107 µs, sys: 4 µs, total: 111 µs\n",
      "Wall time: 82 µs\n"
     ]
    },
    {
     "data": {
      "text/plain": [
       "array([5000.])"
      ]
     },
     "execution_count": 158,
     "metadata": {},
     "output_type": "execute_result"
    }
   ],
   "source": [
    "%%time\n",
    "a[np.abs(a-mean) > 3*std]"
   ]
  },
  {
   "cell_type": "code",
   "execution_count": 159,
   "metadata": {},
   "outputs": [
    {
     "name": "stdout",
     "output_type": "stream",
     "text": [
      "CPU times: user 41 µs, sys: 2 µs, total: 43 µs\n",
      "Wall time: 47.7 µs\n"
     ]
    },
    {
     "data": {
      "text/plain": [
       "array([5000.])"
      ]
     },
     "execution_count": 159,
     "metadata": {},
     "output_type": "execute_result"
    }
   ],
   "source": [
    "%%time\n",
    "a[(a > mean + 3 * std) | (a < mean - 3 * std)]"
   ]
  },
  {
   "cell_type": "markdown",
   "metadata": {},
   "source": [
    "### Ответ:"
   ]
  },
  {
   "cell_type": "code",
   "execution_count": 160,
   "metadata": {},
   "outputs": [
    {
     "data": {
      "text/plain": [
       "array([100.])"
      ]
     },
     "execution_count": 160,
     "metadata": {},
     "output_type": "execute_result"
    }
   ],
   "source": [
    "length = 20\n",
    "a = np.zeros(length)\n",
    "a[0] = 5*length\n",
    "mean, std = np.mean(a), np.std(a)\n",
    "a[np.abs(a-mean) > 3*std]"
   ]
  },
  {
   "cell_type": "markdown",
   "metadata": {},
   "source": [
    "# task 46:\n",
    "Удалите из двумерного массива столбцы, ко всем элементам которых применена маска.\n",
    "Решите задачу на примере массива ```x = np.ma.array([[1, 2, 3], [4, 5, 6]], mask=[[1, 1, 0], [0, 1, 0]])```."
   ]
  },
  {
   "cell_type": "code",
   "execution_count": 161,
   "metadata": {},
   "outputs": [],
   "source": [
    "x = np.ma.array([[1, 2, 3], [4, 5, 6]], mask=[[1, 1, 0], [0, 1, 0]])"
   ]
  },
  {
   "cell_type": "code",
   "execution_count": 162,
   "metadata": {},
   "outputs": [
    {
     "data": {
      "text/plain": [
       "masked_array(\n",
       "  data=[[--, --, 3],\n",
       "        [4, --, 6]],\n",
       "  mask=[[ True,  True, False],\n",
       "        [False,  True, False]],\n",
       "  fill_value=999999)"
      ]
     },
     "execution_count": 162,
     "metadata": {},
     "output_type": "execute_result"
    }
   ],
   "source": [
    "x"
   ]
  },
  {
   "cell_type": "code",
   "execution_count": 163,
   "metadata": {},
   "outputs": [
    {
     "data": {
      "text/plain": [
       "array([[1, 3],\n",
       "       [4, 6]])"
      ]
     },
     "execution_count": 163,
     "metadata": {},
     "output_type": "execute_result"
    }
   ],
   "source": [
    "np.delete(x.data, np.all(x.mask==True, axis=0), axis=1)"
   ]
  },
  {
   "cell_type": "markdown",
   "metadata": {},
   "source": [
    "# task 47:\n",
    "Примените маску к минимальному и максимальному элементу каждой строки двумерного массива.\n",
    "Решите задачу на примере массива ```x = np.arange(25).reshape(5, 5)```."
   ]
  },
  {
   "cell_type": "code",
   "execution_count": 164,
   "metadata": {},
   "outputs": [],
   "source": [
    "x = np.arange(25).reshape(5, 5)"
   ]
  },
  {
   "cell_type": "code",
   "execution_count": 165,
   "metadata": {},
   "outputs": [
    {
     "data": {
      "text/plain": [
       "array([[ 0,  1,  2,  3,  4],\n",
       "       [ 5,  6,  7,  8,  9],\n",
       "       [10, 11, 12, 13, 14],\n",
       "       [15, 16, 17, 18, 19],\n",
       "       [20, 21, 22, 23, 24]])"
      ]
     },
     "execution_count": 165,
     "metadata": {},
     "output_type": "execute_result"
    }
   ],
   "source": [
    "x"
   ]
  },
  {
   "cell_type": "code",
   "execution_count": 166,
   "metadata": {},
   "outputs": [],
   "source": [
    "#x = np.array([[0, 1, 1], [10, -10, 0]])"
   ]
  },
  {
   "cell_type": "code",
   "execution_count": 167,
   "metadata": {},
   "outputs": [
    {
     "data": {
      "text/plain": [
       "masked_array(\n",
       "  data=[[--, 1, 2, 3, --],\n",
       "        [--, 6, 7, 8, --],\n",
       "        [--, 11, 12, 13, --],\n",
       "        [--, 16, 17, 18, --],\n",
       "        [--, 21, 22, 23, --]],\n",
       "  mask=[[ True, False, False, False,  True],\n",
       "        [ True, False, False, False,  True],\n",
       "        [ True, False, False, False,  True],\n",
       "        [ True, False, False, False,  True],\n",
       "        [ True, False, False, False,  True]],\n",
       "  fill_value=999999)"
      ]
     },
     "execution_count": 167,
     "metadata": {},
     "output_type": "execute_result"
    }
   ],
   "source": [
    "np.ma.array(x, \n",
    "            mask=(np.equal(x, np.max(x, axis=1).reshape(x.shape[0], -1)) | \\\n",
    "                  np.equal(x, np.min(x, axis=1).reshape(x.shape[0], -1))))"
   ]
  },
  {
   "cell_type": "markdown",
   "metadata": {},
   "source": [
    "# task 48:\n",
    "\n",
    "Примените медианный фильтр с нечетной шириной окна k к заданному одномерному массиву a: i-е значение результирующего массива вычисляется как медиана подмассива ```a[i - (k-1)/2: i - (k-1)/2 + 1]```. В случае если границы окна выходят за границы массива, дополните исходный массив требуемым числом элементов a[0] или a[-1] с нужной стороны.\n",
    "Решите задачу на примере массива ```a = np.array([3, 8, 100, -3, -7, 4, 0, 2])``` и ширины окна k = 5."
   ]
  },
  {
   "cell_type": "code",
   "execution_count": 168,
   "metadata": {},
   "outputs": [],
   "source": [
    "a = np.array([3, 8, 100, -3, -7, 4, 0, 2])\n",
    "res = np.empty(shape=a.shape, dtype=int)\n",
    "k = 5"
   ]
  },
  {
   "cell_type": "code",
   "execution_count": 169,
   "metadata": {},
   "outputs": [
    {
     "name": "stdout",
     "output_type": "stream",
     "text": [
      "[  3   3   3   8 100  -3  -7   4   0   2   2   2]\n"
     ]
    }
   ],
   "source": [
    "skip = (k-1)//2\n",
    "a = np.pad(a, skip, mode='edge')\n",
    "print(a)"
   ]
  },
  {
   "cell_type": "code",
   "execution_count": 170,
   "metadata": {},
   "outputs": [],
   "source": [
    "for i in range(0, len(a)-k+1):\n",
    "    res[i] = np.median(a[i: i + k + 1])"
   ]
  },
  {
   "cell_type": "code",
   "execution_count": 171,
   "metadata": {},
   "outputs": [
    {
     "data": {
      "text/plain": [
       "array([3, 3, 3, 2, 1, 1, 2, 2])"
      ]
     },
     "execution_count": 171,
     "metadata": {},
     "output_type": "execute_result"
    }
   ],
   "source": [
    "res"
   ]
  },
  {
   "cell_type": "markdown",
   "metadata": {},
   "source": [
    "# task 49:\n",
    "\n",
    "По заданному массиву a размера Nx2 постройте одномерный массив длины N, i-й элемент которого - сумма i-го элемента первого столбца массива a и элемента первого столбца, индекс которого содержится в i-й строке второго столбца. В случае, если во втором столбце массива a содержится индекс, выходящий за границы, к элементу первого столбца ничего не прибавляйте.\n",
    "Решите задачу на примере массива ```a = np.array([[10, 1], [3, 1], [8, 2], [6, 1], [12, 5]])```."
   ]
  },
  {
   "cell_type": "code",
   "execution_count": 172,
   "metadata": {},
   "outputs": [],
   "source": [
    "a = np.array([[10, 1], [3, 1], [8, 2], [6, -1], [12, 5]])"
   ]
  },
  {
   "cell_type": "code",
   "execution_count": 173,
   "metadata": {},
   "outputs": [
    {
     "data": {
      "text/plain": [
       "array([[10,  1],\n",
       "       [ 3,  1],\n",
       "       [ 8,  2],\n",
       "       [ 6, -1],\n",
       "       [12,  5]])"
      ]
     },
     "execution_count": 173,
     "metadata": {},
     "output_type": "execute_result"
    }
   ],
   "source": [
    "a"
   ]
  },
  {
   "cell_type": "code",
   "execution_count": 174,
   "metadata": {},
   "outputs": [],
   "source": [
    "res = np.empty(shape=(a.shape[0],), dtype=int)\n",
    "for num, (x, y) in enumerate(a):\n",
    "    res[num] = x + a[y, 0] if 0 <= y < len(a) else x"
   ]
  },
  {
   "cell_type": "code",
   "execution_count": 175,
   "metadata": {},
   "outputs": [
    {
     "data": {
      "text/plain": [
       "array([13,  6, 16,  6, 12])"
      ]
     },
     "execution_count": 175,
     "metadata": {},
     "output_type": "execute_result"
    }
   ],
   "source": [
    "res"
   ]
  },
  {
   "cell_type": "markdown",
   "metadata": {},
   "source": [
    "# task 50:\n",
    "\n",
    "По заданному двумерному массиву размера NxN постройте словарь, ключи которого - индексы диагоналей, параллельных побочной (нумерация начинается с 0), а значения - списки элементов исходного массива, лежащих на соответствующих диагоналях.\n",
    "Решите задачу на примере массива ```a = np.arange(16).reshape(4, 4)```, в результате должен получиться словарь\n",
    "```\n",
    "{0: [0],\n",
    " 1: [1, 4],\n",
    " 2: [2, 5, 8],\n",
    " 3: [3, 6, 9, 12],\n",
    " 4: [7, 10, 13],\n",
    " 5: [11, 14],\n",
    " 6: [15]}.\n",
    "```"
   ]
  },
  {
   "cell_type": "markdown",
   "metadata": {},
   "source": [
    "## Способ 1:"
   ]
  },
  {
   "cell_type": "code",
   "execution_count": 176,
   "metadata": {},
   "outputs": [],
   "source": [
    "a = np.arange(16).reshape(4, 4)"
   ]
  },
  {
   "cell_type": "code",
   "execution_count": 177,
   "metadata": {},
   "outputs": [
    {
     "data": {
      "text/plain": [
       "array([[ 0,  1,  2,  3],\n",
       "       [ 4,  5,  6,  7],\n",
       "       [ 8,  9, 10, 11],\n",
       "       [12, 13, 14, 15]])"
      ]
     },
     "execution_count": 177,
     "metadata": {},
     "output_type": "execute_result"
    }
   ],
   "source": [
    "a"
   ]
  },
  {
   "cell_type": "code",
   "execution_count": 178,
   "metadata": {},
   "outputs": [],
   "source": [
    "res = {}\n",
    "for iterator in range(-a.shape[1]+1, a.shape[1]):\n",
    "    res[iterator+3] = list(np.diag(a[:, ::-1], -iterator))"
   ]
  },
  {
   "cell_type": "code",
   "execution_count": 179,
   "metadata": {},
   "outputs": [
    {
     "data": {
      "text/plain": [
       "{0: [0],\n",
       " 1: [1, 4],\n",
       " 2: [2, 5, 8],\n",
       " 3: [3, 6, 9, 12],\n",
       " 4: [7, 10, 13],\n",
       " 5: [11, 14],\n",
       " 6: [15]}"
      ]
     },
     "execution_count": 179,
     "metadata": {},
     "output_type": "execute_result"
    }
   ],
   "source": [
    "res"
   ]
  },
  {
   "cell_type": "markdown",
   "metadata": {},
   "source": [
    "## Способ 2:"
   ]
  },
  {
   "cell_type": "code",
   "execution_count": 180,
   "metadata": {},
   "outputs": [],
   "source": [
    "it = np.nditer(a, flags=['multi_index'])\n",
    "res = {}\n",
    "while not it.finished:\n",
    "    if np.sum(it.multi_index) in res:\n",
    "        res[np.sum(it.multi_index)].append(int(it[0]))\n",
    "    else:\n",
    "        res[np.sum(it.multi_index)] = [int(it[0])]   \n",
    "    it.iternext()"
   ]
  },
  {
   "cell_type": "code",
   "execution_count": 181,
   "metadata": {},
   "outputs": [
    {
     "data": {
      "text/plain": [
       "{0: [0],\n",
       " 1: [1, 4],\n",
       " 2: [2, 5, 8],\n",
       " 3: [3, 6, 9, 12],\n",
       " 4: [7, 10, 13],\n",
       " 5: [11, 14],\n",
       " 6: [15]}"
      ]
     },
     "execution_count": 181,
     "metadata": {},
     "output_type": "execute_result"
    }
   ],
   "source": [
    "res"
   ]
  },
  {
   "cell_type": "markdown",
   "metadata": {},
   "source": [
    "# Вопросы\n",
    "\n",
    "Отличие a.mean() от np.mean()"
   ]
  },
  {
   "cell_type": "code",
   "execution_count": 182,
   "metadata": {},
   "outputs": [
    {
     "data": {
      "text/plain": [
       "\u001b[0;31mDocstring:\u001b[0m\n",
       "a.mean(axis=None, dtype=None, out=None, keepdims=False)\n",
       "\n",
       "Returns the average of the array elements along given axis.\n",
       "\n",
       "Refer to `numpy.mean` for full documentation.\n",
       "\n",
       "See Also\n",
       "--------\n",
       "numpy.mean : equivalent function\n",
       "\u001b[0;31mType:\u001b[0m      builtin_function_or_method\n"
      ]
     },
     "metadata": {},
     "output_type": "display_data"
    }
   ],
   "source": [
    "?a.mean"
   ]
  },
  {
   "cell_type": "code",
   "execution_count": 183,
   "metadata": {
    "scrolled": true
   },
   "outputs": [
    {
     "data": {
      "text/plain": [
       "\u001b[0;31mSignature:\u001b[0m \u001b[0mnp\u001b[0m\u001b[0;34m.\u001b[0m\u001b[0mmean\u001b[0m\u001b[0;34m(\u001b[0m\u001b[0ma\u001b[0m\u001b[0;34m,\u001b[0m \u001b[0maxis\u001b[0m\u001b[0;34m=\u001b[0m\u001b[0;32mNone\u001b[0m\u001b[0;34m,\u001b[0m \u001b[0mdtype\u001b[0m\u001b[0;34m=\u001b[0m\u001b[0;32mNone\u001b[0m\u001b[0;34m,\u001b[0m \u001b[0mout\u001b[0m\u001b[0;34m=\u001b[0m\u001b[0;32mNone\u001b[0m\u001b[0;34m,\u001b[0m \u001b[0mkeepdims\u001b[0m\u001b[0;34m=\u001b[0m\u001b[0;34m<\u001b[0m\u001b[0mno\u001b[0m \u001b[0mvalue\u001b[0m\u001b[0;34m>\u001b[0m\u001b[0;34m)\u001b[0m\u001b[0;34m\u001b[0m\u001b[0;34m\u001b[0m\u001b[0m\n",
       "\u001b[0;31mDocstring:\u001b[0m\n",
       "Compute the arithmetic mean along the specified axis.\n",
       "\n",
       "Returns the average of the array elements.  The average is taken over\n",
       "the flattened array by default, otherwise over the specified axis.\n",
       "`float64` intermediate and return values are used for integer inputs.\n",
       "\n",
       "Parameters\n",
       "----------\n",
       "a : array_like\n",
       "    Array containing numbers whose mean is desired. If `a` is not an\n",
       "    array, a conversion is attempted.\n",
       "axis : None or int or tuple of ints, optional\n",
       "    Axis or axes along which the means are computed. The default is to\n",
       "    compute the mean of the flattened array.\n",
       "\n",
       "    .. versionadded:: 1.7.0\n",
       "\n",
       "    If this is a tuple of ints, a mean is performed over multiple axes,\n",
       "    instead of a single axis or all the axes as before.\n",
       "dtype : data-type, optional\n",
       "    Type to use in computing the mean.  For integer inputs, the default\n",
       "    is `float64`; for floating point inputs, it is the same as the\n",
       "    input dtype.\n",
       "out : ndarray, optional\n",
       "    Alternate output array in which to place the result.  The default\n",
       "    is ``None``; if provided, it must have the same shape as the\n",
       "    expected output, but the type will be cast if necessary.\n",
       "    See `ufuncs-output-type` for more details.\n",
       "\n",
       "keepdims : bool, optional\n",
       "    If this is set to True, the axes which are reduced are left\n",
       "    in the result as dimensions with size one. With this option,\n",
       "    the result will broadcast correctly against the input array.\n",
       "\n",
       "    If the default value is passed, then `keepdims` will not be\n",
       "    passed through to the `mean` method of sub-classes of\n",
       "    `ndarray`, however any non-default value will be.  If the\n",
       "    sub-class' method does not implement `keepdims` any\n",
       "    exceptions will be raised.\n",
       "\n",
       "Returns\n",
       "-------\n",
       "m : ndarray, see dtype parameter above\n",
       "    If `out=None`, returns a new array containing the mean values,\n",
       "    otherwise a reference to the output array is returned.\n",
       "\n",
       "See Also\n",
       "--------\n",
       "average : Weighted average\n",
       "std, var, nanmean, nanstd, nanvar\n",
       "\n",
       "Notes\n",
       "-----\n",
       "The arithmetic mean is the sum of the elements along the axis divided\n",
       "by the number of elements.\n",
       "\n",
       "Note that for floating-point input, the mean is computed using the\n",
       "same precision the input has.  Depending on the input data, this can\n",
       "cause the results to be inaccurate, especially for `float32` (see\n",
       "example below).  Specifying a higher-precision accumulator using the\n",
       "`dtype` keyword can alleviate this issue.\n",
       "\n",
       "By default, `float16` results are computed using `float32` intermediates\n",
       "for extra precision.\n",
       "\n",
       "Examples\n",
       "--------\n",
       ">>> a = np.array([[1, 2], [3, 4]])\n",
       ">>> np.mean(a)\n",
       "2.5\n",
       ">>> np.mean(a, axis=0)\n",
       "array([2., 3.])\n",
       ">>> np.mean(a, axis=1)\n",
       "array([1.5, 3.5])\n",
       "\n",
       "In single precision, `mean` can be inaccurate:\n",
       "\n",
       ">>> a = np.zeros((2, 512*512), dtype=np.float32)\n",
       ">>> a[0, :] = 1.0\n",
       ">>> a[1, :] = 0.1\n",
       ">>> np.mean(a)\n",
       "0.54999924\n",
       "\n",
       "Computing the mean in float64 is more accurate:\n",
       "\n",
       ">>> np.mean(a, dtype=np.float64)\n",
       "0.55000000074505806 # may vary\n",
       "\u001b[0;31mFile:\u001b[0m      /opt/conda/lib/python3.6/site-packages/numpy/core/fromnumeric.py\n",
       "\u001b[0;31mType:\u001b[0m      function\n"
      ]
     },
     "metadata": {},
     "output_type": "display_data"
    }
   ],
   "source": [
    "?np.mean"
   ]
  },
  {
   "cell_type": "markdown",
   "metadata": {},
   "source": [
    "1) There isn't systematic difference or relation. Most of the functions are written in Python which you can read. Many delegate the action to the corresponding method if it exists. The function form can also convert a list into an array before acting on it. The method call is usually a bit faster because it involves one less layer of calling.\n",
    "\n",
    "2) There is a notable difference between numpy.sort and ndarray.sort: the former returns a copy of the array, the latter sorts in-place. \n",
    "For other methods, one can use equivalent functions just as well. The function form will accept array-like collections that can be converted to a NumPy array; this is sometimes convenient. On the other hand, this comes at the expense of a few more checks and function calls, so the method form should be a tiny bit faster."
   ]
  },
  {
   "cell_type": "code",
   "execution_count": null,
   "metadata": {},
   "outputs": [],
   "source": []
  }
 ],
 "metadata": {
  "kernelspec": {
   "display_name": "Python 3",
   "language": "python",
   "name": "python3"
  },
  "language_info": {
   "codemirror_mode": {
    "name": "ipython",
    "version": 3
   },
   "file_extension": ".py",
   "mimetype": "text/x-python",
   "name": "python",
   "nbconvert_exporter": "python",
   "pygments_lexer": "ipython3",
   "version": "3.6.10"
  }
 },
 "nbformat": 4,
 "nbformat_minor": 4
}
