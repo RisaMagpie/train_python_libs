{
 "cells": [
  {
   "cell_type": "code",
   "execution_count": 1,
   "metadata": {},
   "outputs": [],
   "source": [
    "import numpy as np"
   ]
  },
  {
   "cell_type": "markdown",
   "metadata": {},
   "source": [
    "# task: 1"
   ]
  },
  {
   "cell_type": "markdown",
   "metadata": {},
   "source": [
    "1. Создайте массив длины 10, заполненный нулями\n",
    "2. Сделайте полученный массив неизменяемым"
   ]
  },
  {
   "cell_type": "code",
   "execution_count": 2,
   "metadata": {},
   "outputs": [],
   "source": [
    "arr = np.zeros(10)"
   ]
  },
  {
   "cell_type": "code",
   "execution_count": 3,
   "metadata": {},
   "outputs": [],
   "source": [
    "arr.setflags(write=False)"
   ]
  },
  {
   "cell_type": "code",
   "execution_count": 4,
   "metadata": {},
   "outputs": [
    {
     "data": {
      "text/plain": [
       "  C_CONTIGUOUS : True\n",
       "  F_CONTIGUOUS : True\n",
       "  OWNDATA : True\n",
       "  WRITEABLE : False\n",
       "  ALIGNED : True\n",
       "  WRITEBACKIFCOPY : False\n",
       "  UPDATEIFCOPY : False"
      ]
     },
     "execution_count": 4,
     "metadata": {},
     "output_type": "execute_result"
    }
   ],
   "source": [
    "arr.flags"
   ]
  },
  {
   "cell_type": "markdown",
   "metadata": {},
   "source": [
    "# task: 2"
   ]
  },
  {
   "cell_type": "markdown",
   "metadata": {},
   "source": [
    "1. Создайте массив, содержащий 5 равноотстоящих точек, покрывающих диапазон от 0 до 2*pi\n",
    "2. Создайте массив, содержащий 5 равноотстоящих в логарифмическом масштабе точек, покрывающих диапазон от 10 до 100\n",
    "3. Составьте из полученных массивов координатную сеть (meshgrid)"
   ]
  },
  {
   "cell_type": "code",
   "execution_count": 5,
   "metadata": {},
   "outputs": [],
   "source": [
    "arr_x = np.linspace(0, 2*np.pi, 5)"
   ]
  },
  {
   "cell_type": "code",
   "execution_count": 6,
   "metadata": {},
   "outputs": [],
   "source": [
    "arr_y = np.logspace(10, 100, 5)"
   ]
  },
  {
   "cell_type": "code",
   "execution_count": 7,
   "metadata": {},
   "outputs": [
    {
     "data": {
      "text/plain": [
       "[array([[0.        , 1.57079633, 3.14159265, 4.71238898, 6.28318531],\n",
       "        [0.        , 1.57079633, 3.14159265, 4.71238898, 6.28318531],\n",
       "        [0.        , 1.57079633, 3.14159265, 4.71238898, 6.28318531],\n",
       "        [0.        , 1.57079633, 3.14159265, 4.71238898, 6.28318531],\n",
       "        [0.        , 1.57079633, 3.14159265, 4.71238898, 6.28318531]]),\n",
       " array([[1.00000000e+010, 1.00000000e+010, 1.00000000e+010,\n",
       "         1.00000000e+010, 1.00000000e+010],\n",
       "        [3.16227766e+032, 3.16227766e+032, 3.16227766e+032,\n",
       "         3.16227766e+032, 3.16227766e+032],\n",
       "        [1.00000000e+055, 1.00000000e+055, 1.00000000e+055,\n",
       "         1.00000000e+055, 1.00000000e+055],\n",
       "        [3.16227766e+077, 3.16227766e+077, 3.16227766e+077,\n",
       "         3.16227766e+077, 3.16227766e+077],\n",
       "        [1.00000000e+100, 1.00000000e+100, 1.00000000e+100,\n",
       "         1.00000000e+100, 1.00000000e+100]])]"
      ]
     },
     "execution_count": 7,
     "metadata": {},
     "output_type": "execute_result"
    }
   ],
   "source": [
    "np.meshgrid(arr_x, arr_y)"
   ]
  },
  {
   "cell_type": "markdown",
   "metadata": {},
   "source": [
    "# task: 3"
   ]
  },
  {
   "cell_type": "markdown",
   "metadata": {},
   "source": [
    "Создайте двумерный массив 5х5 с элементами 1, 2, 3 и 4 под главной диагональю, остальные элементы заполните нулями"
   ]
  },
  {
   "cell_type": "code",
   "execution_count": 8,
   "metadata": {},
   "outputs": [],
   "source": [
    "size = 100"
   ]
  },
  {
   "cell_type": "code",
   "execution_count": 9,
   "metadata": {},
   "outputs": [
    {
     "name": "stdout",
     "output_type": "stream",
     "text": [
      "17.9 µs ± 544 ns per loop (mean ± std. dev. of 7 runs, 10000 loops each)\n"
     ]
    }
   ],
   "source": [
    "%%timeit\n",
    "arr1 = np.diag(range(1, size), -1)"
   ]
  },
  {
   "cell_type": "code",
   "execution_count": 10,
   "metadata": {},
   "outputs": [
    {
     "name": "stdout",
     "output_type": "stream",
     "text": [
      "40.6 µs ± 874 ns per loop (mean ± std. dev. of 7 runs, 10000 loops each)\n"
     ]
    }
   ],
   "source": [
    "%%timeit\n",
    "arr2 = np.zeros((size, size))\n",
    "arr2[range(1,size), range(0,size-1)] = range(1,size)"
   ]
  },
  {
   "cell_type": "markdown",
   "metadata": {},
   "source": [
    "### Ответ:"
   ]
  },
  {
   "cell_type": "code",
   "execution_count": 11,
   "metadata": {},
   "outputs": [
    {
     "data": {
      "text/plain": [
       "array([[0, 0, 0, 0, 0],\n",
       "       [1, 0, 0, 0, 0],\n",
       "       [0, 2, 0, 0, 0],\n",
       "       [0, 0, 3, 0, 0],\n",
       "       [0, 0, 0, 4, 0]])"
      ]
     },
     "execution_count": 11,
     "metadata": {},
     "output_type": "execute_result"
    }
   ],
   "source": [
    "np.diag(range(1, 5), -1)"
   ]
  },
  {
   "cell_type": "markdown",
   "metadata": {},
   "source": [
    "# task: 4 "
   ]
  },
  {
   "cell_type": "markdown",
   "metadata": {},
   "source": [
    "1. Создайте функцию-генератор, последовательно возвращающую целые числа от 0 до 9\n",
    "2. Создайте массив из построенного генератора"
   ]
  },
  {
   "cell_type": "code",
   "execution_count": 12,
   "metadata": {},
   "outputs": [],
   "source": [
    "def gen_num(min_num, max_num):\n",
    "    num = min_num\n",
    "    while num <= max_num:\n",
    "        yield num\n",
    "        num += 1   "
   ]
  },
  {
   "cell_type": "code",
   "execution_count": 13,
   "metadata": {},
   "outputs": [],
   "source": [
    "stop_num = 10000"
   ]
  },
  {
   "cell_type": "code",
   "execution_count": 14,
   "metadata": {},
   "outputs": [
    {
     "name": "stdout",
     "output_type": "stream",
     "text": [
      "932 µs ± 229 ns per loop (mean ± std. dev. of 7 runs, 1000 loops each)\n"
     ]
    }
   ],
   "source": [
    "%%timeit\n",
    "gen = gen_num(0, stop_num)\n",
    "np.fromiter(gen, int)"
   ]
  },
  {
   "cell_type": "code",
   "execution_count": 15,
   "metadata": {},
   "outputs": [],
   "source": [
    "def gen_num_range(min_num, max_num):\n",
    "    for num in range(min_num, max_num+1):\n",
    "        yield num"
   ]
  },
  {
   "cell_type": "code",
   "execution_count": 16,
   "metadata": {},
   "outputs": [
    {
     "name": "stdout",
     "output_type": "stream",
     "text": [
      "597 µs ± 16.4 µs per loop (mean ± std. dev. of 7 runs, 1000 loops each)\n"
     ]
    }
   ],
   "source": [
    "%%timeit\n",
    "gen = gen_num_range(0, stop_num)\n",
    "np.fromiter(gen, int)"
   ]
  },
  {
   "cell_type": "markdown",
   "metadata": {},
   "source": [
    "### Ответ"
   ]
  },
  {
   "cell_type": "code",
   "execution_count": 17,
   "metadata": {},
   "outputs": [
    {
     "data": {
      "text/plain": [
       "array([0, 1, 2, 3, 4, 5, 6, 7, 8, 9])"
      ]
     },
     "execution_count": 17,
     "metadata": {},
     "output_type": "execute_result"
    }
   ],
   "source": [
    "def gen_num_range(min_num, max_num):\n",
    "    for num in range(min_num, max_num+1):\n",
    "        yield num\n",
    "        \n",
    "gen = gen_num_range(0, 9)\n",
    "np.fromiter(gen, int)"
   ]
  },
  {
   "cell_type": "markdown",
   "metadata": {},
   "source": [
    "# task: 9\n",
    "\n",
    "1. Создайте масив из четырех элементов: 0, 10, 20, 30\n",
    "2. Создайте двухмерный массив 4x5, в котором первый столбец - массив с шага 1, а каждый элемент каждой строки, начиная со второго,  больше предыдущего элемента этой же строки на 1."
   ]
  },
  {
   "cell_type": "code",
   "execution_count": 18,
   "metadata": {},
   "outputs": [],
   "source": [
    "last_elem = 4*1000\n",
    "\n",
    "a = np.arange(0, last_elem, 10)\n",
    "b = np.arange(0,5)"
   ]
  },
  {
   "cell_type": "code",
   "execution_count": 19,
   "metadata": {},
   "outputs": [
    {
     "name": "stdout",
     "output_type": "stream",
     "text": [
      "5.17 µs ± 107 ns per loop (mean ± std. dev. of 7 runs, 100000 loops each)\n"
     ]
    }
   ],
   "source": [
    "%%timeit\n",
    "b+a[:, np.newaxis]"
   ]
  },
  {
   "cell_type": "code",
   "execution_count": 20,
   "metadata": {},
   "outputs": [
    {
     "name": "stdout",
     "output_type": "stream",
     "text": [
      "5.13 µs ± 163 ns per loop (mean ± std. dev. of 7 runs, 100000 loops each)\n"
     ]
    }
   ],
   "source": [
    "%%timeit\n",
    "b+a.reshape(-1,1)"
   ]
  },
  {
   "cell_type": "markdown",
   "metadata": {},
   "source": [
    "### Ответ:"
   ]
  },
  {
   "cell_type": "code",
   "execution_count": 21,
   "metadata": {},
   "outputs": [
    {
     "name": "stdout",
     "output_type": "stream",
     "text": [
      "[[ 0  1  2  3  4]\n",
      " [10 11 12 13 14]\n",
      " [20 21 22 23 24]\n",
      " [30 31 32 33 34]]\n"
     ]
    }
   ],
   "source": [
    "last_elem = 4*10\n",
    "a = np.arange(0, last_elem, 10)\n",
    "b = np.arange(0,5)\n",
    "print(b+a.reshape(-1,1))"
   ]
  },
  {
   "cell_type": "markdown",
   "metadata": {},
   "source": [
    "# task: 11\n",
    "\n",
    "Создайте двумерный массив 8х8, заполненный 0 и 1 в шахматном порядке"
   ]
  },
  {
   "cell_type": "code",
   "execution_count": 22,
   "metadata": {},
   "outputs": [],
   "source": [
    "a = np.zeros((8, 8))"
   ]
  },
  {
   "cell_type": "code",
   "execution_count": 23,
   "metadata": {},
   "outputs": [],
   "source": [
    "a[0:9:2, 0:9:2] = 1"
   ]
  },
  {
   "cell_type": "code",
   "execution_count": 24,
   "metadata": {},
   "outputs": [],
   "source": [
    "a[1:9:2, 1:9:2] = 1"
   ]
  },
  {
   "cell_type": "code",
   "execution_count": 25,
   "metadata": {},
   "outputs": [
    {
     "data": {
      "text/plain": [
       "array([[1., 0., 1., 0., 1., 0., 1., 0.],\n",
       "       [0., 1., 0., 1., 0., 1., 0., 1.],\n",
       "       [1., 0., 1., 0., 1., 0., 1., 0.],\n",
       "       [0., 1., 0., 1., 0., 1., 0., 1.],\n",
       "       [1., 0., 1., 0., 1., 0., 1., 0.],\n",
       "       [0., 1., 0., 1., 0., 1., 0., 1.],\n",
       "       [1., 0., 1., 0., 1., 0., 1., 0.],\n",
       "       [0., 1., 0., 1., 0., 1., 0., 1.]])"
      ]
     },
     "execution_count": 25,
     "metadata": {},
     "output_type": "execute_result"
    }
   ],
   "source": [
    "a"
   ]
  },
  {
   "cell_type": "markdown",
   "metadata": {},
   "source": [
    "# task: 12\n",
    "\n",
    "1. Создайте одномерный массив целых чисел от 1 до 5\n",
    "2. Вставьте 0 между каждой парой соседних элементов"
   ]
  },
  {
   "cell_type": "code",
   "execution_count": 26,
   "metadata": {},
   "outputs": [],
   "source": [
    "length = 5\n",
    "\n",
    "a = np.arange(1, length+1)"
   ]
  },
  {
   "cell_type": "code",
   "execution_count": 27,
   "metadata": {},
   "outputs": [
    {
     "name": "stdout",
     "output_type": "stream",
     "text": [
      "13.3 µs ± 426 ns per loop (mean ± std. dev. of 7 runs, 100000 loops each)\n"
     ]
    }
   ],
   "source": [
    "%%timeit\n",
    "np.insert(a, np.arange(1, length), 0)"
   ]
  },
  {
   "cell_type": "code",
   "execution_count": 28,
   "metadata": {},
   "outputs": [
    {
     "name": "stdout",
     "output_type": "stream",
     "text": [
      "13.3 µs ± 392 ns per loop (mean ± std. dev. of 7 runs, 100000 loops each)\n"
     ]
    }
   ],
   "source": [
    "%%timeit\n",
    "np.insert(a, slice(1, length), 0)"
   ]
  },
  {
   "cell_type": "code",
   "execution_count": 29,
   "metadata": {},
   "outputs": [
    {
     "name": "stdout",
     "output_type": "stream",
     "text": [
      "922 ns ± 6.47 ns per loop (mean ± std. dev. of 7 runs, 1000000 loops each)\n"
     ]
    }
   ],
   "source": [
    "%%timeit\n",
    "b = np.zeros(length*2-1)\n",
    "b[0::2] = a"
   ]
  },
  {
   "cell_type": "markdown",
   "metadata": {},
   "source": [
    "### Ответ:"
   ]
  },
  {
   "cell_type": "code",
   "execution_count": 30,
   "metadata": {},
   "outputs": [
    {
     "name": "stdout",
     "output_type": "stream",
     "text": [
      "[1. 0. 2. 0. 3. 0. 4. 0. 5.]\n"
     ]
    }
   ],
   "source": [
    "length = 5\n",
    "a = np.arange(1, length+1)\n",
    "b = np.zeros(length*2-1)\n",
    "b[0::2] = a\n",
    "print(b)"
   ]
  },
  {
   "cell_type": "markdown",
   "metadata": {},
   "source": [
    "# task: 13"
   ]
  },
  {
   "cell_type": "markdown",
   "metadata": {},
   "source": [
    "\"Что будет выведено на экран?\n",
    "```\n",
    "x = np.arange(36).reshape(2,3,2,3)\n",
    "print(x[...,0,...])\"\n",
    "ellipsis\n",
    "```\n",
    "\n",
    "14\n",
    "\"\"\"\n",
    "\"Что будет выведено на экран?\n",
    "x = np.arange(16).reshape(4,4)\n",
    "y = x[:,[2,3]]\n",
    "y[:] = 0\n",
    "print(x)\n",
    "y = x[:,:2]\n",
    "y[:] = 0\n",
    "print(x)\"\n",
    "\"\"\""
   ]
  },
  {
   "cell_type": "markdown",
   "metadata": {},
   "source": [
    "# task: 15\n",
    "\n",
    "Замените отрицательные элементы массива нулем."
   ]
  },
  {
   "cell_type": "code",
   "execution_count": 31,
   "metadata": {},
   "outputs": [],
   "source": [
    "a = np.random.rand(3, 4) - 0.5"
   ]
  },
  {
   "cell_type": "code",
   "execution_count": 32,
   "metadata": {},
   "outputs": [
    {
     "data": {
      "text/plain": [
       "array([[-0.13025725, -0.23709855, -0.30519607,  0.43522058],\n",
       "       [-0.35411688,  0.02829301,  0.15691117,  0.03849987],\n",
       "       [-0.45141767,  0.4575259 , -0.43449912, -0.00530149]])"
      ]
     },
     "execution_count": 32,
     "metadata": {},
     "output_type": "execute_result"
    }
   ],
   "source": [
    "a"
   ]
  },
  {
   "cell_type": "code",
   "execution_count": 33,
   "metadata": {},
   "outputs": [],
   "source": [
    "a[a < 0] = 0"
   ]
  },
  {
   "cell_type": "code",
   "execution_count": 34,
   "metadata": {},
   "outputs": [
    {
     "data": {
      "text/plain": [
       "array([[0.        , 0.        , 0.        , 0.43522058],\n",
       "       [0.        , 0.02829301, 0.15691117, 0.03849987],\n",
       "       [0.        , 0.4575259 , 0.        , 0.        ]])"
      ]
     },
     "execution_count": 34,
     "metadata": {},
     "output_type": "execute_result"
    }
   ],
   "source": [
    "a"
   ]
  },
  {
   "cell_type": "markdown",
   "metadata": {},
   "source": [
    "# task: 16\n",
    "\n",
    "На примере целочисленного массива ```x = np.array([[1,2,3], [1,1,1], [2,2,1], [2,2,2]], dtype=int)``` составьте новый массив, не содержащий строки, полностью заполненные одним уникальным значением."
   ]
  },
  {
   "cell_type": "code",
   "execution_count": 35,
   "metadata": {},
   "outputs": [],
   "source": [
    "x = np.array([[1, 2, 3], [1, 1, 1], [2, 2, 1], [2, 2, 2]], dtype=int)"
   ]
  },
  {
   "cell_type": "code",
   "execution_count": 36,
   "metadata": {},
   "outputs": [
    {
     "data": {
      "text/plain": [
       "array([[1, 2, 3],\n",
       "       [2, 2, 1]])"
      ]
     },
     "execution_count": 36,
     "metadata": {},
     "output_type": "execute_result"
    }
   ],
   "source": [
    "x[np.max(x, axis = 1) > np.min(x, axis = 1)]"
   ]
  },
  {
   "cell_type": "markdown",
   "metadata": {},
   "source": [
    "# task: 17\n",
    "\n",
    "Для заданного одномерного массива x выведите все элементы, не превышающие своих соседей (первый и последний элемент сравниваются только со вторым и предпоследним соответственно)."
   ]
  },
  {
   "cell_type": "code",
   "execution_count": 37,
   "metadata": {},
   "outputs": [],
   "source": [
    "x = np.random.randint(0, 10, 10)"
   ]
  },
  {
   "cell_type": "code",
   "execution_count": 38,
   "metadata": {},
   "outputs": [
    {
     "data": {
      "text/plain": [
       "array([7, 0, 2, 5, 4, 5, 5, 9, 7, 4])"
      ]
     },
     "execution_count": 38,
     "metadata": {},
     "output_type": "execute_result"
    }
   ],
   "source": [
    "x"
   ]
  },
  {
   "cell_type": "code",
   "execution_count": 39,
   "metadata": {},
   "outputs": [
    {
     "data": {
      "text/plain": [
       "array([0, 4, 5, 4])"
      ]
     },
     "execution_count": 39,
     "metadata": {},
     "output_type": "execute_result"
    }
   ],
   "source": [
    "x[np.r_[x[:-1]<=x[1:], True] & np.r_[True, x[1:]<=x[:-1]]]"
   ]
  },
  {
   "cell_type": "markdown",
   "metadata": {},
   "source": [
    "# task: 18\n",
    "\n",
    "1. Создайте двумерный массив 3x3, заполненный случайными числами от 0 до 9\n",
    "2. Отсортируйте строки массива по возрастанию значения во втором столбце"
   ]
  },
  {
   "cell_type": "code",
   "execution_count": 40,
   "metadata": {},
   "outputs": [],
   "source": [
    "a = np.random.randint(0, 10, (3, 3))"
   ]
  },
  {
   "cell_type": "code",
   "execution_count": 41,
   "metadata": {},
   "outputs": [
    {
     "data": {
      "text/plain": [
       "array([[0, 3, 8],\n",
       "       [1, 7, 4],\n",
       "       [9, 9, 5]])"
      ]
     },
     "execution_count": 41,
     "metadata": {},
     "output_type": "execute_result"
    }
   ],
   "source": [
    "a"
   ]
  },
  {
   "cell_type": "code",
   "execution_count": 42,
   "metadata": {},
   "outputs": [
    {
     "data": {
      "text/plain": [
       "array([[0, 3, 8],\n",
       "       [1, 7, 4],\n",
       "       [9, 9, 5]])"
      ]
     },
     "execution_count": 42,
     "metadata": {},
     "output_type": "execute_result"
    }
   ],
   "source": [
    "a[np.argsort(a[:, 1])]"
   ]
  },
  {
   "cell_type": "markdown",
   "metadata": {},
   "source": [
    "# task 19\n",
    "Поменяйте местами первую и вторую строки двумерного массива"
   ]
  },
  {
   "cell_type": "code",
   "execution_count": 43,
   "metadata": {},
   "outputs": [],
   "source": [
    "shape = (100, 100)\n",
    "\n",
    "a = np.random.randint(0, 20, shape)"
   ]
  },
  {
   "cell_type": "code",
   "execution_count": 44,
   "metadata": {},
   "outputs": [],
   "source": [
    "b = a.copy()"
   ]
  },
  {
   "cell_type": "code",
   "execution_count": 45,
   "metadata": {},
   "outputs": [
    {
     "name": "stdout",
     "output_type": "stream",
     "text": [
      "8.33 µs ± 329 ns per loop (mean ± std. dev. of 7 runs, 100000 loops each)\n"
     ]
    }
   ],
   "source": [
    "%%timeit\n",
    "np.vstack((a[1], a[0], a[2:]))"
   ]
  },
  {
   "cell_type": "code",
   "execution_count": 46,
   "metadata": {},
   "outputs": [
    {
     "name": "stdout",
     "output_type": "stream",
     "text": [
      "4.43 µs ± 35 ns per loop (mean ± std. dev. of 7 runs, 100000 loops each)\n"
     ]
    }
   ],
   "source": [
    "%%timeit\n",
    "a[[1, 0]] = a[[0, 1]]"
   ]
  },
  {
   "cell_type": "code",
   "execution_count": 47,
   "metadata": {},
   "outputs": [
    {
     "name": "stdout",
     "output_type": "stream",
     "text": [
      "981 ns ± 20.3 ns per loop (mean ± std. dev. of 7 runs, 1000000 loops each)\n"
     ]
    }
   ],
   "source": [
    "%%timeit\n",
    "b[1::-1] = b[0:2]"
   ]
  },
  {
   "cell_type": "markdown",
   "metadata": {},
   "source": [
    "### Ответ:"
   ]
  },
  {
   "cell_type": "code",
   "execution_count": 48,
   "metadata": {},
   "outputs": [
    {
     "name": "stdout",
     "output_type": "stream",
     "text": [
      "In:\n",
      " [[ 6  3  5 13]\n",
      " [12  8 14  6]\n",
      " [13 18  6 12]]\n",
      "Out:\n",
      " [[12  8 14  6]\n",
      " [ 6  3  5 13]\n",
      " [13 18  6 12]]\n"
     ]
    }
   ],
   "source": [
    "shape = (3, 4)\n",
    "\n",
    "a = np.random.randint(0, 20, shape)\n",
    "print(\"In:\\n\", a)\n",
    "a[1::-1] = a[0:2]\n",
    "print(\"Out:\\n\", a)"
   ]
  },
  {
   "cell_type": "markdown",
   "metadata": {},
   "source": [
    "# task 20\n",
    "\n",
    "1. Создайте массив 3x5, заполненный числами от 0 до 14\n",
    "2. Выберите 1, 3 строки и 2, 4 столбцы, не удаляя элементы из массива"
   ]
  },
  {
   "cell_type": "code",
   "execution_count": 49,
   "metadata": {},
   "outputs": [],
   "source": [
    "shape = (30, 150)\n",
    "a = np.random.randint(0, 15, shape)"
   ]
  },
  {
   "cell_type": "code",
   "execution_count": 50,
   "metadata": {},
   "outputs": [
    {
     "name": "stdout",
     "output_type": "stream",
     "text": [
      "10.8 µs ± 689 ns per loop (mean ± std. dev. of 7 runs, 100000 loops each)\n"
     ]
    }
   ],
   "source": [
    "%%timeit\n",
    "a[np.ix_([0, 2], [1, 3])]"
   ]
  },
  {
   "cell_type": "code",
   "execution_count": 51,
   "metadata": {},
   "outputs": [
    {
     "name": "stdout",
     "output_type": "stream",
     "text": [
      "4.95 µs ± 9.9 ns per loop (mean ± std. dev. of 7 runs, 100000 loops each)\n"
     ]
    }
   ],
   "source": [
    "%%timeit\n",
    "a[[0, 2]][:, [1, 3]]"
   ]
  },
  {
   "cell_type": "markdown",
   "metadata": {},
   "source": [
    "### Ответ:"
   ]
  },
  {
   "cell_type": "code",
   "execution_count": 52,
   "metadata": {},
   "outputs": [
    {
     "name": "stdout",
     "output_type": "stream",
     "text": [
      "In:\n",
      " [[12 11  3  1 11]\n",
      " [ 7 13 14  5  4]\n",
      " [ 1 12  6  1  1]]\n",
      "Out:\n",
      " [[11  1]\n",
      " [12  1]]\n"
     ]
    }
   ],
   "source": [
    "shape = (3, 5)\n",
    "a = np.random.randint(0, 15, shape)\n",
    "print(\"In:\\n\", a)\n",
    "print(\"Out:\\n\", a[[0, 2]][:, [1, 3]])"
   ]
  },
  {
   "cell_type": "markdown",
   "metadata": {},
   "source": [
    "# task 21\n",
    "Что будет выведено на экран?\n",
    "\n",
    "```Python\n",
    "x = np.arange(5)\n",
    "x[[0,0,1]] = range(3)\n",
    "print(x)\n",
    "x[[1,2,1]] += 1\n",
    "print(x)\n",
    "```"
   ]
  },
  {
   "cell_type": "markdown",
   "metadata": {},
   "source": [
    "**My ans:**\n",
    "```\n",
    "[1, 2, 2, 3, 4]\n",
    "[1, 3, 3, 3, 4]\n",
    "```"
   ]
  },
  {
   "cell_type": "code",
   "execution_count": 53,
   "metadata": {},
   "outputs": [
    {
     "name": "stdout",
     "output_type": "stream",
     "text": [
      "[1 2 2 3 4]\n",
      "[1 3 3 3 4]\n"
     ]
    }
   ],
   "source": [
    "x = np.arange(5)\n",
    "x[[0, 0, 1]] = range(3)\n",
    "print(x)\n",
    "x[[1, 2, 1]] += 1\n",
    "print(x)"
   ]
  },
  {
   "cell_type": "markdown",
   "metadata": {},
   "source": [
    "# task: 22\n",
    "Перечислите все известные вам способы преобразования заданного n-мерного массива в одномерный. Какой из способов работает быстрее и почему?"
   ]
  },
  {
   "cell_type": "code",
   "execution_count": 54,
   "metadata": {},
   "outputs": [],
   "source": [
    "shape_param = 100\n",
    "\n",
    "x = np.random.randint(0, 10, [shape_param]*4)"
   ]
  },
  {
   "cell_type": "code",
   "execution_count": 55,
   "metadata": {},
   "outputs": [
    {
     "name": "stdout",
     "output_type": "stream",
     "text": [
      "CPU times: user 30 µs, sys: 2 µs, total: 32 µs\n",
      "Wall time: 35.8 µs\n"
     ]
    },
    {
     "data": {
      "text/plain": [
       "(100000000,)"
      ]
     },
     "execution_count": 55,
     "metadata": {},
     "output_type": "execute_result"
    }
   ],
   "source": [
    "%%time\n",
    "np.ravel(x).shape"
   ]
  },
  {
   "cell_type": "code",
   "execution_count": 56,
   "metadata": {},
   "outputs": [
    {
     "name": "stdout",
     "output_type": "stream",
     "text": [
      "CPU times: user 22 µs, sys: 2 µs, total: 24 µs\n",
      "Wall time: 27.2 µs\n"
     ]
    },
    {
     "data": {
      "text/plain": [
       "(100000000,)"
      ]
     },
     "execution_count": 56,
     "metadata": {},
     "output_type": "execute_result"
    }
   ],
   "source": [
    "%%time\n",
    "np.reshape(x, (-1,)).shape"
   ]
  },
  {
   "cell_type": "code",
   "execution_count": 57,
   "metadata": {},
   "outputs": [
    {
     "name": "stdout",
     "output_type": "stream",
     "text": [
      "CPU times: user 142 ms, sys: 136 ms, total: 278 ms\n",
      "Wall time: 277 ms\n"
     ]
    },
    {
     "data": {
      "text/plain": [
       "(100000000,)"
      ]
     },
     "execution_count": 57,
     "metadata": {},
     "output_type": "execute_result"
    }
   ],
   "source": [
    "%%time\n",
    "x.flatten().shape"
   ]
  },
  {
   "cell_type": "markdown",
   "metadata": {},
   "source": [
    "### Ответ:\n",
    "\n",
    "reshape и ravel работают с view, в то время как flatten создает копию. ravel - частный случай reshape."
   ]
  },
  {
   "cell_type": "markdown",
   "metadata": {},
   "source": [
    "# task: 23\n",
    "1. Создайте массив, заполненный случайными значениями\n",
    "2. Замените максимальные значения массива средним"
   ]
  },
  {
   "cell_type": "code",
   "execution_count": 58,
   "metadata": {},
   "outputs": [],
   "source": [
    "a = np.random.randint(0, 9, 1000)"
   ]
  },
  {
   "cell_type": "code",
   "execution_count": 59,
   "metadata": {},
   "outputs": [],
   "source": [
    "b = a.copy()\n",
    "c = a.copy()\n",
    "d = a.copy()"
   ]
  },
  {
   "cell_type": "code",
   "execution_count": 60,
   "metadata": {},
   "outputs": [
    {
     "name": "stdout",
     "output_type": "stream",
     "text": [
      "18 µs ± 412 ns per loop (mean ± std. dev. of 7 runs, 100000 loops each)\n"
     ]
    }
   ],
   "source": [
    "%%timeit\n",
    "np.place(a, a==np.max(a), np.mean(a))"
   ]
  },
  {
   "cell_type": "code",
   "execution_count": 61,
   "metadata": {},
   "outputs": [
    {
     "name": "stdout",
     "output_type": "stream",
     "text": [
      "15.8 µs ± 424 ns per loop (mean ± std. dev. of 7 runs, 100000 loops each)\n"
     ]
    }
   ],
   "source": [
    "%%timeit\n",
    "b[b == np.max(b)] = np.mean(b)"
   ]
  },
  {
   "cell_type": "code",
   "execution_count": 62,
   "metadata": {},
   "outputs": [
    {
     "name": "stdout",
     "output_type": "stream",
     "text": [
      "14.4 µs ± 431 ns per loop (mean ± std. dev. of 7 runs, 100000 loops each)\n"
     ]
    }
   ],
   "source": [
    "%%timeit\n",
    "np.put(c, np.max(c), np.mean(c))"
   ]
  },
  {
   "cell_type": "code",
   "execution_count": 63,
   "metadata": {},
   "outputs": [
    {
     "name": "stdout",
     "output_type": "stream",
     "text": [
      "10.4 µs ± 232 ns per loop (mean ± std. dev. of 7 runs, 100000 loops each)\n"
     ]
    }
   ],
   "source": [
    "%%timeit\n",
    "d[np.argmax(d)] = np.mean(d)\n",
    "# возвращает только одно значение индекса, а не все"
   ]
  },
  {
   "cell_type": "markdown",
   "metadata": {},
   "source": [
    "### Ответ:"
   ]
  },
  {
   "cell_type": "code",
   "execution_count": 64,
   "metadata": {},
   "outputs": [
    {
     "name": "stdout",
     "output_type": "stream",
     "text": [
      "In:\n",
      " [5. 4. 1. 7. 8. 6. 3. 2. 6. 4.]\n",
      "Mean: 4.6, Max: 8.0\n",
      "Out:\n",
      " [5.  4.  1.  7.  4.6 6.  3.  2.  6.  4. ]\n"
     ]
    }
   ],
   "source": [
    "a = np.random.randint(0, 9, 10).astype(float)\n",
    "print(\"In:\\n\", a)\n",
    "print(f\"Mean: {np.mean(a)}, Max: {np.max(a)}\")\n",
    "a[a == np.max(a)] = np.mean(a)\n",
    "print(\"Out:\\n\", a)"
   ]
  },
  {
   "cell_type": "markdown",
   "metadata": {},
   "source": [
    "# task: 24\n",
    "1. Создайте двумерный массив 6x6, заполненный случайными значениями\n",
    "2. Сумму по каждой строке поделите на минимальный элемент из столбца с тем же индексом"
   ]
  },
  {
   "cell_type": "code",
   "execution_count": 65,
   "metadata": {},
   "outputs": [],
   "source": [
    "a = np.random.randint(0, 10, (6, 6))"
   ]
  },
  {
   "cell_type": "code",
   "execution_count": 66,
   "metadata": {},
   "outputs": [
    {
     "data": {
      "text/plain": [
       "array([[4, 1, 6, 8, 2, 0],\n",
       "       [7, 8, 5, 5, 0, 6],\n",
       "       [2, 9, 3, 8, 0, 3],\n",
       "       [6, 2, 0, 8, 5, 1],\n",
       "       [7, 9, 3, 5, 0, 8],\n",
       "       [0, 6, 4, 9, 6, 4]])"
      ]
     },
     "execution_count": 66,
     "metadata": {},
     "output_type": "execute_result"
    }
   ],
   "source": [
    "a"
   ]
  },
  {
   "cell_type": "code",
   "execution_count": 67,
   "metadata": {},
   "outputs": [
    {
     "data": {
      "text/plain": [
       "array([0, 1, 0, 5, 0, 0])"
      ]
     },
     "execution_count": 67,
     "metadata": {},
     "output_type": "execute_result"
    }
   ],
   "source": [
    "np.min(a, axis=0)"
   ]
  },
  {
   "cell_type": "code",
   "execution_count": 68,
   "metadata": {},
   "outputs": [
    {
     "name": "stderr",
     "output_type": "stream",
     "text": [
      "/opt/conda/lib/python3.6/site-packages/ipykernel_launcher.py:1: RuntimeWarning: divide by zero encountered in true_divide\n",
      "  \"\"\"Entry point for launching an IPython kernel.\n"
     ]
    },
    {
     "data": {
      "text/plain": [
       "array([ inf, 31. ,  inf,  4.4,  inf,  inf])"
      ]
     },
     "execution_count": 68,
     "metadata": {},
     "output_type": "execute_result"
    }
   ],
   "source": [
    "np.sum(a, axis=1)/np.min(a, axis=0)"
   ]
  },
  {
   "cell_type": "markdown",
   "metadata": {},
   "source": [
    "# task: 25\n",
    "\n",
    "1. Создайте одномерный массив длины 10, заполненный случайными значениями\n",
    "2. Линейно отобразите элементы массива в отрезок [0, 1], при этом минимальный элемент должен отобразиться в 0, а максимальный - в 1"
   ]
  },
  {
   "cell_type": "code",
   "execution_count": 69,
   "metadata": {},
   "outputs": [],
   "source": [
    "x = np.random.randint(0, 9, (10,))"
   ]
  },
  {
   "cell_type": "code",
   "execution_count": 70,
   "metadata": {},
   "outputs": [
    {
     "data": {
      "text/plain": [
       "array([2, 5, 5, 6, 8, 5, 4, 1, 6, 8])"
      ]
     },
     "execution_count": 70,
     "metadata": {},
     "output_type": "execute_result"
    }
   ],
   "source": [
    "x"
   ]
  },
  {
   "cell_type": "code",
   "execution_count": 71,
   "metadata": {},
   "outputs": [
    {
     "data": {
      "text/plain": [
       "array([0.14285714, 0.57142857, 0.57142857, 0.71428571, 1.        ,\n",
       "       0.57142857, 0.42857143, 0.        , 0.71428571, 1.        ])"
      ]
     },
     "execution_count": 71,
     "metadata": {},
     "output_type": "execute_result"
    }
   ],
   "source": [
    "(x-np.min(x))/np.ptp(x)"
   ]
  },
  {
   "cell_type": "markdown",
   "metadata": {},
   "source": [
    "# task: 26\n",
    "Замените все вхождения nan в двумерный массив средним значением по соответствующему столбцу"
   ]
  },
  {
   "cell_type": "code",
   "execution_count": 72,
   "metadata": {},
   "outputs": [],
   "source": [
    "x = np.random.random((3, 5))"
   ]
  },
  {
   "cell_type": "code",
   "execution_count": 73,
   "metadata": {},
   "outputs": [],
   "source": [
    "x[0, :] = np.nan"
   ]
  },
  {
   "cell_type": "code",
   "execution_count": 74,
   "metadata": {},
   "outputs": [
    {
     "data": {
      "text/plain": [
       "array([[       nan,        nan,        nan,        nan,        nan],\n",
       "       [0.05187267, 0.99779942, 0.43939527, 0.97662014, 0.87671707],\n",
       "       [0.08531222, 0.00327281, 0.27742059, 0.18340079, 0.02590949]])"
      ]
     },
     "execution_count": 74,
     "metadata": {},
     "output_type": "execute_result"
    }
   ],
   "source": [
    "x"
   ]
  },
  {
   "cell_type": "code",
   "execution_count": 75,
   "metadata": {},
   "outputs": [],
   "source": [
    "x[np.isnan(x)] = np.nanmean(x, axis=0)"
   ]
  },
  {
   "cell_type": "code",
   "execution_count": 76,
   "metadata": {},
   "outputs": [
    {
     "data": {
      "text/plain": [
       "array([[0.06859244, 0.50053612, 0.35840793, 0.58001046, 0.45131328],\n",
       "       [0.05187267, 0.99779942, 0.43939527, 0.97662014, 0.87671707],\n",
       "       [0.08531222, 0.00327281, 0.27742059, 0.18340079, 0.02590949]])"
      ]
     },
     "execution_count": 76,
     "metadata": {},
     "output_type": "execute_result"
    }
   ],
   "source": [
    "x"
   ]
  },
  {
   "cell_type": "code",
   "execution_count": 77,
   "metadata": {},
   "outputs": [],
   "source": [
    "x[:, 0] = np.nan"
   ]
  },
  {
   "cell_type": "code",
   "execution_count": 78,
   "metadata": {},
   "outputs": [
    {
     "data": {
      "text/plain": [
       "array([[       nan, 0.50053612, 0.35840793, 0.58001046, 0.45131328],\n",
       "       [       nan, 0.99779942, 0.43939527, 0.97662014, 0.87671707],\n",
       "       [       nan, 0.00327281, 0.27742059, 0.18340079, 0.02590949]])"
      ]
     },
     "execution_count": 78,
     "metadata": {},
     "output_type": "execute_result"
    }
   ],
   "source": [
    "x"
   ]
  },
  {
   "cell_type": "code",
   "execution_count": 79,
   "metadata": {
    "scrolled": true
   },
   "outputs": [],
   "source": [
    "#x[np.isnan(x)] = np.nanmean(x, axis=0)"
   ]
  },
  {
   "cell_type": "code",
   "execution_count": 80,
   "metadata": {},
   "outputs": [
    {
     "name": "stderr",
     "output_type": "stream",
     "text": [
      "/opt/conda/lib/python3.6/site-packages/ipykernel_launcher.py:1: RuntimeWarning: Mean of empty slice\n",
      "  \"\"\"Entry point for launching an IPython kernel.\n"
     ]
    },
    {
     "data": {
      "text/plain": [
       "array([[       nan, 0.50053612, 0.35840793, 0.58001046, 0.45131328],\n",
       "       [       nan, 0.99779942, 0.43939527, 0.97662014, 0.87671707],\n",
       "       [       nan, 0.00327281, 0.27742059, 0.18340079, 0.02590949]])"
      ]
     },
     "execution_count": 80,
     "metadata": {},
     "output_type": "execute_result"
    }
   ],
   "source": [
    "np.nan_to_num(x, nan = np.nanmean(x, axis=0))"
   ]
  },
  {
   "cell_type": "code",
   "execution_count": 81,
   "metadata": {},
   "outputs": [
    {
     "data": {
      "text/plain": [
       "array([[       nan, 0.50053612, 0.35840793, 0.58001046, 0.45131328],\n",
       "       [       nan, 0.99779942, 0.43939527, 0.97662014, 0.87671707],\n",
       "       [       nan, 0.00327281, 0.27742059, 0.18340079, 0.02590949]])"
      ]
     },
     "execution_count": 81,
     "metadata": {},
     "output_type": "execute_result"
    }
   ],
   "source": [
    "x"
   ]
  },
  {
   "cell_type": "markdown",
   "metadata": {},
   "source": [
    "# task 27: \n",
    "Проверьте, есть ли в двумерном массиве столбец, полностью заполненый нулями."
   ]
  },
  {
   "cell_type": "code",
   "execution_count": 82,
   "metadata": {},
   "outputs": [],
   "source": [
    "x = np.random.randint(-100, 100, (1000, 1000))"
   ]
  },
  {
   "cell_type": "code",
   "execution_count": 83,
   "metadata": {},
   "outputs": [
    {
     "data": {
      "text/plain": [
       "array([[ 15, -37,  -2, ...,  38, -87,  73],\n",
       "       [ 95, -68,  36, ..., -56, -52,  61],\n",
       "       [-69,  31,  45, ...,   2, -24,  35],\n",
       "       ...,\n",
       "       [ 84,  80,  15, ..., -32, -60, -51],\n",
       "       [ 38,   6,  16, ...,  41,  72, -23],\n",
       "       [-57,  10, -61, ...,  27,  50, -42]])"
      ]
     },
     "execution_count": 83,
     "metadata": {},
     "output_type": "execute_result"
    }
   ],
   "source": [
    "x"
   ]
  },
  {
   "cell_type": "code",
   "execution_count": 84,
   "metadata": {},
   "outputs": [
    {
     "name": "stdout",
     "output_type": "stream",
     "text": [
      "1.26 ms ± 37.3 µs per loop (mean ± std. dev. of 7 runs, 1000 loops each)\n"
     ]
    }
   ],
   "source": [
    "%%timeit\n",
    "np.any(np.count_nonzero(x, axis = 1) == 0)"
   ]
  },
  {
   "cell_type": "code",
   "execution_count": 85,
   "metadata": {},
   "outputs": [
    {
     "name": "stdout",
     "output_type": "stream",
     "text": [
      "405 µs ± 763 ns per loop (mean ± std. dev. of 7 runs, 1000 loops each)\n"
     ]
    }
   ],
   "source": [
    "%%timeit\n",
    "np.any(np.all(x == 0, axis = 0))"
   ]
  },
  {
   "cell_type": "code",
   "execution_count": 86,
   "metadata": {},
   "outputs": [
    {
     "name": "stdout",
     "output_type": "stream",
     "text": [
      "1 ms ± 9.29 µs per loop (mean ± std. dev. of 7 runs, 1000 loops each)\n"
     ]
    }
   ],
   "source": [
    "%%timeit\n",
    "np.any(np.prod(x + 1, axis = 0) == 1)"
   ]
  },
  {
   "cell_type": "markdown",
   "metadata": {},
   "source": [
    "### Ответ:"
   ]
  },
  {
   "cell_type": "code",
   "execution_count": 87,
   "metadata": {},
   "outputs": [
    {
     "name": "stdout",
     "output_type": "stream",
     "text": [
      "[[-1 -1 -1 -1  0  0 -1  0 -1 -1]\n",
      " [ 0  0 -1 -1 -1 -1 -1  0 -1 -1]\n",
      " [ 0  0  0 -1 -1  0  0 -1 -1 -1]]\n",
      "False\n"
     ]
    }
   ],
   "source": [
    "x = np.random.randint(-1, 1, (3, 10))\n",
    "print(x)\n",
    "print(np.any(np.all(x == 0, axis = 0)))"
   ]
  },
  {
   "cell_type": "markdown",
   "metadata": {},
   "source": [
    "# task 28:\n",
    "1. Создайте массив случайных чисел от 0 до 9 размером 3x4x3x4\n",
    "2. Вычислите суммы элементов по двум последним осям"
   ]
  },
  {
   "cell_type": "code",
   "execution_count": 88,
   "metadata": {},
   "outputs": [],
   "source": [
    "a = np.random.randint(0, 10, (3, 4, 3, 4))"
   ]
  },
  {
   "cell_type": "code",
   "execution_count": 89,
   "metadata": {},
   "outputs": [
    {
     "data": {
      "text/plain": [
       "array([[53, 58, 48, 54],\n",
       "       [62, 52, 43, 51],\n",
       "       [40, 58, 68, 59]])"
      ]
     },
     "execution_count": 89,
     "metadata": {},
     "output_type": "execute_result"
    }
   ],
   "source": [
    "np.sum(a, axis=(2, 3))"
   ]
  },
  {
   "cell_type": "markdown",
   "metadata": {},
   "source": [
    "# task 29:\n",
    "\n",
    "1. Любым способом создайте два массива одинаковой длины\n",
    "2. Создайте массив, в котором на четных позициях будут стоять элементы с соответствующих позиций первого массива, а на нечетных - с соответствующих позиций второго"
   ]
  },
  {
   "cell_type": "code",
   "execution_count": 90,
   "metadata": {},
   "outputs": [
    {
     "name": "stdout",
     "output_type": "stream",
     "text": [
      "[1. 1. 1. 1. 1. 1. 1. 1. 1. 1.] \n",
      " [2. 2. 2. 2. 2. 2. 2. 2. 2. 2.]\n"
     ]
    }
   ],
   "source": [
    "length = 10\n",
    "a = np.ones(length)\n",
    "b = np.ones(length) + 1\n",
    "print(a, \"\\n\", b)"
   ]
  },
  {
   "cell_type": "code",
   "execution_count": 91,
   "metadata": {},
   "outputs": [
    {
     "name": "stdout",
     "output_type": "stream",
     "text": [
      "[1. 2. 1. 2. 1. 2. 1. 2. 1. 2. 1. 2. 1. 2. 1. 2. 1. 2. 1. 2.]\n"
     ]
    }
   ],
   "source": [
    "c = np.zeros(length * 2)\n",
    "c[0::2] = a\n",
    "c[1::2] = b\n",
    "print(c)"
   ]
  },
  {
   "cell_type": "markdown",
   "metadata": {},
   "source": [
    "# task 30:\n",
    "\n",
    "На примере массива ```x = np.array([[1., 2.], [np.nan, 3.], [5., 5.], [np.nan, np.nan]])``` вычислите долю пропущенных значений"
   ]
  },
  {
   "cell_type": "code",
   "execution_count": 92,
   "metadata": {},
   "outputs": [],
   "source": [
    "x = np.array([[1., 2.], [np.nan, 3.], [5., 5.], [np.nan, np.nan]])"
   ]
  },
  {
   "cell_type": "code",
   "execution_count": 93,
   "metadata": {},
   "outputs": [
    {
     "data": {
      "text/plain": [
       "0.375"
      ]
     },
     "execution_count": 93,
     "metadata": {},
     "output_type": "execute_result"
    }
   ],
   "source": [
    "np.sum(np.isnan(x))/x.size"
   ]
  },
  {
   "cell_type": "markdown",
   "metadata": {},
   "source": [
    "# task 31:\n",
    "На примере массива ```x = np.array([[1., 2.], [np.nan, 3.], [5., 5.], [np.nan, np.nan]])``` составьте массив из уникальных значений массива без учета nan"
   ]
  },
  {
   "cell_type": "code",
   "execution_count": 94,
   "metadata": {},
   "outputs": [],
   "source": [
    "scale = 100\n",
    "\n",
    "x = np.array([[1., 2.], [np.nan, 3.], [5., 5.], [np.nan, np.nan]]*scale)"
   ]
  },
  {
   "cell_type": "code",
   "execution_count": 95,
   "metadata": {},
   "outputs": [
    {
     "name": "stdout",
     "output_type": "stream",
     "text": [
      "13.7 µs ± 185 ns per loop (mean ± std. dev. of 7 runs, 100000 loops each)\n"
     ]
    }
   ],
   "source": [
    "%%timeit\n",
    "uni = np.unique(x)\n",
    "uni[~ np.isnan(uni)]"
   ]
  },
  {
   "cell_type": "code",
   "execution_count": 96,
   "metadata": {},
   "outputs": [
    {
     "name": "stdout",
     "output_type": "stream",
     "text": [
      "12.8 µs ± 159 ns per loop (mean ± std. dev. of 7 runs, 100000 loops each)\n"
     ]
    }
   ],
   "source": [
    "%%timeit\n",
    "nonan = x[~ np.isnan(x)]\n",
    "nonan = np.unique(nonan)"
   ]
  },
  {
   "cell_type": "markdown",
   "metadata": {},
   "source": [
    "### Ответ:"
   ]
  },
  {
   "cell_type": "code",
   "execution_count": 97,
   "metadata": {},
   "outputs": [
    {
     "name": "stdout",
     "output_type": "stream",
     "text": [
      "In:\n",
      " [[ 1.  2.]\n",
      " [nan  3.]\n",
      " [ 5.  5.]\n",
      " [nan nan]]\n",
      "Out:\n",
      " [1. 2. 3. 5.]\n"
     ]
    }
   ],
   "source": [
    "x = np.array([[1., 2.], [np.nan, 3.], [5., 5.], [np.nan, np.nan]])\n",
    "print(\"In:\\n\", x)\n",
    "uni = np.unique(x)\n",
    "uni = uni[~np.isnan(uni)]\n",
    "print(\"Out:\\n\", uni)"
   ]
  },
  {
   "cell_type": "markdown",
   "metadata": {},
   "source": [
    "# task 32:\n",
    "\n",
    "На примере массива ```x = np.array([6, 2, 0, 3, 0, 0, 5, 7, 0])``` найдите максимальный элемент в массиве среди элементов, перед которыми стоит нулевой"
   ]
  },
  {
   "cell_type": "code",
   "execution_count": 98,
   "metadata": {},
   "outputs": [],
   "source": [
    "x = np.array([6, 2, 0, 3, 0, 0, 5, 7, 0])"
   ]
  },
  {
   "cell_type": "code",
   "execution_count": 99,
   "metadata": {},
   "outputs": [
    {
     "data": {
      "text/plain": [
       "5"
      ]
     },
     "execution_count": 99,
     "metadata": {},
     "output_type": "execute_result"
    }
   ],
   "source": [
    "np.max(x[np.r_[False, x == 0][:-1]])"
   ]
  },
  {
   "cell_type": "markdown",
   "metadata": {},
   "source": [
    "# task 33:\n",
    "Пусть заданы два массива одинакового размера. Поэлементно разделите один массив на другой. В случае, если делитель равен нулю, соответствующему элементу результирующего массива присвойте нуль."
   ]
  },
  {
   "cell_type": "code",
   "execution_count": 100,
   "metadata": {},
   "outputs": [],
   "source": [
    "length = 1000\n",
    "a = np.random.randint(1, 10, length)\n",
    "b = np.random.randint(0, 3, length)"
   ]
  },
  {
   "cell_type": "code",
   "execution_count": 101,
   "metadata": {},
   "outputs": [
    {
     "name": "stdout",
     "output_type": "stream",
     "text": [
      "9.67 µs ± 42.8 ns per loop (mean ± std. dev. of 7 runs, 100000 loops each)\n"
     ]
    }
   ],
   "source": [
    "%%timeit\n",
    "c = np.divide(a, b, where=(b!=0))\n",
    "c[b == 0] = 0"
   ]
  },
  {
   "cell_type": "code",
   "execution_count": 102,
   "metadata": {},
   "outputs": [
    {
     "name": "stderr",
     "output_type": "stream",
     "text": [
      "/opt/conda/lib/python3.6/site-packages/ipykernel_launcher.py:1: RuntimeWarning: divide by zero encountered in true_divide\n",
      "  \"\"\"Entry point for launching an IPython kernel.\n"
     ]
    },
    {
     "name": "stdout",
     "output_type": "stream",
     "text": [
      "7 µs ± 176 ns per loop (mean ± std. dev. of 7 runs, 100000 loops each)\n"
     ]
    }
   ],
   "source": [
    "%%timeit\n",
    "c = np.divide(a, b)\n",
    "c[b == 0] = 0"
   ]
  },
  {
   "cell_type": "code",
   "execution_count": 103,
   "metadata": {},
   "outputs": [
    {
     "name": "stderr",
     "output_type": "stream",
     "text": [
      "/opt/conda/lib/python3.6/site-packages/ipykernel_launcher.py:1: RuntimeWarning: divide by zero encountered in true_divide\n",
      "  \"\"\"Entry point for launching an IPython kernel.\n"
     ]
    },
    {
     "name": "stdout",
     "output_type": "stream",
     "text": [
      "7.42 µs ± 24.4 ns per loop (mean ± std. dev. of 7 runs, 100000 loops each)\n"
     ]
    }
   ],
   "source": [
    "%%timeit\n",
    "c = np.where(b == 0, 0, a / b)"
   ]
  },
  {
   "cell_type": "markdown",
   "metadata": {},
   "source": [
    "### Ответ:"
   ]
  },
  {
   "cell_type": "code",
   "execution_count": 104,
   "metadata": {},
   "outputs": [
    {
     "name": "stdout",
     "output_type": "stream",
     "text": [
      "In:\n",
      " [3 3 8 7 1 4 4 2 8 2] \n",
      " [1 1 0 2 0 2 2 1 2 2]\n",
      "Out: [3.  3.  0.  3.5 0.  2.  2.  2.  4.  1. ]\n"
     ]
    },
    {
     "name": "stderr",
     "output_type": "stream",
     "text": [
      "/opt/conda/lib/python3.6/site-packages/ipykernel_launcher.py:4: RuntimeWarning: divide by zero encountered in true_divide\n",
      "  after removing the cwd from sys.path.\n"
     ]
    }
   ],
   "source": [
    "length = 10\n",
    "a = np.random.randint(1, 10, length)\n",
    "b = np.random.randint(0, 3, length)\n",
    "c = np.divide(a, b)\n",
    "c[b == 0] = 0\n",
    "print(\"In:\\n\", a, \"\\n\", b)\n",
    "print(\"Out:\", c)"
   ]
  },
  {
   "cell_type": "markdown",
   "metadata": {},
   "source": [
    "# task 34:\n",
    "\n",
    "Пусть заданы два массива ```x = np.ones(10)``` и ```i = np.array([0, 1, 2, 3, 5, 5, 5, 8])```. Прибавьте единицу к тем элементам массива x, индексы которых указаны в массиве i. В случае, если некоторый индекс встретился в массиве i несколько раз, прибавьте к соответствующему элементу массива x число вхождений данного индекса в массив i."
   ]
  },
  {
   "cell_type": "code",
   "execution_count": 105,
   "metadata": {},
   "outputs": [],
   "source": [
    "x = np.ones(10)\n",
    "i = np.array([0, 1, 2, 3, 5, 5, 5, 8])"
   ]
  },
  {
   "cell_type": "code",
   "execution_count": 106,
   "metadata": {},
   "outputs": [],
   "source": [
    "pos, counts = np.unique(i, return_counts=True)"
   ]
  },
  {
   "cell_type": "code",
   "execution_count": 107,
   "metadata": {},
   "outputs": [],
   "source": [
    "x[pos] += counts"
   ]
  },
  {
   "cell_type": "code",
   "execution_count": 108,
   "metadata": {},
   "outputs": [
    {
     "data": {
      "text/plain": [
       "array([2., 2., 2., 2., 1., 4., 1., 1., 2., 1.])"
      ]
     },
     "execution_count": 108,
     "metadata": {},
     "output_type": "execute_result"
    }
   ],
   "source": [
    "x"
   ]
  },
  {
   "cell_type": "markdown",
   "metadata": {},
   "source": [
    "# task 35:\n",
    "\n",
    "По заданному массиву ```y = np.bincount([0, 0, 3, 8, 10, 10, 11])``` постройте массив x такой, чтобы ```np.bincount(x) = y```"
   ]
  },
  {
   "cell_type": "code",
   "execution_count": 109,
   "metadata": {},
   "outputs": [],
   "source": [
    "y = np.bincount([0, 0, 3, 8, 10, 10, 11])"
   ]
  },
  {
   "cell_type": "code",
   "execution_count": 110,
   "metadata": {},
   "outputs": [],
   "source": [
    "x = np.repeat(np.arange(0, y.shape[0]), y)"
   ]
  },
  {
   "cell_type": "code",
   "execution_count": 111,
   "metadata": {},
   "outputs": [
    {
     "data": {
      "text/plain": [
       "True"
      ]
     },
     "execution_count": 111,
     "metadata": {},
     "output_type": "execute_result"
    }
   ],
   "source": [
    "np.all(np.bincount(x) == y)"
   ]
  },
  {
   "cell_type": "markdown",
   "metadata": {},
   "source": [
    "# task 36:\n",
    "\n",
    "Определите самые часто встречающиеся элементы в массиве целых неотрицательных чисел.\n",
    "Решите задачу на примере массива ```x = np.array([0,1,2,0,6,6,7,4,5,4])```."
   ]
  },
  {
   "cell_type": "code",
   "execution_count": 112,
   "metadata": {},
   "outputs": [],
   "source": [
    "x = np.array([0,1,2,0,6,6,7,4,5,4])"
   ]
  },
  {
   "cell_type": "code",
   "execution_count": 113,
   "metadata": {},
   "outputs": [],
   "source": [
    "val, freq = np.unique(x, return_counts=True)"
   ]
  },
  {
   "cell_type": "code",
   "execution_count": 114,
   "metadata": {},
   "outputs": [
    {
     "data": {
      "text/plain": [
       "array([0, 4, 6])"
      ]
     },
     "execution_count": 114,
     "metadata": {},
     "output_type": "execute_result"
    }
   ],
   "source": [
    "val[freq==np.max(freq)]"
   ]
  },
  {
   "cell_type": "markdown",
   "metadata": {},
   "source": [
    "# task 37:\n",
    "\n",
    "Разбейте двумерный массив на список двумерных массивов по уникальным значениям в первом столбце.\n",
    "Решите задачу на примере массива ```x = np.array([[1, 2], [1, 3], [2, 2], [3, 4], [3, 5]])```, в результате должен получиться список ```[array([[1, 2], [1, 3]]), array([[2, 2]]), array([[3, 4], [3, 5]])]```."
   ]
  },
  {
   "cell_type": "code",
   "execution_count": 115,
   "metadata": {},
   "outputs": [],
   "source": [
    "x = np.array([[1, 2], [1, 3], [2, 2], [3, 4], [3, 5]])"
   ]
  },
  {
   "cell_type": "code",
   "execution_count": 116,
   "metadata": {},
   "outputs": [
    {
     "data": {
      "text/plain": [
       "array([[1, 2],\n",
       "       [1, 3],\n",
       "       [2, 2],\n",
       "       [3, 4],\n",
       "       [3, 5]])"
      ]
     },
     "execution_count": 116,
     "metadata": {},
     "output_type": "execute_result"
    }
   ],
   "source": [
    "x"
   ]
  },
  {
   "cell_type": "code",
   "execution_count": 117,
   "metadata": {},
   "outputs": [
    {
     "data": {
      "text/plain": [
       "[array([[1, 2],\n",
       "        [1, 3]]),\n",
       " array([[2, 2]]),\n",
       " array([[3, 4],\n",
       "        [3, 5]])]"
      ]
     },
     "execution_count": 117,
     "metadata": {},
     "output_type": "execute_result"
    }
   ],
   "source": [
    "[np.array([[1, 2], [1, 3]]), np.array([[2, 2]]), np.array([[3, 4], [3, 5]])]"
   ]
  },
  {
   "cell_type": "code",
   "execution_count": 118,
   "metadata": {},
   "outputs": [],
   "source": [
    "_, freq = np.unique(x[:, :1], return_counts=True)"
   ]
  },
  {
   "cell_type": "code",
   "execution_count": 119,
   "metadata": {},
   "outputs": [
    {
     "data": {
      "text/plain": [
       "[array([[1, 2],\n",
       "        [1, 3]]),\n",
       " array([[2, 2]]),\n",
       " array([[3, 4],\n",
       "        [3, 5]])]"
      ]
     },
     "execution_count": 119,
     "metadata": {},
     "output_type": "execute_result"
    }
   ],
   "source": [
    "np.array_split(x, np.cumsum(freq)[:-1], axis=0)"
   ]
  },
  {
   "cell_type": "markdown",
   "metadata": {},
   "source": [
    "# task 38:\n",
    "\n",
    "По заданному одномерному массиву неотрицательных чисел постройте список подмассивов, сожержащих элементы из полуинтервалов ```[i * 10, (i+1) * 10), i = 0, 1, 2, …```\n",
    "Решите задачу на примере массива ```x = np.array([8, 2, 34, 0, 11, 18, 13, 2, 24, 10, 20])```, в результате должен получиться список ```[array([0, 2, 2, 8]), array([10, 11, 13, 18]), array([20, 24]), array([34])]```."
   ]
  },
  {
   "cell_type": "code",
   "execution_count": 120,
   "metadata": {},
   "outputs": [],
   "source": [
    "x = np.array([8, 2, 34, 0, 11, 18, 13, 2, 24, 10, 20])"
   ]
  },
  {
   "cell_type": "code",
   "execution_count": 121,
   "metadata": {},
   "outputs": [
    {
     "data": {
      "text/plain": [
       "[array([0, 2, 2, 8]), array([10, 11, 13, 18]), array([20, 24]), array([34])]"
      ]
     },
     "execution_count": 121,
     "metadata": {},
     "output_type": "execute_result"
    }
   ],
   "source": [
    "[np.array([0, 2, 2, 8]), np.array([10, 11, 13, 18]), np.array([20, 24]), np.array([34])]"
   ]
  },
  {
   "cell_type": "code",
   "execution_count": 122,
   "metadata": {},
   "outputs": [
    {
     "data": {
      "text/plain": [
       "[array([0, 2, 2, 8]), array([10, 11, 13, 18]), array([20, 24]), array([34])]"
      ]
     },
     "execution_count": 122,
     "metadata": {},
     "output_type": "execute_result"
    }
   ],
   "source": [
    "np.array_split(np.sort(x), np.cumsum(np.histogram(x, bins = np.arange(0, np.max(x), 10))[0]))"
   ]
  },
  {
   "cell_type": "markdown",
   "metadata": {},
   "source": [
    "# task 39:\n",
    "\n",
    "Перечислите все известные вам способы соединения заданных двумерных массивов по вертикали. Какой из способов работает быстрее?"
   ]
  },
  {
   "cell_type": "markdown",
   "metadata": {},
   "source": [
    "## Тест на данных большого размера"
   ]
  },
  {
   "cell_type": "code",
   "execution_count": 123,
   "metadata": {},
   "outputs": [],
   "source": [
    "shape = (10000, 10000)\n",
    "a = np.random.randint(1, 5, shape)\n",
    "b = np.random.randint(5, 10, shape)"
   ]
  },
  {
   "cell_type": "markdown",
   "metadata": {},
   "source": [
    "### Способ 1:"
   ]
  },
  {
   "cell_type": "code",
   "execution_count": 124,
   "metadata": {},
   "outputs": [
    {
     "name": "stdout",
     "output_type": "stream",
     "text": [
      "CPU times: user 276 ms, sys: 268 ms, total: 545 ms\n",
      "Wall time: 544 ms\n"
     ]
    }
   ],
   "source": [
    "%%time\n",
    "x = np.vstack((a,b))"
   ]
  },
  {
   "cell_type": "code",
   "execution_count": 125,
   "metadata": {},
   "outputs": [
    {
     "name": "stdout",
     "output_type": "stream",
     "text": [
      "(20000, 10000)\n"
     ]
    }
   ],
   "source": [
    "print(x.shape)"
   ]
  },
  {
   "cell_type": "markdown",
   "metadata": {},
   "source": [
    "### Способ 2:"
   ]
  },
  {
   "cell_type": "code",
   "execution_count": 126,
   "metadata": {},
   "outputs": [
    {
     "name": "stdout",
     "output_type": "stream",
     "text": [
      "CPU times: user 257 ms, sys: 289 ms, total: 545 ms\n",
      "Wall time: 545 ms\n"
     ]
    }
   ],
   "source": [
    "%%time\n",
    "x = np.concatenate((a,b))"
   ]
  },
  {
   "cell_type": "code",
   "execution_count": 127,
   "metadata": {},
   "outputs": [
    {
     "name": "stdout",
     "output_type": "stream",
     "text": [
      "(20000, 10000)\n"
     ]
    }
   ],
   "source": [
    "print(x.shape)"
   ]
  },
  {
   "cell_type": "markdown",
   "metadata": {},
   "source": [
    "### Способ 3:"
   ]
  },
  {
   "cell_type": "code",
   "execution_count": 128,
   "metadata": {},
   "outputs": [
    {
     "name": "stdout",
     "output_type": "stream",
     "text": [
      "CPU times: user 285 ms, sys: 260 ms, total: 545 ms\n",
      "Wall time: 545 ms\n"
     ]
    }
   ],
   "source": [
    "%%time\n",
    "x = np.r_[a, b]"
   ]
  },
  {
   "cell_type": "code",
   "execution_count": 129,
   "metadata": {},
   "outputs": [
    {
     "name": "stdout",
     "output_type": "stream",
     "text": [
      "(20000, 10000)\n"
     ]
    }
   ],
   "source": [
    "print(x.shape)"
   ]
  },
  {
   "cell_type": "markdown",
   "metadata": {},
   "source": [
    "### Способ 4:"
   ]
  },
  {
   "cell_type": "code",
   "execution_count": 130,
   "metadata": {},
   "outputs": [
    {
     "name": "stdout",
     "output_type": "stream",
     "text": [
      "CPU times: user 270 ms, sys: 276 ms, total: 547 ms\n",
      "Wall time: 546 ms\n"
     ]
    }
   ],
   "source": [
    "%%time\n",
    "x = np.row_stack((a, b))"
   ]
  },
  {
   "cell_type": "code",
   "execution_count": 131,
   "metadata": {},
   "outputs": [
    {
     "name": "stdout",
     "output_type": "stream",
     "text": [
      "(20000, 10000)\n"
     ]
    }
   ],
   "source": [
    "print(x.shape)"
   ]
  },
  {
   "cell_type": "markdown",
   "metadata": {},
   "source": [
    "## Тест на данных малого размера"
   ]
  },
  {
   "cell_type": "code",
   "execution_count": 132,
   "metadata": {},
   "outputs": [],
   "source": [
    "shape = (3, 10)\n",
    "a = np.random.randint(1, 5, shape)\n",
    "b = np.random.randint(5, 10, shape)"
   ]
  },
  {
   "cell_type": "markdown",
   "metadata": {},
   "source": [
    "### Способ 1:"
   ]
  },
  {
   "cell_type": "code",
   "execution_count": 133,
   "metadata": {},
   "outputs": [
    {
     "name": "stdout",
     "output_type": "stream",
     "text": [
      "4.39 µs ± 34.3 ns per loop (mean ± std. dev. of 7 runs, 100000 loops each)\n"
     ]
    }
   ],
   "source": [
    "%%timeit\n",
    "x = np.vstack((a,b))"
   ]
  },
  {
   "cell_type": "code",
   "execution_count": 134,
   "metadata": {},
   "outputs": [
    {
     "name": "stdout",
     "output_type": "stream",
     "text": [
      "(20000, 10000)\n"
     ]
    }
   ],
   "source": [
    "print(x.shape)"
   ]
  },
  {
   "cell_type": "markdown",
   "metadata": {},
   "source": [
    "### Способ 2:"
   ]
  },
  {
   "cell_type": "code",
   "execution_count": 135,
   "metadata": {},
   "outputs": [
    {
     "name": "stdout",
     "output_type": "stream",
     "text": [
      "1.29 µs ± 31.2 ns per loop (mean ± std. dev. of 7 runs, 1000000 loops each)\n"
     ]
    }
   ],
   "source": [
    "%%timeit\n",
    "x = np.concatenate((a,b))"
   ]
  },
  {
   "cell_type": "code",
   "execution_count": 136,
   "metadata": {},
   "outputs": [
    {
     "name": "stdout",
     "output_type": "stream",
     "text": [
      "(20000, 10000)\n"
     ]
    }
   ],
   "source": [
    "print(x.shape)"
   ]
  },
  {
   "cell_type": "markdown",
   "metadata": {},
   "source": [
    "### Способ 3:"
   ]
  },
  {
   "cell_type": "code",
   "execution_count": 137,
   "metadata": {},
   "outputs": [
    {
     "name": "stdout",
     "output_type": "stream",
     "text": [
      "12.5 µs ± 349 ns per loop (mean ± std. dev. of 7 runs, 100000 loops each)\n"
     ]
    }
   ],
   "source": [
    "%%timeit\n",
    "x = np.r_[a, b]"
   ]
  },
  {
   "cell_type": "code",
   "execution_count": 138,
   "metadata": {},
   "outputs": [
    {
     "name": "stdout",
     "output_type": "stream",
     "text": [
      "(20000, 10000)\n"
     ]
    }
   ],
   "source": [
    "print(x.shape)"
   ]
  },
  {
   "cell_type": "markdown",
   "metadata": {},
   "source": [
    "### Способ 4:"
   ]
  },
  {
   "cell_type": "code",
   "execution_count": 139,
   "metadata": {},
   "outputs": [
    {
     "name": "stdout",
     "output_type": "stream",
     "text": [
      "4.42 µs ± 9.55 ns per loop (mean ± std. dev. of 7 runs, 100000 loops each)\n"
     ]
    }
   ],
   "source": [
    "%%timeit\n",
    "x = np.row_stack((a, b))"
   ]
  },
  {
   "cell_type": "code",
   "execution_count": 140,
   "metadata": {},
   "outputs": [
    {
     "name": "stdout",
     "output_type": "stream",
     "text": [
      "(20000, 10000)\n"
     ]
    }
   ],
   "source": [
    "print(x.shape)"
   ]
  },
  {
   "cell_type": "markdown",
   "metadata": {},
   "source": [
    "### Отличия способов\n",
    " * concatenate имеет более широкий функционал, чем vstack.\n",
    " * vstack эквивалентен concatenation по первой оси после того, как 1-D массивы формы (N,) были приведены к форме (1,N).\n",
    " * np.r_ конкатенация по первой оси\n",
    " * row_stack = vstack"
   ]
  },
  {
   "cell_type": "markdown",
   "metadata": {},
   "source": [
    "### Ответ:"
   ]
  },
  {
   "cell_type": "code",
   "execution_count": 141,
   "metadata": {},
   "outputs": [
    {
     "name": "stdout",
     "output_type": "stream",
     "text": [
      "In:\n",
      " [[3 4 1 3 2 1 2 2 4 1]\n",
      " [1 1 1 3 2 3 1 4 3 4]] \n",
      "and:\n",
      " [[5 5 6 9 6 6 6 9 7 7]\n",
      " [8 9 9 7 6 7 9 8 7 9]]\n",
      "Out:\n",
      " [[3 4 1 3 2 1 2 2 4 1]\n",
      " [1 1 1 3 2 3 1 4 3 4]\n",
      " [5 5 6 9 6 6 6 9 7 7]\n",
      " [8 9 9 7 6 7 9 8 7 9]]\n"
     ]
    }
   ],
   "source": [
    "shape = (2, 10)\n",
    "a = np.random.randint(1, 5, shape)\n",
    "b = np.random.randint(5, 10, shape)\n",
    "x = np.concatenate((a,b))\n",
    "print(\"In:\\n\", a, \"\\nand:\\n\", b)\n",
    "print(\"Out:\\n\", x)"
   ]
  },
  {
   "cell_type": "markdown",
   "metadata": {},
   "source": [
    "# task 40:\n",
    "\n",
    "Для двух одномерных массивов ```x = np.arange(3)``` и ```y = np.arange(5)``` постройте двумерный массив строки которого - всевозможные пары элементов из x и y."
   ]
  },
  {
   "cell_type": "code",
   "execution_count": 142,
   "metadata": {},
   "outputs": [],
   "source": [
    "x = np.arange(3)\n",
    "y = np.arange(5)"
   ]
  },
  {
   "cell_type": "code",
   "execution_count": 143,
   "metadata": {},
   "outputs": [],
   "source": [
    "a, b = np.meshgrid(x, y)"
   ]
  },
  {
   "cell_type": "code",
   "execution_count": 144,
   "metadata": {},
   "outputs": [
    {
     "data": {
      "text/plain": [
       "array([[0, 0],\n",
       "       [1, 0],\n",
       "       [2, 0],\n",
       "       [0, 1],\n",
       "       [1, 1],\n",
       "       [2, 1],\n",
       "       [0, 2],\n",
       "       [1, 2],\n",
       "       [2, 2],\n",
       "       [0, 3],\n",
       "       [1, 3],\n",
       "       [2, 3],\n",
       "       [0, 4],\n",
       "       [1, 4],\n",
       "       [2, 4]])"
      ]
     },
     "execution_count": 144,
     "metadata": {},
     "output_type": "execute_result"
    }
   ],
   "source": [
    "np.reshape(np.stack((a, b), axis=-1), (-1, 2))"
   ]
  },
  {
   "cell_type": "markdown",
   "metadata": {},
   "source": [
    "**Отличия np.reshape(x, ...) и x.reshape(...): только синтаксис, внутри одно и то же.**"
   ]
  },
  {
   "cell_type": "markdown",
   "metadata": {},
   "source": [
    "# task 41:\n",
    "\n",
    "По двум входным одномерным массивам одинаковой длины составьте массив пар элементов с одинаковыми индесами.\n",
    "Решите задачу на примере массивов ```x = np.array([1,2,3,4])``` и ```y = np.array([5,6,7,8])```."
   ]
  },
  {
   "cell_type": "code",
   "execution_count": 145,
   "metadata": {},
   "outputs": [],
   "source": [
    "x = np.array([1,2,3,4])\n",
    "y = np.array([5,6,7,8])"
   ]
  },
  {
   "cell_type": "code",
   "execution_count": 146,
   "metadata": {},
   "outputs": [
    {
     "data": {
      "text/plain": [
       "array([[1, 5],\n",
       "       [2, 6],\n",
       "       [3, 7],\n",
       "       [4, 8]])"
      ]
     },
     "execution_count": 146,
     "metadata": {},
     "output_type": "execute_result"
    }
   ],
   "source": [
    "np.stack((x, y), axis=1)"
   ]
  },
  {
   "cell_type": "markdown",
   "metadata": {},
   "source": [
    "# task 42:\n",
    "По заданному непустому списку двумерных массивов одинаковых размеров составьте трехмерный массив в котором вдоль нулевой оси расположены массивы из списка, между каждой парой которых вставлен массив полностью заполненный нулями.\n",
    "Решите задачу для списка ```l = [np.array([[1, 2], [3, 4]]), np.array([[5, 6], [7, 8]]), np.array([[9, 10], [11, 12]])]```."
   ]
  },
  {
   "cell_type": "code",
   "execution_count": 147,
   "metadata": {},
   "outputs": [],
   "source": [
    "l = [np.array([[1, 2], [3, 4]]), np.array([[5, 6], [7, 8]]), np.array([[9, 10], [11, 12]])]"
   ]
  },
  {
   "cell_type": "code",
   "execution_count": 148,
   "metadata": {},
   "outputs": [
    {
     "data": {
      "text/plain": [
       "[array([[1, 2],\n",
       "        [3, 4]]),\n",
       " array([[5, 6],\n",
       "        [7, 8]]),\n",
       " array([[ 9, 10],\n",
       "        [11, 12]])]"
      ]
     },
     "execution_count": 148,
     "metadata": {},
     "output_type": "execute_result"
    }
   ],
   "source": [
    "l"
   ]
  },
  {
   "cell_type": "code",
   "execution_count": 149,
   "metadata": {},
   "outputs": [
    {
     "data": {
      "text/plain": [
       "array([[[ 1,  2],\n",
       "        [ 3,  4]],\n",
       "\n",
       "       [[ 0,  0],\n",
       "        [ 0,  0]],\n",
       "\n",
       "       [[ 5,  6],\n",
       "        [ 7,  8]],\n",
       "\n",
       "       [[ 0,  0],\n",
       "        [ 0,  0]],\n",
       "\n",
       "       [[ 9, 10],\n",
       "        [11, 12]]])"
      ]
     },
     "execution_count": 149,
     "metadata": {},
     "output_type": "execute_result"
    }
   ],
   "source": [
    "np.insert(np.stack(l), range(1, len(l), 1), np.zeros(l[0].shape), axis=0)"
   ]
  },
  {
   "cell_type": "markdown",
   "metadata": {},
   "source": [
    "# task 43:\n",
    "Преобразуйте одномерный массив ```x = np.array([3,7,2,5,0,9,8,2,4,5])``` в двумерный массив, первая строка которого - элементы массива x с индексами от 0 до 4, вторая строка - с 1 до 5 и т.д."
   ]
  },
  {
   "cell_type": "code",
   "execution_count": 150,
   "metadata": {},
   "outputs": [],
   "source": [
    "x = np.array([3,7,2,5,0,9,8,2,4,5])"
   ]
  },
  {
   "cell_type": "markdown",
   "metadata": {},
   "source": [
    "## Способ 1:"
   ]
  },
  {
   "cell_type": "code",
   "execution_count": 151,
   "metadata": {},
   "outputs": [
    {
     "data": {
      "text/plain": [
       "array([[3, 7, 2, 5, 0],\n",
       "       [9, 8, 2, 4, 5]])"
      ]
     },
     "execution_count": 151,
     "metadata": {},
     "output_type": "execute_result"
    }
   ],
   "source": [
    "x.reshape(-1, 5)"
   ]
  },
  {
   "cell_type": "markdown",
   "metadata": {},
   "source": [
    "## Способ 2:"
   ]
  },
  {
   "cell_type": "code",
   "execution_count": 152,
   "metadata": {},
   "outputs": [
    {
     "data": {
      "text/plain": [
       "array([[3, 7, 2, 5, 0],\n",
       "       [9, 8, 2, 4, 5]])"
      ]
     },
     "execution_count": 152,
     "metadata": {},
     "output_type": "execute_result"
    }
   ],
   "source": [
    "np.lib.stride_tricks.as_strided(x, strides=(5*x.itemsize,  1*x.itemsize), shape=(2,5))"
   ]
  },
  {
   "cell_type": "markdown",
   "metadata": {},
   "source": [
    "# task 44:\n",
    "Для заданного двумерного массива постройте трехмерный массив, содержащий всевозможные неперекрывающиеся блоки размера 3x3, начиная с левого верхнего угла. Если высота/ширина исходного массива не кратна трем, исключите из рассмотрения последние строки/столбцы.\n",
    "Решите задачу на примере массива ```x = np.arange(49).reshape(7,7)```."
   ]
  },
  {
   "cell_type": "code",
   "execution_count": 153,
   "metadata": {},
   "outputs": [],
   "source": [
    "x = np.arange(49).reshape(7, 7)"
   ]
  },
  {
   "cell_type": "code",
   "execution_count": 154,
   "metadata": {},
   "outputs": [
    {
     "data": {
      "text/plain": [
       "array([[ 0,  1,  2,  3,  4,  5,  6],\n",
       "       [ 7,  8,  9, 10, 11, 12, 13],\n",
       "       [14, 15, 16, 17, 18, 19, 20],\n",
       "       [21, 22, 23, 24, 25, 26, 27],\n",
       "       [28, 29, 30, 31, 32, 33, 34],\n",
       "       [35, 36, 37, 38, 39, 40, 41],\n",
       "       [42, 43, 44, 45, 46, 47, 48]])"
      ]
     },
     "execution_count": 154,
     "metadata": {},
     "output_type": "execute_result"
    }
   ],
   "source": [
    "x"
   ]
  },
  {
   "cell_type": "code",
   "execution_count": 155,
   "metadata": {},
   "outputs": [
    {
     "data": {
      "text/plain": [
       "array([[[ 0,  1,  2],\n",
       "        [ 7,  8,  9],\n",
       "        [14, 15, 16]],\n",
       "\n",
       "       [[ 3,  4,  5],\n",
       "        [10, 11, 12],\n",
       "        [17, 18, 19]],\n",
       "\n",
       "       [[21, 22, 23],\n",
       "        [28, 29, 30],\n",
       "        [35, 36, 37]],\n",
       "\n",
       "       [[24, 25, 26],\n",
       "        [31, 32, 33],\n",
       "        [38, 39, 40]]])"
      ]
     },
     "execution_count": 155,
     "metadata": {},
     "output_type": "execute_result"
    }
   ],
   "source": [
    "arrays_in_row, arrays_in_col = x.shape[0] // 3, x.shape[1] // 3\n",
    "\n",
    "np.lib.stride_tricks.as_strided(x, \n",
    "                                strides=(3*x.shape[0]*x.itemsize, 3*x.itemsize, x.shape[0]*x.itemsize, 1*x.itemsize), \n",
    "                                shape=(arrays_in_row, arrays_in_col, 3, 3)\n",
    "                               ).reshape((arrays_in_col*arrays_in_row, 3, 3))"
   ]
  },
  {
   "cell_type": "markdown",
   "metadata": {},
   "source": [
    "# task 45:\n",
    "Примените маску к элементам одномерного массива, отличающимся от среднего на величину, большую чем 3 стандартных отклонения.\n",
    "Решите задачу на примере массива из 20 элеметнов, первый из которых равен 100, а остальные равны 0."
   ]
  },
  {
   "cell_type": "code",
   "execution_count": 156,
   "metadata": {},
   "outputs": [],
   "source": [
    "length = 1000\n",
    "a = np.zeros(length)\n",
    "a[0] = 5*length"
   ]
  },
  {
   "cell_type": "code",
   "execution_count": 157,
   "metadata": {},
   "outputs": [
    {
     "name": "stdout",
     "output_type": "stream",
     "text": [
      "5.0 158.03480629279107\n"
     ]
    }
   ],
   "source": [
    "mean, std = np.mean(a), np.std(a)\n",
    "print(mean, std)"
   ]
  },
  {
   "cell_type": "code",
   "execution_count": 158,
   "metadata": {},
   "outputs": [
    {
     "name": "stdout",
     "output_type": "stream",
     "text": [
      "CPU times: user 164 µs, sys: 0 ns, total: 164 µs\n",
      "Wall time: 137 µs\n"
     ]
    },
    {
     "data": {
      "text/plain": [
       "array([5000.])"
      ]
     },
     "execution_count": 158,
     "metadata": {},
     "output_type": "execute_result"
    }
   ],
   "source": [
    "%%time\n",
    "a[np.abs(a-mean) > 3*std]"
   ]
  },
  {
   "cell_type": "code",
   "execution_count": 159,
   "metadata": {},
   "outputs": [
    {
     "name": "stdout",
     "output_type": "stream",
     "text": [
      "CPU times: user 158 µs, sys: 0 ns, total: 158 µs\n",
      "Wall time: 130 µs\n"
     ]
    },
    {
     "data": {
      "text/plain": [
       "array([5000.])"
      ]
     },
     "execution_count": 159,
     "metadata": {},
     "output_type": "execute_result"
    }
   ],
   "source": [
    "%%time\n",
    "a[(a > mean + 3 * std) | (a < mean - 3 * std)]"
   ]
  },
  {
   "cell_type": "markdown",
   "metadata": {},
   "source": [
    "### Ответ:"
   ]
  },
  {
   "cell_type": "code",
   "execution_count": 160,
   "metadata": {},
   "outputs": [
    {
     "data": {
      "text/plain": [
       "array([100.])"
      ]
     },
     "execution_count": 160,
     "metadata": {},
     "output_type": "execute_result"
    }
   ],
   "source": [
    "length = 20\n",
    "a = np.zeros(length)\n",
    "a[0] = 5*length\n",
    "mean, std = np.mean(a), np.std(a)\n",
    "a[np.abs(a-mean) > 3*std]"
   ]
  },
  {
   "cell_type": "markdown",
   "metadata": {},
   "source": [
    "# task 46:\n",
    "Удалите из двумерного массива столбцы, ко всем элементам которых применена маска.\n",
    "Решите задачу на примере массива ```x = np.ma.array([[1, 2, 3], [4, 5, 6]], mask=[[1, 1, 0], [0, 1, 0]])```."
   ]
  },
  {
   "cell_type": "code",
   "execution_count": 161,
   "metadata": {},
   "outputs": [],
   "source": [
    "x = np.ma.array([[1, 2, 3], [4, 5, 6]], mask=[[1, 1, 0], [0, 1, 0]])"
   ]
  },
  {
   "cell_type": "code",
   "execution_count": 162,
   "metadata": {},
   "outputs": [
    {
     "data": {
      "text/plain": [
       "masked_array(\n",
       "  data=[[--, --, 3],\n",
       "        [4, --, 6]],\n",
       "  mask=[[ True,  True, False],\n",
       "        [False,  True, False]],\n",
       "  fill_value=999999)"
      ]
     },
     "execution_count": 162,
     "metadata": {},
     "output_type": "execute_result"
    }
   ],
   "source": [
    "x"
   ]
  },
  {
   "cell_type": "code",
   "execution_count": 163,
   "metadata": {},
   "outputs": [
    {
     "data": {
      "text/plain": [
       "array([[1, 3],\n",
       "       [4, 6]])"
      ]
     },
     "execution_count": 163,
     "metadata": {},
     "output_type": "execute_result"
    }
   ],
   "source": [
    "np.delete(x.data, np.all(x.mask==True, axis=0), axis=1)"
   ]
  },
  {
   "cell_type": "markdown",
   "metadata": {},
   "source": [
    "# task 47:\n",
    "Примените маску к минимальному и максимальному элементу каждой строки двумерного массива.\n",
    "Решите задачу на примере массива ```x = np.arange(25).reshape(5, 5)```."
   ]
  },
  {
   "cell_type": "code",
   "execution_count": 164,
   "metadata": {},
   "outputs": [],
   "source": [
    "x = np.arange(25).reshape(5, 5)"
   ]
  },
  {
   "cell_type": "code",
   "execution_count": 165,
   "metadata": {},
   "outputs": [
    {
     "data": {
      "text/plain": [
       "array([[ 0,  1,  2,  3,  4],\n",
       "       [ 5,  6,  7,  8,  9],\n",
       "       [10, 11, 12, 13, 14],\n",
       "       [15, 16, 17, 18, 19],\n",
       "       [20, 21, 22, 23, 24]])"
      ]
     },
     "execution_count": 165,
     "metadata": {},
     "output_type": "execute_result"
    }
   ],
   "source": [
    "x"
   ]
  },
  {
   "cell_type": "code",
   "execution_count": 166,
   "metadata": {},
   "outputs": [],
   "source": [
    "#x = np.array([[0, 1, 1], [10, -10, 0]])"
   ]
  },
  {
   "cell_type": "code",
   "execution_count": 167,
   "metadata": {},
   "outputs": [
    {
     "data": {
      "text/plain": [
       "masked_array(\n",
       "  data=[[--, 1, 2, 3, --],\n",
       "        [--, 6, 7, 8, --],\n",
       "        [--, 11, 12, 13, --],\n",
       "        [--, 16, 17, 18, --],\n",
       "        [--, 21, 22, 23, --]],\n",
       "  mask=[[ True, False, False, False,  True],\n",
       "        [ True, False, False, False,  True],\n",
       "        [ True, False, False, False,  True],\n",
       "        [ True, False, False, False,  True],\n",
       "        [ True, False, False, False,  True]],\n",
       "  fill_value=999999)"
      ]
     },
     "execution_count": 167,
     "metadata": {},
     "output_type": "execute_result"
    }
   ],
   "source": [
    "np.ma.array(x, \n",
    "            mask=(np.equal(x, np.max(x, axis=1).reshape(x.shape[0], -1)) | \\\n",
    "                  np.equal(x, np.min(x, axis=1).reshape(x.shape[0], -1))))"
   ]
  },
  {
   "cell_type": "markdown",
   "metadata": {},
   "source": [
    "# task 48:\n",
    "\n",
    "Примените медианный фильтр с нечетной шириной окна k к заданному одномерному массиву a: i-е значение результирующего массива вычисляется как медиана подмассива ```a[i - (k-1)/2: i - (k-1)/2 + 1]```. В случае если границы окна выходят за границы массива, дополните исходный массив требуемым числом элементов a[0] или a[-1] с нужной стороны.\n",
    "Решите задачу на примере массива ```a = np.array([3, 8, 100, -3, -7, 4, 0, 2])``` и ширины окна k = 5."
   ]
  },
  {
   "cell_type": "code",
   "execution_count": 168,
   "metadata": {},
   "outputs": [],
   "source": [
    "a = np.array([3, 8, 100, -3, -7, 4, 0, 2])\n",
    "res = np.empty(shape=a.shape, dtype=int)\n",
    "k = 5"
   ]
  },
  {
   "cell_type": "code",
   "execution_count": 169,
   "metadata": {},
   "outputs": [
    {
     "name": "stdout",
     "output_type": "stream",
     "text": [
      "[  3   3   3   8 100  -3  -7   4   0   2   2   2]\n"
     ]
    }
   ],
   "source": [
    "skip = (k-1)//2\n",
    "a = np.pad(a, skip, mode='edge')\n",
    "print(a)"
   ]
  },
  {
   "cell_type": "code",
   "execution_count": 170,
   "metadata": {},
   "outputs": [],
   "source": [
    "for i in range(0, len(a)-k):\n",
    "    res[i] = np.median(a[i: i + k + 1])"
   ]
  },
  {
   "cell_type": "code",
   "execution_count": 171,
   "metadata": {},
   "outputs": [
    {
     "data": {
      "text/plain": [
       "array([              3,               3,               3,               2,\n",
       "                     1,               1,               2, 140499135850624])"
      ]
     },
     "execution_count": 171,
     "metadata": {},
     "output_type": "execute_result"
    }
   ],
   "source": [
    "res"
   ]
  },
  {
   "cell_type": "markdown",
   "metadata": {},
   "source": [
    "# task 49:\n",
    "\n",
    "По заданному массиву a размера Nx2 постройте одномерный массив длины N, i-й элемент которого - сумма i-го элемента первого столбца массива a и элемента первого столбца, индекс которого содержится в i-й строке второго столбца. В случае, если во втором столбце массива a содержится индекс, выходящий за границы, к элементу первого столбца ничего не прибавляйте.\n",
    "Решите задачу на примере массива ```a = np.array([[10, 1], [3, 1], [8, 2], [6, 1], [12, 5]])```."
   ]
  },
  {
   "cell_type": "code",
   "execution_count": 172,
   "metadata": {},
   "outputs": [],
   "source": [
    "a = np.array([[10, 1], [3, 1], [8, 2], [6, -1], [12, 5]])"
   ]
  },
  {
   "cell_type": "code",
   "execution_count": 173,
   "metadata": {},
   "outputs": [
    {
     "data": {
      "text/plain": [
       "array([[10,  1],\n",
       "       [ 3,  1],\n",
       "       [ 8,  2],\n",
       "       [ 6, -1],\n",
       "       [12,  5]])"
      ]
     },
     "execution_count": 173,
     "metadata": {},
     "output_type": "execute_result"
    }
   ],
   "source": [
    "a"
   ]
  },
  {
   "cell_type": "code",
   "execution_count": 174,
   "metadata": {},
   "outputs": [],
   "source": [
    "res = np.empty(shape=(a.shape[0],), dtype=int)\n",
    "for num, (x, y) in enumerate(a):\n",
    "    res[num] = x + a[y, 0] if 0 <= y < len(a) else x"
   ]
  },
  {
   "cell_type": "code",
   "execution_count": 175,
   "metadata": {},
   "outputs": [
    {
     "data": {
      "text/plain": [
       "array([13,  6, 16,  6, 12])"
      ]
     },
     "execution_count": 175,
     "metadata": {},
     "output_type": "execute_result"
    }
   ],
   "source": [
    "res"
   ]
  },
  {
   "cell_type": "markdown",
   "metadata": {},
   "source": [
    "# task 50:\n",
    "\n",
    "По заданному двумерному массиву размера NxN постройте словарь, ключи которого - индексы диагоналей, параллельных побочной (нумерация начинается с 0), а значения - списки элементов исходного массива, лежащих на соответствующих диагоналях.\n",
    "Решите задачу на примере массива ```a = np.arange(16).reshape(4, 4)```, в результате должен получиться словарь\n",
    "```\n",
    "{0: [0],\n",
    " 1: [1, 4],\n",
    " 2: [2, 5, 8],\n",
    " 3: [3, 6, 9, 12],\n",
    " 4: [7, 10, 13],\n",
    " 5: [11, 14],\n",
    " 6: [15]}.\n",
    "```"
   ]
  },
  {
   "cell_type": "code",
   "execution_count": 176,
   "metadata": {},
   "outputs": [],
   "source": [
    "a = np.arange(16).reshape(4, 4)"
   ]
  },
  {
   "cell_type": "code",
   "execution_count": 177,
   "metadata": {},
   "outputs": [
    {
     "data": {
      "text/plain": [
       "array([[ 0,  1,  2,  3],\n",
       "       [ 4,  5,  6,  7],\n",
       "       [ 8,  9, 10, 11],\n",
       "       [12, 13, 14, 15]])"
      ]
     },
     "execution_count": 177,
     "metadata": {},
     "output_type": "execute_result"
    }
   ],
   "source": [
    "a"
   ]
  },
  {
   "cell_type": "code",
   "execution_count": 178,
   "metadata": {},
   "outputs": [
    {
     "data": {
      "text/plain": [
       "array([[ 3,  2,  1,  0],\n",
       "       [ 7,  6,  5,  4],\n",
       "       [11, 10,  9,  8],\n",
       "       [15, 14, 13, 12]])"
      ]
     },
     "execution_count": 178,
     "metadata": {},
     "output_type": "execute_result"
    }
   ],
   "source": [
    "a[:, ::-1]"
   ]
  },
  {
   "cell_type": "code",
   "execution_count": 179,
   "metadata": {},
   "outputs": [],
   "source": [
    "res = {}\n",
    "for iterator in range(-a.shape[1]+1, a.shape[1]):\n",
    "    res[iterator+3] = list(np.diag(a[:, ::-1], -iterator))"
   ]
  },
  {
   "cell_type": "code",
   "execution_count": 180,
   "metadata": {},
   "outputs": [
    {
     "data": {
      "text/plain": [
       "{0: [0],\n",
       " 1: [1, 4],\n",
       " 2: [2, 5, 8],\n",
       " 3: [3, 6, 9, 12],\n",
       " 4: [7, 10, 13],\n",
       " 5: [11, 14],\n",
       " 6: [15]}"
      ]
     },
     "execution_count": 180,
     "metadata": {},
     "output_type": "execute_result"
    }
   ],
   "source": [
    "res"
   ]
  },
  {
   "cell_type": "code",
   "execution_count": null,
   "metadata": {},
   "outputs": [],
   "source": []
  }
 ],
 "metadata": {
  "kernelspec": {
   "display_name": "Python 3",
   "language": "python",
   "name": "python3"
  },
  "language_info": {
   "codemirror_mode": {
    "name": "ipython",
    "version": 3
   },
   "file_extension": ".py",
   "mimetype": "text/x-python",
   "name": "python",
   "nbconvert_exporter": "python",
   "pygments_lexer": "ipython3",
   "version": "3.6.10"
  }
 },
 "nbformat": 4,
 "nbformat_minor": 4
}
