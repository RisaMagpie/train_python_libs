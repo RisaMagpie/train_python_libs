{
 "cells": [
  {
   "cell_type": "markdown",
   "metadata": {},
   "source": [
    "Task from article [Advanced NumPy: Master stride tricks with 25 illustrated exercises](https://towardsdatascience.com/advanced-numpy-master-stride-tricks-with-25-illustrated-exercises-923a9393ab20)"
   ]
  },
  {
   "cell_type": "code",
   "execution_count": 1,
   "metadata": {},
   "outputs": [],
   "source": [
    "import math\n",
    "import numpy as np\n",
    "from numpy.lib.stride_tricks import as_strided"
   ]
  },
  {
   "cell_type": "markdown",
   "metadata": {},
   "source": [
    "# 1D exercises"
   ]
  },
  {
   "cell_type": "markdown",
   "metadata": {},
   "source": [
    "## Task 1: \n",
    "Slice first 3 elements.\n",
    "\n",
    "In: matrix 5*5 with numbers from 1 to 25 \n",
    "\n",
    "Out: row 1*3 [1, 2, 3]\n"
   ]
  },
  {
   "cell_type": "code",
   "execution_count": 2,
   "metadata": {},
   "outputs": [
    {
     "data": {
      "text/plain": [
       "array([1, 2, 3])"
      ]
     },
     "execution_count": 2,
     "metadata": {},
     "output_type": "execute_result"
    }
   ],
   "source": [
    "in_matrix = np.arange(1, 26).reshape((5, 5))\n",
    "slice_num = 3\n",
    "as_strided(in_matrix, shape=(slice_num,))"
   ]
  },
  {
   "cell_type": "markdown",
   "metadata": {},
   "source": [
    "## Task 2:\n",
    "Slice first 8 elements.\n",
    "\n",
    "In: matrix 5*5 with numbers from 1 to 25 \n",
    "\n",
    "Out: row 1*8  [1, 2, 3, ..., 8]"
   ]
  },
  {
   "cell_type": "code",
   "execution_count": 3,
   "metadata": {},
   "outputs": [
    {
     "data": {
      "text/plain": [
       "array([1, 2, 3, 4, 5, 6, 7, 8])"
      ]
     },
     "execution_count": 3,
     "metadata": {},
     "output_type": "execute_result"
    }
   ],
   "source": [
    "slice_num = 8\n",
    "as_strided(in_matrix, shape=(slice_num,))"
   ]
  },
  {
   "cell_type": "markdown",
   "metadata": {},
   "source": [
    "## Task 3:\n",
    "Flatten a 2d array\n",
    "\n",
    "In: matrix 5*5  [1, 2, 3] with numbers from 1 to 25 \n",
    "\n",
    "Out: row 1*25  [1, 2, 3, ..., 25]"
   ]
  },
  {
   "cell_type": "code",
   "execution_count": 4,
   "metadata": {},
   "outputs": [
    {
     "data": {
      "text/plain": [
       "array([ 1,  2,  3,  4,  5,  6,  7,  8,  9, 10, 11, 12, 13, 14, 15, 16, 17,\n",
       "       18, 19, 20, 21, 22, 23, 24, 25])"
      ]
     },
     "execution_count": 4,
     "metadata": {},
     "output_type": "execute_result"
    }
   ],
   "source": [
    "as_strided(in_matrix, shape=(in_matrix.size,))"
   ]
  },
  {
   "cell_type": "markdown",
   "metadata": {},
   "source": [
    "## Task 4:\n",
    "Skip every other element\n",
    "\n",
    "In: matrix 5*5  [1, 2, 3]  with numbers from 1 to 25 \n",
    "\n",
    "Out: row 1*3 ([1, 3, 5])"
   ]
  },
  {
   "cell_type": "code",
   "execution_count": 5,
   "metadata": {},
   "outputs": [
    {
     "data": {
      "text/plain": [
       "array([1, 3, 5])"
      ]
     },
     "execution_count": 5,
     "metadata": {},
     "output_type": "execute_result"
    }
   ],
   "source": [
    "it_size = in_matrix.itemsize\n",
    "skip = 2\n",
    "as_strided(in_matrix, shape=(3, ), strides=(skip*it_size, ))"
   ]
  },
  {
   "cell_type": "markdown",
   "metadata": {},
   "source": [
    "## Task 5:\n",
    "Slice first column\n",
    "\n",
    "In: matrix 5*5  with numbers from 1 to 25 \n",
    "\n",
    "Out: row 1*4 [1, 6, 11, 16]"
   ]
  },
  {
   "cell_type": "code",
   "execution_count": 6,
   "metadata": {},
   "outputs": [
    {
     "data": {
      "text/plain": [
       "array([ 1,  6, 11, 16])"
      ]
     },
     "execution_count": 6,
     "metadata": {},
     "output_type": "execute_result"
    }
   ],
   "source": [
    "col_slice = 4\n",
    "as_strided(in_matrix, shape=(col_slice, ), strides=(in_matrix.shape[1]*it_size, ))"
   ]
  },
  {
   "cell_type": "markdown",
   "metadata": {},
   "source": [
    "## Task 6:\n",
    "Slice a diagonal\n",
    "\n",
    "In: matrix 5*5  with numbers from 1 to 25 \n",
    "\n",
    "Out: row 1*5 [1, 7, 13, 19, 25]"
   ]
  },
  {
   "cell_type": "code",
   "execution_count": 7,
   "metadata": {},
   "outputs": [
    {
     "data": {
      "text/plain": [
       "array([ 1,  7, 13, 19, 25])"
      ]
     },
     "execution_count": 7,
     "metadata": {},
     "output_type": "execute_result"
    }
   ],
   "source": [
    "out_shape = (min(in_matrix.shape), ) # (5, )\n",
    "out_strides = ((in_matrix.shape[1]+1)*it_size, ) # (6*8, )\n",
    "as_strided(in_matrix, shape=out_shape, strides=out_strides)"
   ]
  },
  {
   "cell_type": "markdown",
   "metadata": {},
   "source": [
    "## Task 7:\n",
    "Repeat the frist element\n",
    "\n",
    "In: matrix 5*5  with numbers from 1 to 25 \n",
    "\n",
    "Out: row 1*5 [1, 1, 1, 1, 1]"
   ]
  },
  {
   "cell_type": "code",
   "execution_count": 8,
   "metadata": {},
   "outputs": [
    {
     "data": {
      "text/plain": [
       "array([1, 1, 1, 1, 1])"
      ]
     },
     "execution_count": 8,
     "metadata": {},
     "output_type": "execute_result"
    }
   ],
   "source": [
    "repeat_times = 5\n",
    "as_strided(in_matrix, shape=(repeat_times, ), strides=(0, ))"
   ]
  },
  {
   "cell_type": "markdown",
   "metadata": {},
   "source": [
    "# 2D exercises"
   ]
  },
  {
   "cell_type": "markdown",
   "metadata": {},
   "source": [
    "## Task 8:\n",
    "Simple 2D slicing\n",
    "\n",
    "In: matrix 5*5  with numbers from 1 to 25 \n",
    "\n",
    "Out: matrix 3*4 with cols from 0 to 3 and rows from 0 to 2"
   ]
  },
  {
   "cell_type": "code",
   "execution_count": 9,
   "metadata": {},
   "outputs": [
    {
     "data": {
      "text/plain": [
       "array([[ 1,  2,  3,  4],\n",
       "       [ 6,  7,  8,  9],\n",
       "       [11, 12, 13, 14]])"
      ]
     },
     "execution_count": 9,
     "metadata": {},
     "output_type": "execute_result"
    }
   ],
   "source": [
    "slicing_rows = (0, 4)\n",
    "slicing_cols = (0, 5)\n",
    "out_shape = (slicing_rows[1]-slicing_rows[0]-1, slicing_cols[1]-slicing_cols[0]-1) # (3, 4)\n",
    "out_strides = in_matrix.strides # (5*8, 1*8)\n",
    "as_strided(in_matrix, shape=out_shape, strides=out_strides)"
   ]
  },
  {
   "cell_type": "markdown",
   "metadata": {},
   "source": [
    "## Task 9:\n",
    "Slice a zigzag\n",
    "\n",
    "In: matrix 5*5  with numbers from 1 to 25 \n",
    "\n",
    "Out: matrix 4*2 [[1, 2], [7, 8], [13, 14], [19, 20]]"
   ]
  },
  {
   "cell_type": "code",
   "execution_count": 10,
   "metadata": {},
   "outputs": [
    {
     "data": {
      "text/plain": [
       "array([[ 1,  2],\n",
       "       [ 7,  8],\n",
       "       [13, 14],\n",
       "       [19, 20]])"
      ]
     },
     "execution_count": 10,
     "metadata": {},
     "output_type": "execute_result"
    }
   ],
   "source": [
    "zigzag_len = 2\n",
    "out_shape = (in_matrix.shape[0]-zigzag_len+1, zigzag_len) # shape=(4, 2)\n",
    "out_strides = ((in_matrix.shape[1]+1)*it_size, 1*it_size) # (6*8, 1*8)\n",
    "as_strided(in_matrix, shape=out_shape, strides=out_strides)"
   ]
  },
  {
   "cell_type": "markdown",
   "metadata": {},
   "source": [
    "## Task 10:\n",
    "Sparse slicing\n",
    "\n",
    "In: matrix 5*5  with numbers from 1 to 25 \n",
    "\n",
    "Out: matrix 3*3 with dilation 2"
   ]
  },
  {
   "cell_type": "code",
   "execution_count": 11,
   "metadata": {},
   "outputs": [
    {
     "data": {
      "text/plain": [
       "array([[ 1,  3,  5],\n",
       "       [11, 13, 15],\n",
       "       [21, 23, 25]])"
      ]
     },
     "execution_count": 11,
     "metadata": {},
     "output_type": "execute_result"
    }
   ],
   "source": [
    "dilation = 2\n",
    "out_shape = [math.ceil(shape_elem/dilation) for shape_elem in in_matrix.shape] # (3, 3)\n",
    "out_strides = [stride_elem*dilation for stride_elem in in_matrix.strides] # (2*5*8, 2*1*8)\n",
    "as_strided(in_matrix, shape=out_shape, strides=out_strides)"
   ]
  },
  {
   "cell_type": "markdown",
   "metadata": {},
   "source": [
    "## Task 11:\n",
    "Transpose a 2D array\n",
    "\n",
    "In: matrix 5*5  with numbers from 1 to 25 \n",
    "\n",
    "Out: matrix 3*3 of cols from 0 to 2 rows from 0 to 2 and transposed"
   ]
  },
  {
   "cell_type": "code",
   "execution_count": 12,
   "metadata": {},
   "outputs": [
    {
     "data": {
      "text/plain": [
       "array([[ 1,  6, 11],\n",
       "       [ 2,  7, 12],\n",
       "       [ 3,  8, 13]])"
      ]
     },
     "execution_count": 12,
     "metadata": {},
     "output_type": "execute_result"
    }
   ],
   "source": [
    "out_shape = (3, 3) \n",
    "out_strides = (1*it_size, in_matrix.shape[1]*it_size) # (1*8, 5*8)\n",
    "as_strided(in_matrix, shape=out_shape, strides=out_strides)"
   ]
  },
  {
   "cell_type": "markdown",
   "metadata": {},
   "source": [
    "## Task 12:\n",
    "Repeat the first column 4 times\n",
    "\n",
    "In: matrix 5*5  with numbers from 1 to 25 \n",
    "\n",
    "Out: matrix 5*4"
   ]
  },
  {
   "cell_type": "code",
   "execution_count": 13,
   "metadata": {},
   "outputs": [
    {
     "data": {
      "text/plain": [
       "array([[ 1,  1,  1,  1],\n",
       "       [ 6,  6,  6,  6],\n",
       "       [11, 11, 11, 11],\n",
       "       [16, 16, 16, 16],\n",
       "       [21, 21, 21, 21]])"
      ]
     },
     "execution_count": 13,
     "metadata": {},
     "output_type": "execute_result"
    }
   ],
   "source": [
    "repeat_times = 4\n",
    "out_shape = (in_matrix.shape[0], repeat_times) # (5, 4)\n",
    "out_strides = (in_matrix.shape[1]*it_size, 0) # (5*8, 0)\n",
    "as_strided(in_matrix, shape=out_shape, strides=out_strides)"
   ]
  },
  {
   "cell_type": "markdown",
   "metadata": {},
   "source": [
    "## Task 13:\n",
    "Reshape 1D array to 2D array\n",
    "\n",
    "In: row 1*12 with values from 1 to 12\n",
    "\n",
    "Out: matrix 4*3"
   ]
  },
  {
   "cell_type": "code",
   "execution_count": 14,
   "metadata": {},
   "outputs": [],
   "source": [
    "in_row = np.arange(1, 13)"
   ]
  },
  {
   "cell_type": "code",
   "execution_count": 15,
   "metadata": {},
   "outputs": [
    {
     "data": {
      "text/plain": [
       "array([[ 1,  2,  3],\n",
       "       [ 4,  5,  6],\n",
       "       [ 7,  8,  9],\n",
       "       [10, 11, 12]])"
      ]
     },
     "execution_count": 15,
     "metadata": {},
     "output_type": "execute_result"
    }
   ],
   "source": [
    "output_shape = (4, 3)\n",
    "output_strides = (output_shape[1]*it_size, 1*it_size) # (3*8, 1*8)\n",
    "as_strided(in_row, shape=output_shape, strides=output_strides)"
   ]
  },
  {
   "cell_type": "markdown",
   "metadata": {},
   "source": [
    "## Task 14:\n",
    "Slide a 1D window\n",
    "\n",
    "In: row 1*10 with values from 1 to 10\n",
    "\n",
    "Out: matrix 8*3\n",
    "    \n",
    " * first col: from 1 to 8\n",
    " * second col: from 2 to 9\n",
    " * third col: from 3 to 10"
   ]
  },
  {
   "cell_type": "code",
   "execution_count": 16,
   "metadata": {},
   "outputs": [],
   "source": [
    "in_row = np.arange(1, 11)"
   ]
  },
  {
   "cell_type": "code",
   "execution_count": 17,
   "metadata": {},
   "outputs": [
    {
     "data": {
      "text/plain": [
       "array([[ 1,  2,  3],\n",
       "       [ 2,  3,  4],\n",
       "       [ 3,  4,  5],\n",
       "       [ 4,  5,  6],\n",
       "       [ 5,  6,  7],\n",
       "       [ 6,  7,  8],\n",
       "       [ 7,  8,  9],\n",
       "       [ 8,  9, 10]])"
      ]
     },
     "execution_count": 17,
     "metadata": {},
     "output_type": "execute_result"
    }
   ],
   "source": [
    "window_shape = 8\n",
    "output_shape = (window_shape, len(in_row)-window_shape+1) # (8, 3)\n",
    "as_strided(in_row, shape=output_shape, strides=(1*it_size, 1*it_size))"
   ]
  },
  {
   "cell_type": "markdown",
   "metadata": {},
   "source": [
    "## Task 15:\n",
    "Slide a 2D window then flatten\n",
    "\n",
    "<img src=\"images/strides/15_task.PNG\" height=800, width=800>\n"
   ]
  },
  {
   "cell_type": "code",
   "execution_count": 18,
   "metadata": {},
   "outputs": [],
   "source": [
    "first_col = np.arange(0, 60, 10).reshape(6, 1)\n",
    "in_matrix = np.hstack([first_col, first_col+1])"
   ]
  },
  {
   "cell_type": "code",
   "execution_count": 19,
   "metadata": {},
   "outputs": [
    {
     "data": {
      "text/plain": [
       "array([[ 0,  1],\n",
       "       [10, 11],\n",
       "       [20, 21],\n",
       "       [30, 31],\n",
       "       [40, 41],\n",
       "       [50, 51]])"
      ]
     },
     "execution_count": 19,
     "metadata": {},
     "output_type": "execute_result"
    }
   ],
   "source": [
    "in_matrix"
   ]
  },
  {
   "cell_type": "code",
   "execution_count": 20,
   "metadata": {},
   "outputs": [
    {
     "data": {
      "text/plain": [
       "array([[ 0,  1, 10, 11, 20, 21],\n",
       "       [10, 11, 20, 21, 30, 31],\n",
       "       [20, 21, 30, 31, 40, 41],\n",
       "       [30, 31, 40, 41, 50, 51]])"
      ]
     },
     "execution_count": 20,
     "metadata": {},
     "output_type": "execute_result"
    }
   ],
   "source": [
    "window_shape = (3, 2)\n",
    "out_matrix_shape = (in_matrix.shape[0]-window_shape[0]+1, np.prod(window_shape)) # (4, 6)\n",
    "out_matrix_strides = (window_shape[1]*it_size, 1*it_size) # (2*8, 1*8)\n",
    "as_strided(in_matrix, shape=out_matrix_shape, strides=out_matrix_strides)"
   ]
  },
  {
   "cell_type": "markdown",
   "metadata": {},
   "source": [
    "## Task 16:\n",
    "Collapse an axis from a 3D array\n",
    "\n",
    "<img src=\"images/strides/16_task.PNG\" height=600, width=600>\n"
   ]
  },
  {
   "cell_type": "code",
   "execution_count": 21,
   "metadata": {},
   "outputs": [],
   "source": [
    "first_part = np.arange(1, 5).reshape(2, 2)\n",
    "elements_amount = 3\n",
    "in_array = np.array([first_part + num*4 for num in range(elements_amount)])"
   ]
  },
  {
   "cell_type": "code",
   "execution_count": 22,
   "metadata": {},
   "outputs": [
    {
     "data": {
      "text/plain": [
       "array([[[ 1,  2],\n",
       "        [ 3,  4]],\n",
       "\n",
       "       [[ 5,  6],\n",
       "        [ 7,  8]],\n",
       "\n",
       "       [[ 9, 10],\n",
       "        [11, 12]]])"
      ]
     },
     "execution_count": 22,
     "metadata": {},
     "output_type": "execute_result"
    }
   ],
   "source": [
    "in_array"
   ]
  },
  {
   "cell_type": "code",
   "execution_count": 23,
   "metadata": {},
   "outputs": [
    {
     "data": {
      "text/plain": [
       "array([[ 1,  2,  3,  4],\n",
       "       [ 5,  6,  7,  8],\n",
       "       [ 9, 10, 11, 12]])"
      ]
     },
     "execution_count": 23,
     "metadata": {},
     "output_type": "execute_result"
    }
   ],
   "source": [
    "out_matrix_shape = (in_array.shape[0], in_array.shape[1]*in_array.shape[2]) # (3, 4)\n",
    "out_matrix_strides = (in_array.shape[1]*in_array.shape[2]*it_size, 1*it_size) # (4*8, 1*8)\n",
    "as_strided(in_array, shape=out_matrix_shape, strides=out_matrix_strides)"
   ]
  },
  {
   "cell_type": "markdown",
   "metadata": {},
   "source": [
    "# 3D exercises"
   ]
  },
  {
   "cell_type": "code",
   "execution_count": null,
   "metadata": {},
   "outputs": [],
   "source": []
  }
 ],
 "metadata": {
  "kernelspec": {
   "display_name": "Python 3",
   "language": "python",
   "name": "python3"
  },
  "language_info": {
   "codemirror_mode": {
    "name": "ipython",
    "version": 3
   },
   "file_extension": ".py",
   "mimetype": "text/x-python",
   "name": "python",
   "nbconvert_exporter": "python",
   "pygments_lexer": "ipython3",
   "version": "3.6.10"
  }
 },
 "nbformat": 4,
 "nbformat_minor": 4
}
